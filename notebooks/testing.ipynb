{
 "cells": [
  {
   "cell_type": "code",
   "execution_count": 1,
   "metadata": {},
   "outputs": [
    {
     "name": "stderr",
     "output_type": "stream",
     "text": [
      "yt : [INFO     ] 2017-02-21 16:25:06,046 Loading plugins from /home/emerick/.yt/my_plugins.py\n",
      "/home/emerick/anaconda/lib/python2.7/site-packages/matplotlib/__init__.py:1350: UserWarning:  This call to matplotlib.use() has no effect\n",
      "because the backend has already been chosen;\n",
      "matplotlib.use() must be called *before* pylab, matplotlib.pyplot,\n",
      "or matplotlib.backends is imported for the first time.\n",
      "\n",
      "  warnings.warn(_use_error_msg)\n"
     ]
    }
   ],
   "source": [
    "%matplotlib inline\n",
    "\n",
    "import numpy as np\n",
    "import matplotlib.pyplot as plt\n",
    "import galaxy_analysis as ga"
   ]
  },
  {
   "cell_type": "code",
   "execution_count": 7,
   "metadata": {
    "scrolled": true
   },
   "outputs": [
    {
     "name": "stderr",
     "output_type": "stream",
     "text": [
      "yt : [INFO     ] 2017-02-21 16:33:18,461 Parameters: current_time              = 156.999907313\n",
      "yt : [INFO     ] 2017-02-21 16:33:18,462 Parameters: domain_dimensions         = [128 128 128]\n",
      "yt : [INFO     ] 2017-02-21 16:33:18,463 Parameters: domain_left_edge          = [ 0.  0.  0.]\n",
      "yt : [INFO     ] 2017-02-21 16:33:18,463 Parameters: domain_right_edge         = [ 1.  1.  1.]\n",
      "yt : [INFO     ] 2017-02-21 16:33:18,464 Parameters: cosmological_simulation   = 0.0\n",
      "yt : [INFO     ] 2017-02-21 16:33:18,478 Parameters: current_time              = 156.999907313\n",
      "yt : [INFO     ] 2017-02-21 16:33:18,478 Parameters: domain_dimensions         = [128 128 128]\n",
      "yt : [INFO     ] 2017-02-21 16:33:18,479 Parameters: domain_left_edge          = [ 0.  0.  0.]\n",
      "yt : [INFO     ] 2017-02-21 16:33:18,479 Parameters: domain_right_edge         = [ 1.  1.  1.]\n",
      "yt : [INFO     ] 2017-02-21 16:33:18,480 Parameters: cosmological_simulation   = 0.0\n",
      "Parsing Hierarchy : 100%|██████████| 302/302 [00:00<00:00, 45088.81it/s]\n",
      "yt : [INFO     ] 2017-02-21 16:33:18,500 Gathering a field list (this may take a moment.)\n"
     ]
    }
   ],
   "source": [
    "home = \"/home/emerick/work/enzo_runs/leo_p_stampede/fullres/run13/3parsec/\"\n",
    "\n",
    "galaxy = ga.Galaxy(\"DD0040\", wdir = home)"
   ]
  },
  {
   "cell_type": "code",
   "execution_count": 8,
   "metadata": {},
   "outputs": [
    {
     "name": "stderr",
     "output_type": "stream",
     "text": [
      "yt : [INFO     ] 2017-02-21 16:34:00,253 Projection completed\n",
      "yt : [INFO     ] 2017-02-21 16:34:00,386 Projection completed\n"
     ]
    }
   ],
   "source": [
    "galaxy.compute_everything()\n",
    "galaxy.save()"
   ]
  },
  {
   "cell_type": "code",
   "execution_count": 4,
   "metadata": {},
   "outputs": [
    {
     "data": {
      "text/plain": [
       "YTArray([  1.27787509e+08,   1.29787509e+08,   1.31787509e+08,\n",
       "         1.33787509e+08,   1.35787509e+08,   1.37787509e+08,\n",
       "         1.39787509e+08,   1.41787509e+08,   1.43787509e+08,\n",
       "         1.45787509e+08,   1.47787509e+08,   1.49787509e+08,\n",
       "         1.51787509e+08,   1.53787509e+08,   1.55787509e+08]) yr"
      ]
     },
     "execution_count": 4,
     "metadata": {},
     "output_type": "execute_result"
    }
   ],
   "source": [
    "galaxy.time_data['time']"
   ]
  },
  {
   "cell_type": "code",
   "execution_count": 5,
   "metadata": {},
   "outputs": [
    {
     "data": {
      "text/plain": [
       "array([  0.00000000e+00,   5.05809196e-05,   4.29914982e-04,\n",
       "         3.73939524e-04,   3.25628158e-04,   1.24878338e-03,\n",
       "         2.07376278e-03,   2.81310595e-03,   5.93158125e-03,\n",
       "         4.16779286e-03,   3.28089148e-03,   3.50902450e-03,\n",
       "         2.70662064e-03,   2.44202003e-03,   3.64011393e-03])"
      ]
     },
     "execution_count": 5,
     "metadata": {},
     "output_type": "execute_result"
    }
   ],
   "source": [
    "galaxy.time_data['SFR']"
   ]
  },
  {
   "cell_type": "code",
   "execution_count": null,
   "metadata": {},
   "outputs": [],
   "source": []
  },
  {
   "cell_type": "code",
   "execution_count": null,
   "metadata": {
    "collapsed": true
   },
   "outputs": [],
   "source": []
  },
  {
   "cell_type": "code",
   "execution_count": null,
   "metadata": {},
   "outputs": [],
   "source": []
  },
  {
   "cell_type": "code",
   "execution_count": null,
   "metadata": {
    "collapsed": true
   },
   "outputs": [],
   "source": []
  }
 ],
 "metadata": {
  "kernelspec": {
   "display_name": "Python 2",
   "language": "python",
   "name": "python2"
  },
  "language_info": {
   "codemirror_mode": {
    "name": "ipython",
    "version": 2
   },
   "file_extension": ".py",
   "mimetype": "text/x-python",
   "name": "python",
   "nbconvert_exporter": "python",
   "pygments_lexer": "ipython2",
   "version": "2.7.13"
  }
 },
 "nbformat": 4,
 "nbformat_minor": 1
}
