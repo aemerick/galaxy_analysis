{
 "cells": [
  {
   "cell_type": "code",
   "execution_count": 5,
   "metadata": {},
   "outputs": [],
   "source": [
    "import timeit\n",
    "import numpy as np\n",
    "import statsmodels.stats.weightstats as stats\n",
    "import statsmodels.tsa.stattools as stattools\n"
   ]
  },
  {
   "cell_type": "code",
   "execution_count": 53,
   "metadata": {},
   "outputs": [],
   "source": [
    "def weighted_quantile(values, quantiles, sample_weight=None, values_sorted=False):\n",
    "    \"\"\" Very close to np.percentile, but supports weights.\n",
    "    NOTE: quantiles should be in [0, 1]!\n",
    "    :param values: np.array with data\n",
    "    :param quantiles: array-like with many quantiles needed\n",
    "    :param sample_weight: array-like of the same length as `array`\n",
    "    :param values_sorted: bool, if True, then will avoid sorting of initial array\n",
    "    :param old_style: if True, will correct output to be consistent with np.percentile.\n",
    "    :return: np.array with computed quantiles.\n",
    "    \"\"\"\n",
    "    values = np.array(values)\n",
    "    quantiles = np.array(quantiles)\n",
    "    if sample_weight is None:\n",
    "        sample_weight = np.ones(len(values))\n",
    "    sample_weight = np.array(sample_weight)\n",
    "    assert np.all(quantiles >= 0) and np.all(quantiles <= 1), 'quantiles should be in [0, 1]'\n",
    "\n",
    "    if not values_sorted:\n",
    "        sorter = np.argsort(values)\n",
    "        values = values[sorter]\n",
    "        sample_weight = sample_weight[sorter]\n",
    "\n",
    "    weighted_quantiles = np.cumsum(sample_weight) - 0.5 * sample_weight\n",
    "    weighted_quantiles /= np.sum(sample_weight)\n",
    "\n",
    "    return np.interp(quantiles, weighted_quantiles, values)"
   ]
  },
  {
   "cell_type": "code",
   "execution_count": 59,
   "metadata": {},
   "outputs": [],
   "source": [
    "def desc_stats(x, w):\n",
    "    s = stats.DescrStatsW(x, weights = w)\n",
    "\n",
    "    d = {}\n",
    "    d['mean']     = s.mean\n",
    "    d['std' ]     = s.std\n",
    "    q             = s.quantile( np.array([0.10, 0.25, 0.5, 0.75, 0.90]), return_pandas = False)\n",
    "    d['decile_1'] = q[0] # save 10% and 90% intervals as well\n",
    "    d['Q1']       = q[1]\n",
    "    d['median']   = q[2]\n",
    "    d['Q3']       = q[3]\n",
    "    d['decile_9']      = q[4]\n",
    "    d['inner_quartile_range'] = d['Q3'] - d['Q1']\n",
    "    d['q90_q10_range']        = d['decile_9'] - d['decile_1']\n",
    "    d['variance'] = d['std']*d['std']\n",
    "    \n",
    "    d['min']      = np.min(x)\n",
    "    d['max']      = np.max(x)\n",
    "    \n",
    "    return d\n",
    "\n",
    "def numpy_stats(x, w):\n",
    "\n",
    "    d = {}\n",
    "    d['mean']     = np.average(x, weights=w)   \n",
    "    d['variance'] = np.average( (x-d['mean'])**2, weights=w)\n",
    "    d['std']      = np.sqrt(d['variance'])\n",
    "    \n",
    "    q             = weighted_quantile(x, [0.1, 0.25, 0.5, 0.75, 0.9], sample_weight=w)\n",
    "    d['decile_1']  = q[0] # save 10% and 90% intervals as well\n",
    "    d['Q1']        = q[1]\n",
    "    d['median']    = q[2]\n",
    "    d['Q3']        = q[3]\n",
    "    d['decile_9']  = q[4]\n",
    "    d['inner_quartile_range'] = d['Q3'] - d['Q1']\n",
    "    d['q90_q10_range']        = d['decile_9'] - d['decile_1']\n",
    "    \n",
    "    d['min']      = np.min(x)\n",
    "    d['max']      = np.max(x)\n",
    "    \n",
    "    return d\n",
    "\n",
    "def numpy_stats2(x, w):\n",
    "\n",
    "    d = {}\n",
    "    d['mean']     = np.average(x, weights=w)   \n",
    "    d['variance'] = np.average( (x-d['mean'])**2, weights=w)\n",
    "    d['std']      = np.sqrt(d['variance'])\n",
    "    \n",
    "    q             = weighted_quantile(x, [0.1, 0.25, 0.5, 0.75, 0.9], sample_weight=w, old_style = True)\n",
    "    d['decile_1']  = q[0] # save 10% and 90% intervals as well\n",
    "    d['Q1']        = q[1]\n",
    "    d['median']    = q[2]\n",
    "    d['Q3']        = q[3]\n",
    "    d['decile_9']  = q[4]\n",
    "    d['inner_quartile_range'] = d['Q3'] - d['Q1']\n",
    "    d['q90_q10_range']        = d['decile_9'] - d['decile_1']\n",
    "    \n",
    "    d['min']      = np.min(x)\n",
    "    d['max']      = np.max(x)\n",
    "    \n",
    "    return d\n",
    "\n",
    "data = np.random.rand(10000)\n",
    "dataw = np.random.normal(size = 10000)\n",
    "dataw = dataw + np.abs(np.min(dataw))*1.000001  # make all positive and non-zero\n",
    "dataw *= 1000\n",
    "def wrapped_numpy_stats():\n",
    "    numpy_stats(data,dataw)\n",
    "    return\n",
    "def wrapped_desc_stats():\n",
    "    desc_stats(data,dataw)\n",
    "    return\n",
    "    \n",
    "    "
   ]
  },
  {
   "cell_type": "code",
   "execution_count": null,
   "metadata": {},
   "outputs": [],
   "source": []
  },
  {
   "cell_type": "raw",
   "metadata": {},
   "source": [
    "\n"
   ]
  },
  {
   "cell_type": "code",
   "execution_count": 60,
   "metadata": {},
   "outputs": [
    {
     "name": "stdout",
     "output_type": "stream",
     "text": [
      "For 100 tries of both\n",
      "numpy:  0.0802929401398\n",
      "desc:  0.319199085236\n",
      "desc / numpy:  3.97543152212\n",
      "0.251545019562\n"
     ]
    }
   ],
   "source": [
    "number = 100\n",
    "\n",
    "np_time = (timeit.timeit(wrapped_numpy_stats, number = number))\n",
    "desc_time = (timeit.timeit(wrapped_desc_stats, number = number))\n",
    "\n",
    "print \"For 100 tries of both\"\n",
    "print \"numpy: \", np_time\n",
    "print \"desc: \", desc_time\n",
    "print \"desc / numpy: \", desc_time / np_time\n",
    "print np_time / desc_time"
   ]
  },
  {
   "cell_type": "code",
   "execution_count": 61,
   "metadata": {},
   "outputs": [],
   "source": [
    "np_result = numpy_stats(data,dataw)\n",
    "#np_result_2 = numpy_stats2(data,dataw)\n",
    "desc_result = desc_stats(data,dataw)"
   ]
  },
  {
   "cell_type": "code",
   "execution_count": 62,
   "metadata": {},
   "outputs": [
    {
     "name": "stdout",
     "output_type": "stream",
     "text": [
      "                 std 2.88492E-01   2.90422E-01   2.88492E-01\n",
      "                  Q1 2.49221E-01   2.51932E-01   2.49169E-01\n",
      "                  Q3 7.49901E-01   7.55453E-01   7.49910E-01\n",
      "            decile_9 8.98832E-01   9.02285E-01   8.98771E-01\n",
      "                 min 1.76849E-05   1.69898E-04   1.76849E-05\n",
      "              median 4.99413E-01   5.02566E-01   4.99369E-01\n",
      "            decile_1 9.89935E-02   9.50022E-02   9.90078E-02\n",
      "       q90_q10_range 7.99838E-01   8.07283E-01   7.99763E-01\n",
      "inner_quartile_range 5.00679E-01   5.03521E-01   5.00741E-01\n",
      "                 max 9.99913E-01   9.99883E-01   9.99913E-01\n",
      "            variance 8.32278E-02   8.43451E-02   8.32278E-02\n",
      "                mean 4.99898E-01   5.01400E-01   4.99898E-01\n"
     ]
    }
   ],
   "source": [
    "for k in np_result.keys():\n",
    "    print \"%20s %5.5E   %5.5E   %5.5E\"%(k, np_result[k], np_result_2[k], desc_result[k])"
   ]
  },
  {
   "cell_type": "code",
   "execution_count": 63,
   "metadata": {},
   "outputs": [
    {
     "data": {
      "text/plain": [
       "8.6528199810716064e-05"
      ]
     },
     "execution_count": 63,
     "metadata": {},
     "output_type": "execute_result"
    }
   ],
   "source": [
    "(np_result['median'] - desc_result['median']) / (desc_result['median'])"
   ]
  },
  {
   "cell_type": "code",
   "execution_count": null,
   "metadata": {},
   "outputs": [],
   "source": []
  }
 ],
 "metadata": {
  "kernelspec": {
   "display_name": "Python 2",
   "language": "python",
   "name": "python2"
  },
  "language_info": {
   "codemirror_mode": {
    "name": "ipython",
    "version": 2
   },
   "file_extension": ".py",
   "mimetype": "text/x-python",
   "name": "python",
   "nbconvert_exporter": "python",
   "pygments_lexer": "ipython2",
   "version": "2.7.14"
  }
 },
 "nbformat": 4,
 "nbformat_minor": 2
}
