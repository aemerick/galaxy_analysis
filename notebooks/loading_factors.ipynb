{
 "cells": [
  {
   "cell_type": "code",
   "execution_count": 1,
   "metadata": {},
   "outputs": [],
   "source": [
    "%matplotlib inline\n",
    "import numpy as np\n",
    "import yt\n",
    "from galaxy_analysis import Galaxy\n",
    "import matplotlib.pyplot as plt\n",
    "from galaxy_analysis.plot.plot_styles import *"
   ]
  },
  {
   "cell_type": "code",
   "execution_count": 2,
   "metadata": {},
   "outputs": [],
   "source": [
    "wdir = \"/media/aemerick/Seagate Expansion Drive/FlatironData/run11_30km/sn_H2atten_H2sh/\"\n",
    "\n",
    "ds = yt.load(wdir + 'DD0239/DD0239')\n",
    "data = ds.all_data()\n",
    "\n",
    "#gal = Galaxy('DD0369',wdir=wdir)"
   ]
  },
  {
   "cell_type": "code",
   "execution_count": 3,
   "metadata": {},
   "outputs": [],
   "source": [
    "#gal.ds.derived_field_list"
   ]
  },
  {
   "cell_type": "code",
   "execution_count": 4,
   "metadata": {},
   "outputs": [
    {
     "name": "stderr",
     "output_type": "stream",
     "text": [
      "Parsing Hierarchy : 100%|██████████| 2382/2382 [00:00<00:00, 10875.71it/s]\n"
     ]
    },
    {
     "data": {
      "text/plain": [
       "YTArray([1.37330443e+12, 1.38117453e+12, 1.37932464e+12, ...,\n",
       "         3.22705553e+11, 4.44269137e+11, 3.66920773e+11]) erg/g"
      ]
     },
     "execution_count": 4,
     "metadata": {},
     "output_type": "execute_result"
    }
   ],
   "source": [
    "data['thermal_energy']"
   ]
  },
  {
   "cell_type": "code",
   "execution_count": 5,
   "metadata": {},
   "outputs": [],
   "source": [
    "#\n",
    "# Define region\n",
    "#\n",
    "dL = 400 * yt.units.pc\n",
    "region = None\n",
    "above_region = data.cut_region([\"(obj['cylindrical_z'].in_units('kpc') > 0.8) & (obj['cylindrical_z'].in_units('kpc') < 1.2) & (obj['cylindrical_radius'].in_units('kpc') < 2)\"])\n",
    "above_hot_region = above_region.cut_region([\"obj['temperature'].in_units('K') > 3.0E5\"])\n",
    "above_cold_region = above_region.cut_region([\"obj['temperature'].in_units('K') < 3.0E5\"])\n",
    "\n",
    "below_region = data.cut_region([\"(obj['cylindrical_z'].in_units('kpc') < -0.8) & np.abs(obj['cylindrical_z'].in_units('kpc') > -1.2) & (obj['cylindrical_radius'].in_units('kpc') < 2)\"])\n",
    "below_hot_region = below_region.cut_region([\"obj['temperature'].in_units('K') > 3.0E5\"])\n",
    "below_cold_region = below_region.cut_region([\"obj['temperature'].in_units('K') < 3.0E5\"])"
   ]
  },
  {
   "cell_type": "code",
   "execution_count": null,
   "metadata": {},
   "outputs": [],
   "source": []
  },
  {
   "cell_type": "code",
   "execution_count": 6,
   "metadata": {},
   "outputs": [],
   "source": [
    "#\n",
    "# Define region\n",
    "#\n",
    "\n",
    "def compute_energy_loading(ds, data):\n",
    "    \n",
    "    birth_mass = data['birth_mass']\n",
    "    birth_time = data['creation_time'].to('Myr')\n",
    "    pt = data['particle_type']\n",
    "\n",
    "    t = ds.current_time.to('Myr')\n",
    "\n",
    "\n",
    "    select = ((birth_mass > 8.0) * (birth_mass < 25.0)) * (pt > 11) * ((t - birth_time ) < 40*yt.units.Myr)\n",
    "\n",
    "    N_SN = np.size(birth_mass[select])\n",
    "\n",
    "    dL = 200 * yt.units.pc\n",
    "    region = None\n",
    "    above_region = data.cut_region([\"(obj['cylindrical_z'].in_units('kpc') > 0.9) & (obj['cylindrical_z'].in_units('kpc') < 1.1) & (obj['cylindrical_radius'].in_units('kpc') < 2)\"])\n",
    "    above_hot_region = above_region.cut_region([\"obj['temperature'].in_units('K') > 3.0E5\"])\n",
    "    above_cold_region = above_region.cut_region([\"obj['temperature'].in_units('K') < 3.0E5\"])\n",
    "    above_colder_region = above_region.cut_region([\"obj['temperature'].in_units('K') < 1.0E4\"])\n",
    "\n",
    "    below_region = data.cut_region([\"(obj['cylindrical_z'].in_units('kpc') < -0.9) & np.abs(obj['cylindrical_z'].in_units('kpc') > -1.1) & (obj['cylindrical_radius'].in_units('kpc') < 2)\"])\n",
    "    below_hot_region = below_region.cut_region([\"obj['temperature'].in_units('K') > 3.0E5\"])\n",
    "    below_cold_region = below_region.cut_region([\"obj['temperature'].in_units('K') < 3.0E5\"])\n",
    "    below_colder_region = below_region.cut_region([\"obj['temperature'].in_units('K') < 1.0E4\"])\n",
    "\n",
    "\n",
    "    vals = np.zeros(4)\n",
    "    \n",
    "    if N_SN == 0:\n",
    "        print(\"No Supernova this time step\")\n",
    "        return vals\n",
    "    \n",
    "    \n",
    "    i = 0\n",
    "    for above_reg, below_reg in [(above_region, below_region),\n",
    "                                 (above_hot_region,below_hot_region),\n",
    "                                 (above_cold_region,below_cold_region),\n",
    "                                 (above_colder_region,below_colder_region)]:\n",
    "    \n",
    "        M  = above_reg['cell_mass'].to('Msun')\n",
    "        v  = above_reg['z-velocity'].to('km/s')\n",
    "        cV = above_reg['cell_volume'].to('cm**(3)')\n",
    "        KE = 0.5*M*above_reg['velocity_magnitude']**2\n",
    "        \n",
    "        select = v > 0                  \n",
    "        above_E_out_therm = (v / dL * above_reg['thermal_energy'].to('erg/g') * M).to('erg/s')[select]\n",
    "        above_E_out_kin   = (v / dL * KE).to('erg/s')[select]\n",
    "    \n",
    "        M  = below_reg['cell_mass'].to('Msun')\n",
    "        v  = below_reg['z-velocity'].to('km/s')\n",
    "        cV = below_reg['cell_volume'].to('cm**(3)')\n",
    "        KE = 0.5*M*below_reg['velocity_magnitude']**2\n",
    "        \n",
    "        select = v < 0           \n",
    "        below_E_out_therm = (-v / dL * below_reg['thermal_energy'].to('erg/g') * M).to('erg/s')[select]\n",
    "        below_E_out_kin   = (-v / dL * KE).to('erg/s')[select]    \n",
    "    \n",
    "    \n",
    "        E_out_therm = np.sum(above_E_out_therm) + np.sum(below_E_out_therm)\n",
    "        E_out_kin   = np.sum(above_E_out_kin  ) + np.sum(below_E_out_kin  )\n",
    "        E_out_tot   = E_out_therm + E_out_kin\n",
    "    \n",
    "        #print(\"Out-rate      :  %10.3E %10.3E %10.3E\"%(E_out_therm.value, E_out_kin.value, E_out_tot.value))\n",
    "        x = N_SN*yt.units.erg*1.0E51 / ((40.0*yt.units.Myr).to('s'))\n",
    "        #print(\"Loading Factor: %10.3E %10.3E %10.3E\"%((E_out_therm/x).value, (E_out_kin/x).value, (E_out_tot/x).value))\n",
    "    \n",
    "\n",
    "        vals[i] = (E_out_tot/x).value\n",
    "        i = i + 1\n",
    "    \n",
    "    return vals"
   ]
  },
  {
   "cell_type": "code",
   "execution_count": 11,
   "metadata": {},
   "outputs": [
    {
     "name": "stdout",
     "output_type": "stream",
     "text": [
      "['/media/aemerick/Seagate Expansion Drive/FlatironData/run11_30km/sn_H2atten_H2sh/DD0000/DD0000'\n",
      " '/media/aemerick/Seagate Expansion Drive/FlatironData/run11_30km/sn_H2atten_H2sh/DD0025/DD0025'\n",
      " '/media/aemerick/Seagate Expansion Drive/FlatironData/run11_30km/sn_H2atten_H2sh/DD0050/DD0050'\n",
      " '/media/aemerick/Seagate Expansion Drive/FlatironData/run11_30km/sn_H2atten_H2sh/DD0075/DD0075'\n",
      " '/media/aemerick/Seagate Expansion Drive/FlatironData/run11_30km/sn_H2atten_H2sh/DD0100/DD0100'\n",
      " '/media/aemerick/Seagate Expansion Drive/FlatironData/run11_30km/sn_H2atten_H2sh/DD0125/DD0125'\n",
      " '/media/aemerick/Seagate Expansion Drive/FlatironData/run11_30km/sn_H2atten_H2sh/DD0150/DD0150'\n",
      " '/media/aemerick/Seagate Expansion Drive/FlatironData/run11_30km/sn_H2atten_H2sh/DD0175/DD0175'\n",
      " '/media/aemerick/Seagate Expansion Drive/FlatironData/run11_30km/sn_H2atten_H2sh/DD0200/DD0200'\n",
      " '/media/aemerick/Seagate Expansion Drive/FlatironData/run11_30km/sn_H2atten_H2sh/DD0225/DD0225'\n",
      " '/media/aemerick/Seagate Expansion Drive/FlatironData/run11_30km/sn_H2atten_H2sh/DD0250/DD0250'\n",
      " '/media/aemerick/Seagate Expansion Drive/FlatironData/run11_30km/sn_H2atten_H2sh/DD0275/DD0275'\n",
      " '/media/aemerick/Seagate Expansion Drive/FlatironData/run11_30km/sn_H2atten_H2sh/DD0300/DD0300'\n",
      " '/media/aemerick/Seagate Expansion Drive/FlatironData/run11_30km/sn_H2atten_H2sh/DD0325/DD0325'\n",
      " '/media/aemerick/Seagate Expansion Drive/FlatironData/run11_30km/sn_H2atten_H2sh/DD0350/DD0350'\n",
      " '/media/aemerick/Seagate Expansion Drive/FlatironData/run11_30km/sn_H2atten_H2sh/DD0375/DD0375'\n",
      " '/media/aemerick/Seagate Expansion Drive/FlatironData/run11_30km/sn_H2atten_H2sh/DD0400/DD0400'\n",
      " '/media/aemerick/Seagate Expansion Drive/FlatironData/run11_30km/sn_H2atten_H2sh/DD0425/DD0425'\n",
      " '/media/aemerick/Seagate Expansion Drive/FlatironData/run11_30km/sn_H2atten_H2sh/DD0450/DD0450'\n",
      " '/media/aemerick/Seagate Expansion Drive/FlatironData/run11_30km/sn_H2atten_H2sh/DD0475/DD0475'\n",
      " '/media/aemerick/Seagate Expansion Drive/FlatironData/run11_30km/sn_H2atten_H2sh/DD0500/DD0500'\n",
      " '/media/aemerick/Seagate Expansion Drive/FlatironData/run11_30km/sn_H2atten_H2sh/DD0525/DD0525'\n",
      " '/media/aemerick/Seagate Expansion Drive/FlatironData/run11_30km/sn_H2atten_H2sh/DD0550/DD0550'\n",
      " '/media/aemerick/Seagate Expansion Drive/FlatironData/run11_30km/sn_H2atten_H2sh/DD0575/DD0575'\n",
      " '/media/aemerick/Seagate Expansion Drive/FlatironData/run11_30km/sn_H2atten_H2sh/DD0600/DD0600'\n",
      " '/media/aemerick/Seagate Expansion Drive/FlatironData/run11_30km/sn_H2atten_H2sh/DD0625/DD0625'\n",
      " '/media/aemerick/Seagate Expansion Drive/FlatironData/run11_30km/sn_H2atten_H2sh/DD0650/DD0650'\n",
      " '/media/aemerick/Seagate Expansion Drive/FlatironData/run11_30km/sn_H2atten_H2sh/DD0675/DD0675'\n",
      " '/media/aemerick/Seagate Expansion Drive/FlatironData/run11_30km/sn_H2atten_H2sh/DD0700/DD0700'\n",
      " '/media/aemerick/Seagate Expansion Drive/FlatironData/run11_30km/sn_H2atten_H2sh/DD0725/DD0725'\n",
      " '/media/aemerick/Seagate Expansion Drive/FlatironData/run11_30km/sn_H2atten_H2sh/DD0750/DD0750'\n",
      " '/media/aemerick/Seagate Expansion Drive/FlatironData/run11_30km/sn_H2atten_H2sh/DD0775/DD0775'\n",
      " '/media/aemerick/Seagate Expansion Drive/FlatironData/run11_30km/sn_H2atten_H2sh/DD0800/DD0800'\n",
      " '/media/aemerick/Seagate Expansion Drive/FlatironData/run11_30km/sn_H2atten_H2sh/DD0825/DD0825'\n",
      " '/media/aemerick/Seagate Expansion Drive/FlatironData/run11_30km/sn_H2atten_H2sh/DD0850/DD0850'\n",
      " '/media/aemerick/Seagate Expansion Drive/FlatironData/run11_30km/sn_H2atten_H2sh/DD0875/DD0875'\n",
      " '/media/aemerick/Seagate Expansion Drive/FlatironData/run11_30km/sn_H2atten_H2sh/DD0900/DD0900'\n",
      " '/media/aemerick/Seagate Expansion Drive/FlatironData/run11_30km/sn_H2atten_H2sh/DD0925/DD0925'\n",
      " '/media/aemerick/Seagate Expansion Drive/FlatironData/run11_30km/sn_H2atten_H2sh/DD0950/DD0950'\n",
      " '/media/aemerick/Seagate Expansion Drive/FlatironData/run11_30km/sn_H2atten_H2sh/DD0975/DD0975'\n",
      " '/media/aemerick/Seagate Expansion Drive/FlatironData/run11_30km/sn_H2atten_H2sh/DD1000/DD1000']\n"
     ]
    }
   ],
   "source": [
    "import glob\n",
    "dsnames = np.sort(np.array(glob.glob(wdir + \"DD??00/DD??00\") + glob.glob(wdir+\"DD??50/DD??50\") +\n",
    "                           glob.glob(wdir + \"DD??25/DD??25\") + glob.glob(wdir+\"DD??75/DD??75\")))\n",
    "\n",
    "print(dsnames)"
   ]
  },
  {
   "cell_type": "code",
   "execution_count": 13,
   "metadata": {},
   "outputs": [
    {
     "name": "stderr",
     "output_type": "stream",
     "text": [
      "Parsing Hierarchy : 100%|██████████| 1418/1418 [00:00<00:00, 14769.67it/s]\n"
     ]
    },
    {
     "name": "stdout",
     "output_type": "stream",
     "text": [
      "No Supernova this time step\n",
      "125.00 Myr:    0.000E+00   0.000E+00   0.000E+00   0.000E+00\n"
     ]
    },
    {
     "name": "stderr",
     "output_type": "stream",
     "text": [
      "Parsing Hierarchy : 100%|██████████| 1587/1587 [00:00<00:00, 14242.13it/s]\n"
     ]
    },
    {
     "name": "stdout",
     "output_type": "stream",
     "text": [
      "150.00 Myr:    3.722E-03   0.000E+00   3.722E-03   1.559E-03\n"
     ]
    },
    {
     "name": "stderr",
     "output_type": "stream",
     "text": [
      "Parsing Hierarchy : 100%|██████████| 2866/2866 [00:00<00:00, 14233.22it/s]\n"
     ]
    },
    {
     "name": "stdout",
     "output_type": "stream",
     "text": [
      "175.00 Myr:    6.997E-01   5.386E-01   1.612E-01   6.647E-03\n"
     ]
    },
    {
     "name": "stderr",
     "output_type": "stream",
     "text": [
      "Parsing Hierarchy : 100%|██████████| 2955/2955 [00:00<00:00, 8521.17it/s] \n"
     ]
    },
    {
     "name": "stdout",
     "output_type": "stream",
     "text": [
      "200.00 Myr:    5.145E-01   1.855E-01   3.290E-01   1.205E-02\n"
     ]
    },
    {
     "name": "stderr",
     "output_type": "stream",
     "text": [
      "Parsing Hierarchy : 100%|██████████| 2696/2696 [00:00<00:00, 7027.79it/s]\n"
     ]
    },
    {
     "name": "stdout",
     "output_type": "stream",
     "text": [
      "225.00 Myr:    5.850E-01   1.610E-01   4.239E-01   2.670E-03\n"
     ]
    },
    {
     "name": "stderr",
     "output_type": "stream",
     "text": [
      "Parsing Hierarchy : 100%|██████████| 1820/1820 [00:00<00:00, 5875.94it/s] \n"
     ]
    },
    {
     "name": "stdout",
     "output_type": "stream",
     "text": [
      "250.00 Myr:    8.809E-01   6.342E-01   2.467E-01   2.706E-03\n"
     ]
    },
    {
     "name": "stderr",
     "output_type": "stream",
     "text": [
      "Parsing Hierarchy : 100%|██████████| 708/708 [00:00<00:00, 10638.27it/s]\n"
     ]
    },
    {
     "name": "stdout",
     "output_type": "stream",
     "text": [
      "275.00 Myr:    5.860E-01   0.000E+00   5.860E-01   3.251E-01\n"
     ]
    },
    {
     "name": "stderr",
     "output_type": "stream",
     "text": [
      "Parsing Hierarchy : 100%|██████████| 2276/2276 [00:00<00:00, 6330.05it/s]\n"
     ]
    },
    {
     "name": "stdout",
     "output_type": "stream",
     "text": [
      "300.00 Myr:    5.690E-01   0.000E+00   5.690E-01   2.515E-01\n"
     ]
    },
    {
     "name": "stderr",
     "output_type": "stream",
     "text": [
      "Parsing Hierarchy : 100%|██████████| 1977/1977 [00:00<00:00, 5625.41it/s]\n"
     ]
    },
    {
     "name": "stdout",
     "output_type": "stream",
     "text": [
      "325.00 Myr:    2.102E-01   4.182E-02   1.683E-01   3.324E-03\n"
     ]
    },
    {
     "name": "stderr",
     "output_type": "stream",
     "text": [
      "Parsing Hierarchy : 100%|██████████| 550/550 [00:00<00:00, 2870.32it/s]\n"
     ]
    },
    {
     "name": "stdout",
     "output_type": "stream",
     "text": [
      "350.00 Myr:    2.412E-01   5.887E-03   2.353E-01   4.945E-02\n"
     ]
    },
    {
     "name": "stderr",
     "output_type": "stream",
     "text": [
      "Parsing Hierarchy : 100%|██████████| 1698/1698 [00:00<00:00, 11800.16it/s]\n"
     ]
    },
    {
     "name": "stdout",
     "output_type": "stream",
     "text": [
      "375.00 Myr:    1.826E-01   0.000E+00   1.826E-01   3.692E-02\n"
     ]
    },
    {
     "name": "stderr",
     "output_type": "stream",
     "text": [
      "Parsing Hierarchy : 100%|██████████| 2232/2232 [00:00<00:00, 14692.40it/s]\n"
     ]
    },
    {
     "name": "stdout",
     "output_type": "stream",
     "text": [
      "400.00 Myr:    3.556E-01   5.767E-02   2.980E-01   3.602E-03\n"
     ]
    },
    {
     "name": "stderr",
     "output_type": "stream",
     "text": [
      "Parsing Hierarchy : 100%|██████████| 2012/2012 [00:00<00:00, 13767.09it/s]\n"
     ]
    },
    {
     "name": "stdout",
     "output_type": "stream",
     "text": [
      "425.00 Myr:    4.307E-01   1.540E-01   2.767E-01   1.755E-04\n"
     ]
    },
    {
     "name": "stderr",
     "output_type": "stream",
     "text": [
      "Parsing Hierarchy : 100%|██████████| 1633/1633 [00:00<00:00, 15071.72it/s]\n"
     ]
    },
    {
     "name": "stdout",
     "output_type": "stream",
     "text": [
      "450.00 Myr:    3.217E-01   5.124E-02   2.705E-01   1.304E-02\n"
     ]
    },
    {
     "name": "stderr",
     "output_type": "stream",
     "text": [
      "Parsing Hierarchy : 100%|██████████| 1662/1662 [00:00<00:00, 11012.95it/s]\n"
     ]
    },
    {
     "name": "stdout",
     "output_type": "stream",
     "text": [
      "475.00 Myr:    1.356E+00   2.624E-01   1.094E+00   3.527E-02\n"
     ]
    },
    {
     "name": "stderr",
     "output_type": "stream",
     "text": [
      "Parsing Hierarchy : 100%|██████████| 566/566 [00:00<00:00, 2621.86it/s]\n"
     ]
    },
    {
     "name": "stdout",
     "output_type": "stream",
     "text": [
      "No Supernova this time step\n",
      "500.00 Myr:    0.000E+00   0.000E+00   0.000E+00   0.000E+00\n"
     ]
    },
    {
     "name": "stderr",
     "output_type": "stream",
     "text": [
      "Parsing Hierarchy : 100%|██████████| 1484/1484 [00:00<00:00, 11392.39it/s]\n"
     ]
    },
    {
     "name": "stdout",
     "output_type": "stream",
     "text": [
      "525.00 Myr:    6.844E-02   0.000E+00   6.844E-02   2.023E-02\n"
     ]
    },
    {
     "name": "stderr",
     "output_type": "stream",
     "text": [
      "Parsing Hierarchy : 100%|██████████| 1891/1891 [00:00<00:00, 13819.00it/s]\n"
     ]
    },
    {
     "name": "stdout",
     "output_type": "stream",
     "text": [
      "550.00 Myr:    4.035E+00   2.369E+00   1.666E+00   1.759E-02\n"
     ]
    },
    {
     "name": "stderr",
     "output_type": "stream",
     "text": [
      "Parsing Hierarchy : 100%|██████████| 1947/1947 [00:00<00:00, 6204.88it/s]\n"
     ]
    },
    {
     "name": "stdout",
     "output_type": "stream",
     "text": [
      "575.00 Myr:    5.482E-01   1.726E-01   3.756E-01   3.590E-05\n"
     ]
    },
    {
     "name": "stderr",
     "output_type": "stream",
     "text": [
      "Parsing Hierarchy : 100%|██████████| 1464/1464 [00:00<00:00, 5287.16it/s]\n"
     ]
    },
    {
     "name": "stdout",
     "output_type": "stream",
     "text": [
      "600.00 Myr:    1.212E+00   6.081E-01   6.040E-01   8.372E-03\n"
     ]
    },
    {
     "name": "stderr",
     "output_type": "stream",
     "text": [
      "Parsing Hierarchy : 100%|██████████| 468/468 [00:00<00:00, 8820.91it/s]\n"
     ]
    },
    {
     "name": "stdout",
     "output_type": "stream",
     "text": [
      "625.00 Myr:    2.126E-01   1.081E-01   1.045E-01   8.406E-03\n"
     ]
    },
    {
     "name": "stderr",
     "output_type": "stream",
     "text": [
      "Parsing Hierarchy : 100%|██████████| 429/429 [00:00<00:00, 14563.67it/s]\n"
     ]
    },
    {
     "name": "stdout",
     "output_type": "stream",
     "text": [
      "No Supernova this time step\n",
      "650.00 Myr:    0.000E+00   0.000E+00   0.000E+00   0.000E+00\n"
     ]
    },
    {
     "name": "stderr",
     "output_type": "stream",
     "text": [
      "Parsing Hierarchy : 100%|██████████| 382/382 [00:00<00:00, 7313.69it/s]\n"
     ]
    },
    {
     "name": "stdout",
     "output_type": "stream",
     "text": [
      "No Supernova this time step\n",
      "675.00 Myr:    0.000E+00   0.000E+00   0.000E+00   0.000E+00\n"
     ]
    },
    {
     "name": "stderr",
     "output_type": "stream",
     "text": [
      "Parsing Hierarchy : 100%|██████████| 417/417 [00:00<00:00, 2189.62it/s]\n"
     ]
    },
    {
     "name": "stdout",
     "output_type": "stream",
     "text": [
      "No Supernova this time step\n",
      "700.00 Myr:    0.000E+00   0.000E+00   0.000E+00   0.000E+00\n"
     ]
    },
    {
     "name": "stderr",
     "output_type": "stream",
     "text": [
      "Parsing Hierarchy : 100%|██████████| 1231/1231 [00:00<00:00, 12656.95it/s]\n"
     ]
    },
    {
     "name": "stdout",
     "output_type": "stream",
     "text": [
      "725.00 Myr:    2.622E-02   0.000E+00   2.622E-02   3.654E-03\n"
     ]
    },
    {
     "name": "stderr",
     "output_type": "stream",
     "text": [
      "Parsing Hierarchy : 100%|██████████| 1143/1143 [00:00<00:00, 14573.43it/s]\n"
     ]
    },
    {
     "name": "stdout",
     "output_type": "stream",
     "text": [
      "750.00 Myr:    3.469E-01   1.885E-01   1.584E-01   4.239E-05\n"
     ]
    },
    {
     "name": "stderr",
     "output_type": "stream",
     "text": [
      "Parsing Hierarchy : 100%|██████████| 1509/1509 [00:00<00:00, 6205.21it/s]\n"
     ]
    },
    {
     "name": "stdout",
     "output_type": "stream",
     "text": [
      "775.00 Myr:    1.797E+00   9.068E-01   8.899E-01   6.595E-03\n"
     ]
    },
    {
     "name": "stderr",
     "output_type": "stream",
     "text": [
      "Parsing Hierarchy : 100%|██████████| 372/372 [00:00<00:00, 13118.22it/s]\n"
     ]
    },
    {
     "name": "stdout",
     "output_type": "stream",
     "text": [
      "800.00 Myr:    8.360E-01   3.559E-01   4.802E-01   1.702E-03\n"
     ]
    },
    {
     "name": "stderr",
     "output_type": "stream",
     "text": [
      "Parsing Hierarchy : 100%|██████████| 1219/1219 [00:00<00:00, 10732.07it/s]\n"
     ]
    },
    {
     "name": "stdout",
     "output_type": "stream",
     "text": [
      "No Supernova this time step\n",
      "825.00 Myr:    0.000E+00   0.000E+00   0.000E+00   0.000E+00\n"
     ]
    },
    {
     "name": "stderr",
     "output_type": "stream",
     "text": [
      "Parsing Hierarchy : 100%|██████████| 1225/1225 [00:00<00:00, 5538.33it/s]\n"
     ]
    },
    {
     "name": "stdout",
     "output_type": "stream",
     "text": [
      "850.00 Myr:    1.112E+00   6.582E-01   4.533E-01   1.021E-02\n"
     ]
    },
    {
     "name": "stderr",
     "output_type": "stream",
     "text": [
      "Parsing Hierarchy : 100%|██████████| 1238/1238 [00:00<00:00, 5255.98it/s] \n"
     ]
    },
    {
     "name": "stdout",
     "output_type": "stream",
     "text": [
      "875.00 Myr:    7.948E-01   2.447E-01   5.501E-01   7.168E-04\n"
     ]
    },
    {
     "name": "stderr",
     "output_type": "stream",
     "text": [
      "Parsing Hierarchy : 100%|██████████| 320/320 [00:00<00:00, 11956.18it/s]\n"
     ]
    },
    {
     "name": "stdout",
     "output_type": "stream",
     "text": [
      "No Supernova this time step\n",
      "900.00 Myr:    0.000E+00   0.000E+00   0.000E+00   0.000E+00\n"
     ]
    },
    {
     "name": "stderr",
     "output_type": "stream",
     "text": [
      "Parsing Hierarchy : 100%|██████████| 1125/1125 [00:00<00:00, 3111.51it/s]\n"
     ]
    },
    {
     "name": "stdout",
     "output_type": "stream",
     "text": [
      "No Supernova this time step\n",
      "925.00 Myr:    0.000E+00   0.000E+00   0.000E+00   0.000E+00\n"
     ]
    },
    {
     "name": "stderr",
     "output_type": "stream",
     "text": [
      "Parsing Hierarchy : 100%|██████████| 247/247 [00:00<00:00, 14619.66it/s]\n"
     ]
    },
    {
     "name": "stdout",
     "output_type": "stream",
     "text": [
      "No Supernova this time step\n",
      "950.00 Myr:    0.000E+00   0.000E+00   0.000E+00   0.000E+00\n"
     ]
    },
    {
     "name": "stderr",
     "output_type": "stream",
     "text": [
      "Parsing Hierarchy : 100%|██████████| 281/281 [00:00<00:00, 9273.59it/s]\n"
     ]
    },
    {
     "name": "stdout",
     "output_type": "stream",
     "text": [
      "No Supernova this time step\n",
      "975.00 Myr:    0.000E+00   0.000E+00   0.000E+00   0.000E+00\n"
     ]
    },
    {
     "name": "stderr",
     "output_type": "stream",
     "text": [
      "Parsing Hierarchy : 100%|██████████| 1093/1093 [00:00<00:00, 14773.53it/s]\n"
     ]
    },
    {
     "name": "stdout",
     "output_type": "stream",
     "text": [
      "No Supernova this time step\n",
      "1000.00 Myr:    0.000E+00   0.000E+00   0.000E+00   0.000E+00\n"
     ]
    }
   ],
   "source": [
    "\n",
    "j = 0\n",
    "ds_select = dsnames[5:]\n",
    "hot_loading = np.zeros(np.size(ds_select))\n",
    "cold_loading = np.zeros(np.size(ds_select))\n",
    "colder_loading = np.zeros(np.size(ds_select))\n",
    "\n",
    "loading = np.zeros(np.size(ds_select))\n",
    "\n",
    "times = np.zeros(np.size(ds_select))\n",
    "for dsname in ds_select:\n",
    "    ds = yt.load(dsname)\n",
    "    data = ds.all_data()\n",
    "    \n",
    "    times[j] = ds.current_time.to('Myr')\n",
    "    \n",
    "    x,y,z,w = compute_energy_loading(ds,data)\n",
    "    \n",
    "    loading[j]      = x\n",
    "    hot_loading[j]  = y\n",
    "    cold_loading[j] = z\n",
    "    colder_loading[j] = w\n",
    "    \n",
    "    \n",
    "    \n",
    "    print(\"%5.2f Myr:   %10.3E  %10.3E  %10.3E  %10.3E\"%(times[j],loading[j],hot_loading[j],cold_loading[j],colder_loading[j]))\n",
    "    j = j + 1\n",
    "    "
   ]
  },
  {
   "cell_type": "code",
   "execution_count": 25,
   "metadata": {},
   "outputs": [
    {
     "data": {
      "image/png": "[encoded data removed]",
      "text/plain": [
       "<Figure size 576x576 with 1 Axes>"
      ]
     },
     "metadata": {
      "needs_background": "light"
     },
     "output_type": "display_data"
    }
   ],
   "source": [
    "\n",
    "rc('font',size=17)\n",
    "\n",
    "fig,ax=plt.subplots()\n",
    "fig.set_size_inches(8,8)\n",
    "\n",
    "ax.plot(times,loading,lw = 3,color='black',label='Total')\n",
    "ax.plot(times,hot_loading,lw=3,color='C3',label=r'(T>$3 \\times 10^5$)')\n",
    "ax.plot(times,cold_loading,lw=3,color='C0',label=r'(T<$3 \\times 10^5$)')\n",
    "ax.plot(times,colder_loading,lw=3,color='C2',label=r'(T<$1 \\times 10^4$)')\n",
    "\n",
    "\n",
    "select = loading>0\n",
    "ax.plot(ax.get_xlim(), [np.average(hot_loading[select])]*2, lw = 2, ls = '--', color = 'C3')\n",
    "ax.plot(ax.get_xlim(), [np.average(cold_loading[select])]*2, lw = 2, ls = '--', color = 'C0')\n",
    "ax.plot(ax.get_xlim(), [np.average(colder_loading[select])]*2, lw = 2, ls = '--', color = 'C2')\n",
    "\n",
    "ax.legend(loc='best',ncol=2)\n",
    "\n",
    "ax.set_ylim(1.0E-3,15.0)\n",
    "ax.set_xlim(119.0,1000.0)\n",
    "ax.semilogy()\n",
    "\n",
    "ax.set_ylabel('Energy Loading Factor')\n",
    "ax.set_xlabel('Time (Myr)')\n",
    "fig.savefig('energy_loading.png')"
   ]
  },
  {
   "cell_type": "code",
   "execution_count": 17,
   "metadata": {},
   "outputs": [
    {
     "name": "stdout",
     "output_type": "stream",
     "text": [
      "0.2140025542158142 0.2839159824908608 0.022821366943430607\n"
     ]
    }
   ],
   "source": [
    "print(np.average(hot_loading),np.average(cold_loading),np.average(colder_loading))"
   ]
  },
  {
   "cell_type": "code",
   "execution_count": null,
   "metadata": {},
   "outputs": [],
   "source": []
  }
 ],
 "metadata": {
  "kernelspec": {
   "display_name": "Python 3",
   "language": "python",
   "name": "python3"
  },
  "language_info": {
   "codemirror_mode": {
    "name": "ipython",
    "version": 3
   },
   "file_extension": ".py",
   "mimetype": "text/x-python",
   "name": "python",
   "nbconvert_exporter": "python",
   "pygments_lexer": "ipython3",
   "version": "3.7.3"
  }
 },
 "nbformat": 4,
 "nbformat_minor": 2
}
