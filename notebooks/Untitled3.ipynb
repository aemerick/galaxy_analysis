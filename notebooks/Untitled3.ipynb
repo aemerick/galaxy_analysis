{
 "cells": [
  {
   "cell_type": "code",
   "execution_count": 1,
   "metadata": {},
   "outputs": [],
   "source": [
    "%matplotlib inline\n",
    "import numpy as np\n",
    "import matplotlib.pyplot as plt\n",
    "import yt\n",
    "\n",
    "from galaxy_analysis.gizmo import yield_model\n",
    "from galaxy_analysis.utilities import cy_convert_abundances as ca\n",
    "#from galaxy_analysis.utilities import convert_abundances as ca\n",
    "from galaxy_analysis.plot.plot_styles import *\n",
    "\n",
    "import gizmo_analysis as gizmo\n",
    "import utilities as gizmo_ut\n",
    "\n",
    "\n",
    "\n",
    "from scipy.stats import ks_2samp"
   ]
  },
  {
   "cell_type": "code",
   "execution_count": 7,
   "metadata": {},
   "outputs": [
    {
     "name": "stdout",
     "output_type": "stream",
     "text": [
      "\n",
      "# in utilities.simulation.Snapshot():\n",
      "* reading:  home/aemerick/work/gizmo_runs/m12q_res5700_test/snapshot_times.txt\n",
      "\n",
      "  using snapshot index = 60, redshift = 5.429\n",
      "\n"
     ]
    },
    {
     "ename": "OSError",
     "evalue": "cannot find snapshot index = 60 in:  ['/home/aemerick/work/gizmo_runs/m12q_res5700_test/output/snapshot_000.hdf5', '/home/aemerick/work/gizmo_runs/m12q_res5700_test/output/snapshot_039.hdf5', '/home/aemerick/work/gizmo_runs/m12q_res5700_test/output/snapshot_190.hdf5', '/home/aemerick/work/gizmo_runs/m12q_res5700_test/output/snapshot_600.hdf5']",
     "output_type": "error",
     "traceback": [
      "\u001b[0;31m---------------------------------------------------------------------------\u001b[0m",
      "\u001b[0;31mOSError\u001b[0m                                   Traceback (most recent call last)",
      "\u001b[0;32m<ipython-input-7-c48322d54b83>\u001b[0m in \u001b[0;36m<module>\u001b[0;34m\u001b[0m\n\u001b[1;32m      2\u001b[0m \u001b[0;34m\u001b[0m\u001b[0m\n\u001b[1;32m      3\u001b[0m part = gizmo.io.Read.read_snapshots(['star', 'dark'], 'index', 60,\n\u001b[0;32m----> 4\u001b[0;31m                                     assign_host_principal_axes=False, simulation_directory = wdir)\n\u001b[0m\u001b[1;32m      5\u001b[0m part190 = gizmo.io.Read.read_snapshots(['star', 'dark'], 'index', 190,\n\u001b[1;32m      6\u001b[0m                                     assign_host_principal_axes=False, simulation_directory = wdir)\n",
      "\u001b[0;32m~/code/gizmo_analysis/gizmo_io.py\u001b[0m in \u001b[0;36mread_snapshots\u001b[0;34m(self, species, snapshot_value_kind, snapshot_values, simulation_directory, snapshot_directory, simulation_name, properties, element_indices, particle_subsample_factor, separate_dark_lowres, sort_dark_by_id, convert_float32, host_number, assign_host_coordinates, assign_host_principal_axes, assign_host_orbits, assign_formation_coordinates, assign_pointers, check_properties)\u001b[0m\n\u001b[1;32m    639\u001b[0m             \u001b[0;31m# read header from snapshot file\u001b[0m\u001b[0;34m\u001b[0m\u001b[0;34m\u001b[0m\u001b[0;34m\u001b[0m\u001b[0m\n\u001b[1;32m    640\u001b[0m             header = self.read_header(\n\u001b[0;32m--> 641\u001b[0;31m                 'index', snapshot_index, simulation_directory, snapshot_directory, simulation_name)\n\u001b[0m\u001b[1;32m    642\u001b[0m \u001b[0;34m\u001b[0m\u001b[0m\n\u001b[1;32m    643\u001b[0m             \u001b[0;32mif\u001b[0m \u001b[0;32mnot\u001b[0m \u001b[0mheader\u001b[0m\u001b[0;34m[\u001b[0m\u001b[0;34m'cosmological'\u001b[0m\u001b[0;34m]\u001b[0m\u001b[0;34m:\u001b[0m\u001b[0;34m\u001b[0m\u001b[0;34m\u001b[0m\u001b[0m\n",
      "\u001b[0;32m~/code/gizmo_analysis/gizmo_io.py\u001b[0m in \u001b[0;36mread_header\u001b[0;34m(self, snapshot_value_kind, snapshot_value, simulation_directory, snapshot_directory, simulation_name, snapshot_block_index, verbose)\u001b[0m\n\u001b[1;32m    901\u001b[0m \u001b[0;34m\u001b[0m\u001b[0m\n\u001b[1;32m    902\u001b[0m         path_file_name = self.get_snapshot_file_names_indices(\n\u001b[0;32m--> 903\u001b[0;31m             snapshot_directory, snapshot_index, snapshot_block_index)\n\u001b[0m\u001b[1;32m    904\u001b[0m \u001b[0;34m\u001b[0m\u001b[0m\n\u001b[1;32m    905\u001b[0m         \u001b[0mself\u001b[0m\u001b[0;34m.\u001b[0m\u001b[0m_is_first_print\u001b[0m \u001b[0;34m=\u001b[0m \u001b[0;32mTrue\u001b[0m\u001b[0;34m\u001b[0m\u001b[0;34m\u001b[0m\u001b[0m\n",
      "\u001b[0;32m~/code/gizmo_analysis/gizmo_io.py\u001b[0m in \u001b[0;36mget_snapshot_file_names_indices\u001b[0;34m(self, directory, snapshot_index, snapshot_block_index)\u001b[0m\n\u001b[1;32m   1417\u001b[0m         \u001b[0;32melif\u001b[0m \u001b[0msnapshot_index\u001b[0m \u001b[0;32mnot\u001b[0m \u001b[0;32min\u001b[0m \u001b[0mfile_indices\u001b[0m\u001b[0;34m:\u001b[0m\u001b[0;34m\u001b[0m\u001b[0;34m\u001b[0m\u001b[0m\n\u001b[1;32m   1418\u001b[0m             raise OSError(\n\u001b[0;32m-> 1419\u001b[0;31m                 'cannot find snapshot index = {} in:  {}'.format(snapshot_index, path_file_names))\n\u001b[0m\u001b[1;32m   1420\u001b[0m \u001b[0;34m\u001b[0m\u001b[0m\n\u001b[1;32m   1421\u001b[0m         \u001b[0mpath_file_names\u001b[0m \u001b[0;34m=\u001b[0m \u001b[0mpath_file_names\u001b[0m\u001b[0;34m[\u001b[0m\u001b[0mnp\u001b[0m\u001b[0;34m.\u001b[0m\u001b[0mwhere\u001b[0m\u001b[0;34m(\u001b[0m\u001b[0mfile_indices\u001b[0m \u001b[0;34m==\u001b[0m \u001b[0msnapshot_index\u001b[0m\u001b[0;34m)\u001b[0m\u001b[0;34m[\u001b[0m\u001b[0;36m0\u001b[0m\u001b[0;34m]\u001b[0m\u001b[0;34m[\u001b[0m\u001b[0;36m0\u001b[0m\u001b[0;34m]\u001b[0m\u001b[0;34m]\u001b[0m\u001b[0;34m\u001b[0m\u001b[0;34m\u001b[0m\u001b[0m\n",
      "\u001b[0;31mOSError\u001b[0m: cannot find snapshot index = 60 in:  ['/home/aemerick/work/gizmo_runs/m12q_res5700_test/output/snapshot_000.hdf5', '/home/aemerick/work/gizmo_runs/m12q_res5700_test/output/snapshot_039.hdf5', '/home/aemerick/work/gizmo_runs/m12q_res5700_test/output/snapshot_190.hdf5', '/home/aemerick/work/gizmo_runs/m12q_res5700_test/output/snapshot_600.hdf5']"
     ]
    }
   ],
   "source": [
    "wdir = \"/home/aemerick/work/gizmo_runs/m12q_res5700_test/\"\n",
    "\n",
    "part = gizmo.io.Read.read_snapshots(['star', 'dark'], 'index', 60,\n",
    "                                    assign_host_principal_axes=False, simulation_directory = wdir)\n",
    "part190 = gizmo.io.Read.read_snapshots(['star', 'dark'], 'index', 190,\n",
    "                                    assign_host_principal_axes=False, simulation_directory = wdir)\n",
    "\n",
    "print(part.host_positions)"
   ]
  },
  {
   "cell_type": "code",
   "execution_count": 6,
   "metadata": {},
   "outputs": [
    {
     "data": {
      "text/plain": [
       "(-5, 4)"
      ]
     },
     "execution_count": 6,
     "metadata": {},
     "output_type": "execute_result"
    },
    {
     "data": {
      "image/png": "[encoded data removed]",
      "text/plain": [
       "<Figure size 432x432 with 1 Axes>"
      ]
     },
     "metadata": {
      "needs_background": "light"
     },
     "output_type": "display_data"
    }
   ],
   "source": [
    "ex1,ex2 = 'Fe','H'\n",
    "ey1,ey2 = 'Fe','H'\n",
    "\n",
    "\n",
    "x1 = part['star'].prop('massfraction.' + str.lower(ex1)).astype(np.double)\n",
    "x2 = part['star'].prop('massfraction.' + str.lower(ex2)).astype(np.double)\n",
    "y1 = part190['star'].prop('massfraction.' + str.lower(ey1)).astype(np.double)\n",
    "y2 = part190['star'].prop('massfraction.' + str.lower(ey2)).astype(np.double)\n",
    "\n",
    "x  = ca.abundance_ratio_array(ex1, x1, ex2, x2, input_type=\"mass\")\n",
    "y  = ca.abundance_ratio_array(ey1, y1, ey2, y2, input_type=\"mass\")\n",
    "\n",
    "abund = x*1.0\n",
    "\n",
    "dbin  = 0.1\n",
    "rmin  = -5\n",
    "rmax  = 4\n",
    "\n",
    "fig, ax = plt.subplots()\n",
    "fig.set_size_inches(6,6)\n",
    "\n",
    "nbins = int((rmax - rmin)/dbin)\n",
    "hist, bins = np.histogram(abund, bins = nbins, range = (rmin,rmax))\n",
    "hist2 = np.ones(np.size(hist)+1)\n",
    "hist2[:-1] = hist\n",
    "hist2[-1] = hist2[-2]\n",
    "\n",
    "\n",
    "ax.step(bins, hist2/(1.0*np.sum(hist2)), where = 'post', lw = 3, color = 'black', label='39')\n",
    "\n",
    "abund = y*1.0\n",
    "\n",
    "nbins = int((rmax - rmin)/dbin)\n",
    "hist, bins = np.histogram(abund, bins = nbins, range = (rmin,rmax))\n",
    "hist2 = np.ones(np.size(hist)+1)\n",
    "hist2[:-1] = hist\n",
    "hist2[-1] = hist2[-2]\n",
    "\n",
    "ax.step(bins, hist2/(1.0*np.sum(hist2)), where = 'post', color = 'C0', lw = 3, label='190')\n",
    "\n",
    "#ax.scatter(x,y)\n",
    "\n",
    "ax.legend(loc='best')\n",
    "ax.set_xlabel('[' + ex1 + '/' + ex2 + ']')\n",
    "ax.set_ylabel('[' + ey1 + '/' + ey2 + ']')\n",
    "\n",
    "ax.set_xlim(rmin,rmax)"
   ]
  },
  {
   "cell_type": "code",
   "execution_count": 9,
   "metadata": {},
   "outputs": [
    {
     "name": "stdout",
     "output_type": "stream",
     "text": [
      "\n",
      "# in utilities.simulation.Snapshot():\n",
      "* reading:  home/aemerick/work/gizmo_runs/m12q_res5700_noage/snapshot_times.txt\n",
      "\n",
      "  using snapshot index = 60, redshift = 5.429\n",
      "\n",
      "\n",
      "# in gizmo_analysis.gizmo_io.Read():\n",
      "* reading header from:  home/aemerick/work/gizmo_runs/m12q_res5700_noage/output/snapshot_060.hdf5\n",
      "  snapshot contains the following number of particles:\n",
      "    dark      (id = 1): 16220880 particles\n",
      "    dark2     (id = 2): 4132251 particles\n",
      "    gas       (id = 0): 15526126 particles\n",
      "    star      (id = 4): 694752 particles\n",
      "    blackhole (id = 5): 0 particles\n",
      "\n",
      "* reading species: ['star', 'dark']\n",
      "* reading particles from:\n",
      "    home/aemerick/work/gizmo_runs/m12q_res5700_noage/output/snapshot_060.hdf5\n",
      "\n",
      "! cannot find MUSIC config file:  home/aemerick/work/gizmo_runs/m12q_res5700_noage/*/*.conf\n",
      "! missing cosmological parameters, assuming the following (from AGORA box):\n",
      "  assuming omega_baryon = 0.0455\n",
      "  assuming sigma_8 = 0.807\n",
      "  assuming n_s = 0.961\n",
      "\n",
      "* checking sanity of particle properties\n",
      "\n",
      "* assigning coordinates for 1 host galaxy/halo[s]:\n",
      "  position = (42344.834, 43284.772, 42141.475) [kpc comoving]\n",
      "  velocity = (-94.0, 177.1, 113.8) [km / s]\n",
      "\n",
      "\n",
      "# in utilities.simulation.Snapshot():\n",
      "* reading:  home/aemerick/work/gizmo_runs/m12q_res5700_noage/snapshot_times.txt\n",
      "\n",
      "  using snapshot index = 60, redshift = 5.429\n",
      "\n",
      "\n",
      "# in gizmo_analysis.gizmo_io.Read():\n",
      "* reading header from:  home/aemerick/work/gizmo_runs/m12q_res5700_noage/output/snapshot_060.hdf5\n",
      "  snapshot contains the following number of particles:\n",
      "    dark      (id = 1): 16220880 particles\n",
      "    dark2     (id = 2): 4132251 particles\n",
      "    gas       (id = 0): 15526126 particles\n",
      "    star      (id = 4): 694752 particles\n",
      "    blackhole (id = 5): 0 particles\n",
      "\n",
      "* reading species: ['star', 'dark']\n",
      "* reading particles from:\n",
      "    home/aemerick/work/gizmo_runs/m12q_res5700_noage/output/snapshot_060.hdf5\n",
      "\n",
      "! cannot find MUSIC config file:  home/aemerick/work/gizmo_runs/m12q_res5700_noage/*/*.conf\n",
      "! missing cosmological parameters, assuming the following (from AGORA box):\n",
      "  assuming omega_baryon = 0.0455\n",
      "  assuming sigma_8 = 0.807\n",
      "  assuming n_s = 0.961\n",
      "\n",
      "* checking sanity of particle properties\n",
      "\n",
      "* assigning coordinates for 1 host galaxy/halo[s]:\n",
      "  position = (42344.834, 43284.772, 42141.475) [kpc comoving]\n",
      "  velocity = (-94.0, 177.1, 113.8) [km / s]\n",
      "\n",
      "[[42344.83396568 43284.7720971  42141.47479642]]\n"
     ]
    }
   ],
   "source": [
    "wdir = \"/home/aemerick/work/gizmo_runs/m12q_res5700_noage/\"\n",
    "part = gizmo.io.Read.read_snapshots(['star', 'dark'], 'index', 60,\n",
    "                                    assign_host_principal_axes=False, simulation_directory = wdir)\n",
    "wdir = \"/home/aemerick/work/gizmo_runs/m12q_res5700_original/\"\n",
    "part190 = gizmo.io.Read.read_snapshots(['star', 'dark'], 'index', 60,\n",
    "                                    assign_host_principal_axes=False, simulation_directory = wdir)\n",
    "\n",
    "print(part.host_positions)"
   ]
  },
  {
   "cell_type": "code",
   "execution_count": 14,
   "metadata": {},
   "outputs": [
    {
     "name": "stdout",
     "output_type": "stream",
     "text": [
      "1.7300000365594315e-07 0.009390188381075859\n"
     ]
    }
   ],
   "source": [
    "x1 = part['star'].prop('massfraction.' + str.lower(ex1)).astype(np.double)\n",
    "\n",
    "print(np.min(x1),np.max(x1))"
   ]
  },
  {
   "cell_type": "code",
   "execution_count": 10,
   "metadata": {},
   "outputs": [
    {
     "data": {
      "text/plain": [
       "(-5, 4)"
      ]
     },
     "execution_count": 10,
     "metadata": {},
     "output_type": "execute_result"
    },
    {
     "data": {
      "image/png": "[encoded data removed]",
      "text/plain": [
       "<Figure size 432x432 with 1 Axes>"
      ]
     },
     "metadata": {
      "needs_background": "light"
     },
     "output_type": "display_data"
    }
   ],
   "source": [
    "ex1,ex2 = 'Fe','H'\n",
    "ey1,ey2 = 'Fe','H'\n",
    "\n",
    "\n",
    "x1 = part['star'].prop('massfraction.' + str.lower(ex1)).astype(np.double)\n",
    "x2 = part['star'].prop('massfraction.' + str.lower(ex2)).astype(np.double)\n",
    "y1 = part190['star'].prop('massfraction.' + str.lower(ey1)).astype(np.double)\n",
    "y2 = part190['star'].prop('massfraction.' + str.lower(ey2)).astype(np.double)\n",
    "\n",
    "x  = ca.abundance_ratio_array(ex1, x1, ex2, x2, input_type=\"mass\")\n",
    "y  = ca.abundance_ratio_array(ey1, y1, ey2, y2, input_type=\"mass\")\n",
    "\n",
    "abund = x*1.0\n",
    "\n",
    "dbin  = 0.1\n",
    "rmin  = -5\n",
    "rmax  = 4\n",
    "\n",
    "fig, ax = plt.subplots()\n",
    "fig.set_size_inches(6,6)\n",
    "\n",
    "nbins = int((rmax - rmin)/dbin)\n",
    "hist, bins = np.histogram(abund, bins = nbins, range = (rmin,rmax))\n",
    "hist2 = np.ones(np.size(hist)+1)\n",
    "hist2[:-1] = hist\n",
    "hist2[-1] = hist2[-2]\n",
    "\n",
    "\n",
    "ax.step(bins, hist2, where = 'post', lw = 3, color = 'black', label = 'tip')\n",
    "\n",
    "abund = y*1.0\n",
    "\n",
    "nbins = int((rmax - rmin)/dbin)\n",
    "hist, bins = np.histogram(abund, bins = nbins, range = (rmin,rmax))\n",
    "hist2 = np.ones(np.size(hist)+1)\n",
    "hist2[:-1] = hist\n",
    "hist2[-1] = hist2[-2]\n",
    "\n",
    "ax.step(bins, hist2, where = 'post', color = 'C0', lw = 3, label = 'correct')\n",
    "\n",
    "#ax.scatter(x,y)\n",
    "\n",
    "\n",
    "ax.set_xlabel('[' + ex1 + '/' + ex2 + ']')\n",
    "ax.set_ylabel('[' + ey1 + '/' + ey2 + ']')\n",
    "\n",
    "ax.set_xlim(rmin,rmax)"
   ]
  },
  {
   "cell_type": "code",
   "execution_count": 4,
   "metadata": {},
   "outputs": [
    {
     "name": "stdout",
     "output_type": "stream",
     "text": [
      "\n",
      "# in utilities.simulation.Snapshot():\n",
      "* reading:  home/aemerick/work/gizmo_runs/m12q_res5700_original/snapshot_times.txt\n",
      "\n",
      "  using snapshot index = 190, redshift = 1.763\n",
      "\n",
      "\n",
      "# in gizmo_analysis.gizmo_io.Read():\n",
      "* reading header from:  home/aemerick/work/gizmo_runs/m12q_res5700_original/output/snapshot_190.hdf5\n",
      "  snapshot contains the following number of particles:\n",
      "    dark      (id = 1): 16220880 particles\n",
      "    dark2     (id = 2): 4132251 particles\n",
      "    gas       (id = 0): 15501044 particles\n",
      "    star      (id = 4): 722209 particles\n",
      "    blackhole (id = 5): 0 particles\n",
      "\n",
      "* reading species: ['star', 'dark']\n",
      "* reading particles from:\n",
      "    home/aemerick/work/gizmo_runs/m12q_res5700_original/output/snapshot_190.hdf5\n",
      "\n",
      "! cannot find MUSIC config file:  home/aemerick/work/gizmo_runs/m12q_res5700_original/*/*.conf\n",
      "! missing cosmological parameters, assuming the following (from AGORA box):\n",
      "  assuming omega_baryon = 0.0455\n",
      "  assuming sigma_8 = 0.807\n",
      "  assuming n_s = 0.961\n",
      "\n",
      "* checking sanity of particle properties\n",
      "\n",
      "* assigning coordinates for 1 host galaxy/halo[s]:\n",
      "  position = (41578.662, 44938.830, 42945.030) [kpc comoving]\n",
      "  velocity = (-85.5, 170.6, 82.2) [km / s]\n",
      "\n",
      "\n",
      "# in utilities.simulation.Snapshot():\n",
      "* reading:  home/aemerick/work/gizmo_runs/m12q_res5700_logage/snapshot_times.txt\n",
      "\n",
      "  using snapshot index = 151, redshift = 2.337\n",
      "\n",
      "\n",
      "# in gizmo_analysis.gizmo_io.Read():\n",
      "* reading header from:  home/aemerick/work/gizmo_runs/m12q_res5700_logage/output/snapshot_151.hdf5\n",
      "  snapshot contains the following number of particles:\n",
      "    dark      (id = 1): 16220880 particles\n",
      "    dark2     (id = 2): 4132251 particles\n",
      "    gas       (id = 0): 15706531 particles\n",
      "    star      (id = 4): 517258 particles\n",
      "    blackhole (id = 5): 0 particles\n",
      "\n",
      "* reading species: ['star', 'dark']\n",
      "* reading particles from:\n",
      "    home/aemerick/work/gizmo_runs/m12q_res5700_logage/output/snapshot_151.hdf5\n",
      "\n",
      "! cannot find MUSIC config file:  home/aemerick/work/gizmo_runs/m12q_res5700_logage/*/*.conf\n",
      "! missing cosmological parameters, assuming the following (from AGORA box):\n",
      "  assuming omega_baryon = 0.0455\n",
      "  assuming sigma_8 = 0.807\n",
      "  assuming n_s = 0.961\n",
      "\n",
      "* checking sanity of particle properties\n",
      "! warning: star massfraction [min, max] = [0.000, 4.849e11]\n",
      "\n",
      "* assigning coordinates for 1 host galaxy/halo[s]:\n",
      "  position = (41833.738, 44495.401, 42666.239) [kpc comoving]\n",
      "  velocity = (-70.2, 170.7, 103.1) [km / s]\n",
      "\n",
      "[[41578.66198097 44938.82969455 42945.03010933]]\n"
     ]
    },
    {
     "data": {
      "text/plain": [
       "(-5, 4)"
      ]
     },
     "execution_count": 4,
     "metadata": {},
     "output_type": "execute_result"
    },
    {
     "data": {
      "image/png": "[encoded data removed]",
      "text/plain": [
       "<Figure size 432x432 with 1 Axes>"
      ]
     },
     "metadata": {
      "needs_background": "light"
     },
     "output_type": "display_data"
    }
   ],
   "source": [
    "wdir = \"/home/aemerick/work/gizmo_runs/m12q_res5700_original/\"\n",
    "part = gizmo.io.Read.read_snapshots(['star', 'dark'], 'index', 190,\n",
    "                                    assign_host_principal_axes=False, simulation_directory = wdir)\n",
    "wdir = \"/home/aemerick/work/gizmo_runs/m12q_res5700_logage/\"\n",
    "part190 = gizmo.io.Read.read_snapshots(['star', 'dark'], 'index', 151,\n",
    "                                    assign_host_principal_axes=False, simulation_directory = wdir)\n",
    "\n",
    "print(part.host_positions)\n",
    "ex1,ex2 = 'Fe','H'\n",
    "ey1,ey2 = 'Fe','H'\n",
    "\n",
    "\n",
    "x1 = part['star'].prop('massfraction.' + str.lower(ex1)).astype(np.double)\n",
    "x2 = part['star'].prop('massfraction.' + str.lower(ex2)).astype(np.double)\n",
    "y1 = part190['star'].prop('massfraction.' + str.lower(ey1)).astype(np.double)\n",
    "y2 = part190['star'].prop('massfraction.' + str.lower(ey2)).astype(np.double)\n",
    "\n",
    "x  = ca.abundance_ratio_array(ex1, x1, ex2, x2, input_type=\"mass\")\n",
    "y  = ca.abundance_ratio_array(ey1, y1, ey2, y2, input_type=\"mass\")\n",
    "\n",
    "abund = x*1.0\n",
    "\n",
    "dbin  = 0.1\n",
    "rmin  = -5\n",
    "rmax  = 4\n",
    "\n",
    "fig, ax = plt.subplots()\n",
    "fig.set_size_inches(6,6)\n",
    "\n",
    "nbins = int((rmax - rmin)/dbin)\n",
    "hist, bins = np.histogram(abund, bins = nbins, range = (rmin,rmax))\n",
    "hist2 = np.ones(np.size(hist)+1)\n",
    "hist2[:-1] = hist\n",
    "hist2[-1] = hist2[-2]\n",
    "\n",
    "\n",
    "ax.step(bins, hist2, where = 'post', lw = 3, color = 'black', label = 'FIRE - 190')\n",
    "\n",
    "abund = y*1.0\n",
    "\n",
    "nbins = int((rmax - rmin)/dbin)\n",
    "hist, bins = np.histogram(abund, bins = nbins, range = (rmin,rmax))\n",
    "hist2 = np.ones(np.size(hist)+1)\n",
    "hist2[:-1] = hist\n",
    "hist2[-1] = hist2[-2]\n",
    "\n",
    "ax.step(bins, hist2, where = 'post', color = 'C0', lw = 3, label = 'Logage16 - 151')\n",
    "\n",
    "#ax.scatter(x,y)\n",
    "\n",
    "ax.legend(loc='best')\n",
    "\n",
    "ax.set_xlabel('[' + ex1 + '/' + ex2 + ']')\n",
    "ax.set_ylabel('[' + ey1 + '/' + ey2 + ']')\n",
    "\n",
    "ax.set_xlim(rmin,rmax)"
   ]
  },
  {
   "cell_type": "code",
   "execution_count": 2,
   "metadata": {},
   "outputs": [
    {
     "name": "stdout",
     "output_type": "stream",
     "text": [
      "\n",
      "# in utilities.simulation.Snapshot():\n",
      "* reading:  home/aemerick/work/gizmo_runs/m12q_res5700_noage/snapshot_times.txt\n",
      "\n",
      "  using snapshot index = 39, redshift = 7.229\n",
      "\n",
      "\n",
      "# in gizmo_analysis.gizmo_io.Read():\n",
      "* reading header from:  home/aemerick/work/gizmo_runs/m12q_res5700_noage/output/snapshot_039.hdf5\n",
      "  snapshot contains the following number of particles:\n",
      "    dark      (id = 1): 16220880 particles\n",
      "    dark2     (id = 2): 4132251 particles\n",
      "    gas       (id = 0): 15887336 particles\n",
      "    star      (id = 4): 333543 particles\n",
      "    blackhole (id = 5): 0 particles\n",
      "\n",
      "* reading species: ['star', 'dark']\n",
      "* reading particles from:\n",
      "    home/aemerick/work/gizmo_runs/m12q_res5700_noage/output/snapshot_039.hdf5\n",
      "\n",
      "! cannot find MUSIC config file:  home/aemerick/work/gizmo_runs/m12q_res5700_noage/*/*.conf\n",
      "! missing cosmological parameters, assuming the following (from AGORA box):\n",
      "  assuming omega_baryon = 0.0455\n",
      "  assuming sigma_8 = 0.807\n",
      "  assuming n_s = 0.961\n",
      "\n",
      "* checking sanity of particle properties\n",
      "\n",
      "* assigning coordinates for 1 host galaxy/halo[s]:\n",
      "  position = (42489.739, 43110.835, 42119.164) [kpc comoving]\n",
      "  velocity = (-64.4, 101.9, 43.3) [km / s]\n",
      "\n",
      "\n",
      "# in utilities.simulation.Snapshot():\n",
      "* reading:  home/aemerick/work/gizmo_runs/m12q_res5700_noage/snapshot_times.txt\n",
      "\n",
      "  using snapshot index = 39, redshift = 7.229\n",
      "\n",
      "\n",
      "# in gizmo_analysis.gizmo_io.Read():\n",
      "* reading header from:  home/aemerick/work/gizmo_runs/m12q_res5700_noage/output/snapshot_039.hdf5\n",
      "  snapshot contains the following number of particles:\n",
      "    dark      (id = 1): 16220880 particles\n",
      "    dark2     (id = 2): 4132251 particles\n",
      "    gas       (id = 0): 15887336 particles\n",
      "    star      (id = 4): 333543 particles\n",
      "    blackhole (id = 5): 0 particles\n",
      "\n",
      "* reading species: ['star', 'dark']\n",
      "* reading particles from:\n",
      "    home/aemerick/work/gizmo_runs/m12q_res5700_noage/output/snapshot_039.hdf5\n",
      "\n",
      "! cannot find MUSIC config file:  home/aemerick/work/gizmo_runs/m12q_res5700_noage/*/*.conf\n",
      "! missing cosmological parameters, assuming the following (from AGORA box):\n",
      "  assuming omega_baryon = 0.0455\n",
      "  assuming sigma_8 = 0.807\n",
      "  assuming n_s = 0.961\n",
      "\n",
      "* checking sanity of particle properties\n",
      "\n",
      "* assigning coordinates for 1 host galaxy/halo[s]:\n",
      "  position = (42489.739, 43110.835, 42119.164) [kpc comoving]\n",
      "  velocity = (-64.4, 101.9, 43.3) [km / s]\n",
      "\n",
      "[[42489.73867473 43110.83494349 42119.16401346]]\n"
     ]
    },
    {
     "data": {
      "text/plain": [
       "(-5, 4)"
      ]
     },
     "execution_count": 2,
     "metadata": {},
     "output_type": "execute_result"
    },
    {
     "data": {
      "image/png": "[encoded data removed]",
      "text/plain": [
       "<Figure size 432x432 with 1 Axes>"
      ]
     },
     "metadata": {
      "needs_background": "light"
     },
     "output_type": "display_data"
    }
   ],
   "source": [
    "wdir = \"/home/aemerick/work/gizmo_runs/m12q_res5700_noage/\"\n",
    "part = gizmo.io.Read.read_snapshots(['star', 'dark'], 'index', 39,\n",
    "                                    assign_host_principal_axes=False, simulation_directory = wdir)\n",
    "part190 = gizmo.io.Read.read_snapshots(['star', 'dark'], 'index', 39,\n",
    "                                    assign_host_principal_axes=False, simulation_directory = wdir)\n",
    "\n",
    "print(part.host_positions)\n",
    "ex1,ex2 = 'Fe','H'\n",
    "ey1,ey2 = 'Fe','H'\n",
    "\n",
    "\n",
    "x1 = part['star'].prop('massfraction.' + str.lower(ex1)).astype(np.double)\n",
    "x2 = part['star'].prop('massfraction.' + str.lower(ex2)).astype(np.double)\n",
    "y1 = part190['star'].prop('massfraction.' + str.lower(ey1)).astype(np.double)\n",
    "y2 = part190['star'].prop('massfraction.' + str.lower(ey2)).astype(np.double)\n",
    "\n",
    "x  = ca.abundance_ratio_array(ex1, x1, ex2, x2, input_type=\"mass\")\n",
    "y  = ca.abundance_ratio_array(ey1, y1, ey2, y2, input_type=\"mass\")\n",
    "\n",
    "abund = x*1.0\n",
    "\n",
    "dbin  = 0.1\n",
    "rmin  = -5\n",
    "rmax  = 4\n",
    "\n",
    "fig, ax = plt.subplots()\n",
    "fig.set_size_inches(6,6)\n",
    "\n",
    "nbins = int((rmax - rmin)/dbin)\n",
    "hist, bins = np.histogram(abund, bins = nbins, range = (rmin,rmax))\n",
    "hist2 = np.ones(np.size(hist)+1)\n",
    "hist2[:-1] = hist\n",
    "hist2[-1] = hist2[-2]\n",
    "\n",
    "\n",
    "ax.step(bins, hist2, where = 'post', lw = 3, color = 'black')\n",
    "\n",
    "abund = y*1.0\n",
    "\n",
    "nbins = int((rmax - rmin)/dbin)\n",
    "hist, bins = np.histogram(abund, bins = nbins, range = (rmin,rmax))\n",
    "hist2 = np.ones(np.size(hist)+1)\n",
    "hist2[:-1] = hist\n",
    "hist2[-1] = hist2[-2]\n",
    "\n",
    "ax.step(bins, hist2, where = 'post', color = 'C0', lw = 3)\n",
    "\n",
    "#ax.scatter(x,y)\n",
    "\n",
    "\n",
    "ax.set_xlabel('[' + ex1 + '/' + ex2 + ']')\n",
    "ax.set_ylabel('[' + ey1 + '/' + ey2 + ']')\n",
    "\n",
    "ax.set_xlim(rmin,rmax)"
   ]
  },
  {
   "cell_type": "code",
   "execution_count": null,
   "metadata": {},
   "outputs": [],
   "source": []
  }
 ],
 "metadata": {
  "kernelspec": {
   "display_name": "Python 3",
   "language": "python",
   "name": "python3"
  },
  "language_info": {
   "codemirror_mode": {
    "name": "ipython",
    "version": 3
   },
   "file_extension": ".py",
   "mimetype": "text/x-python",
   "name": "python",
   "nbconvert_exporter": "python",
   "pygments_lexer": "ipython3",
   "version": "3.7.3"
  }
 },
 "nbformat": 4,
 "nbformat_minor": 2
}
