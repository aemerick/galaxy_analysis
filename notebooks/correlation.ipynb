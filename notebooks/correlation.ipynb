{
 "cells": [
  {
   "cell_type": "code",
   "execution_count": 1,
   "metadata": {},
   "outputs": [],
   "source": [
    "%matplotlib inline\n",
    "import yt\n",
    "import numpy as np\n",
    "from galaxy_analysis.plot.plot_styles import *\n",
    "from galaxy_analysis.analysis import Galaxy\n",
    "import matplotlib.pyplot as plt\n",
    "\n",
    "from scipy.stats import pearsonr"
   ]
  },
  {
   "cell_type": "code",
   "execution_count": 3,
   "metadata": {},
   "outputs": [
    {
     "name": "stderr",
     "output_type": "stream",
     "text": [
      "Parsing Hierarchy : 100%|██████████| 2002/2002 [00:00<00:00, 7918.98it/s]\n"
     ]
    }
   ],
   "source": [
    "wdir = \"/home/aemerick/work/enzo_runs/mixing_experiment/AGB1/\"\n",
    "wdir = \"/home/aemerick/work/enzo_runs/sn_H2atten_H2sh/\"\n",
    "wdir = './test/'\n",
    "\n",
    "gal = Galaxy('DD0419',wdir=wdir)"
   ]
  },
  {
   "cell_type": "code",
   "execution_count": 6,
   "metadata": {},
   "outputs": [],
   "source": [
    "#\n",
    "# Try the correlation coefficient\n",
    "#\n",
    "\n",
    "metal_field = 'Na_Fraction'\n",
    "\n",
    "width = 5.0*yt.units.pc\n",
    "rvals = np.arange(0.0, 600.0, 10.) * yt.units.pc + 0.5*width\n",
    "\n",
    "rand_x = 0.0\n",
    "rand_y = 0.0\n",
    "\n",
    "center = gal.ds.domain_center.to('pc') + np.array([rand_x, rand_y, 0.0])*yt.units.pc\n",
    "\n",
    "sp     = gal.ds.sphere( center, np.max(rvals) + 2.0*width)\n",
    "\n",
    "coeff = np.zeros(np.size(rvals))\n",
    "\n",
    "for i in np.arange(np.size(rvals)-1):\n",
    "    \n",
    "    \n",
    "    s_x      = sp[metal_field].value\n",
    "    r_x      = sp['spherical_radius'].to('pc').value\n",
    "    \n",
    "    select   = (r_x >= (rvals[i] - 0.5*width)) * (r_x < (rvals[i] + 0.5*width))\n",
    "    \n",
    "    coeff[i] = np.corrcoef(s_x[select])\n"
   ]
  },
  {
   "cell_type": "code",
   "execution_count": 38,
   "metadata": {},
   "outputs": [],
   "source": [
    "#fig,ax = plt.subplots()\n",
    "#fig.set_size_inches(6,6)\n",
    "#\n",
    "#ax.plot(rvals, coeff, lw = 3, color = 'black')"
   ]
  },
  {
   "cell_type": "code",
   "execution_count": 10,
   "metadata": {},
   "outputs": [],
   "source": [
    "#\n",
    "#\n",
    "# 1) Pick N random points in the galaxy (Rvec)\n",
    "# 2) compute S_x at each point\n",
    "# 3) For each point in Rvec, pick N random points that are a distance r from that point (S_x')\n",
    "# 4) Compute correlation between S_x and S_x'\n",
    "# 5) Repeat for increasing r\n",
    "#"
   ]
  },
  {
   "cell_type": "code",
   "execution_count": 4,
   "metadata": {},
   "outputs": [],
   "source": [
    "#\n",
    "#\n",
    "#\n",
    "\n",
    "metal_field = \"Ba_Fraction\"\n",
    "\n",
    "N      = 1000\n",
    "rmax   = 600.0\n",
    "domain_width = gal.ds.domain_width\n",
    "center = gal.ds.domain_center.to('pc') / domain_width\n",
    "\n",
    "\n",
    "\n",
    "theta = np.random.rand(N) * np.pi * 2.0\n",
    "r_cyl = np.random.rand(N) * 600.0**2\n",
    "\n",
    "xvec  = (np.sqrt(r_cyl) * np.cos(theta)) * yt.units.pc / domain_width[0] + center[0]\n",
    "yvec  = (np.sqrt(r_cyl) * np.cos(theta)) * yt.units.pc / domain_width[1] + center[1]\n",
    "zvec  = (np.zeros(N))                    * yt.units.pc / domain_width[2] + center[2]\n",
    "\n",
    "pt_x  = [ gal.ds.r[ [xvec[i].value, yvec[i].value, zvec[i].value] ] for i in np.arange(N)]\n",
    "S_x   = np.array([p[metal_field][0] for p in pt_x])\n",
    "\n",
    "rsample   = np.arange(0,600.0,10.0)\n",
    "corrcoeff = np.zeros(np.size(rsample))\n",
    "\n",
    "for i in np.arange(np.size(rsample)):\n",
    "    \n",
    "    theta = np.random.rand(N) * np.pi * 2.0\n",
    "    r_cyl = np.random.rand(N) * (rsample[i])**2.0\n",
    "\n",
    "    xprime  = (np.sqrt(r_cyl) * np.cos(theta)) * yt.units.pc / domain_width[0] + xvec\n",
    "    yprime  = (np.sqrt(r_cyl) * np.cos(theta)) * yt.units.pc / domain_width[1] + yvec\n",
    "    zprime  = (np.zeros(N))                    * yt.units.pc / domain_width[2] + zvec\n",
    "    \n",
    "    pt_x_prime = [ gal.ds.r[ [xprime[j].value,yprime[j].value,zprime[j].value]] for j in np.arange(N)]\n",
    "    S_x_prime  = np.array([p[metal_field][0] for p in pt_x_prime])\n",
    "    \n",
    "    corrcoeff[i] = pearsonr(S_x, S_x_prime)[0]\n",
    "    \n",
    "ba_coeff = 1.0 * corrcoeff"
   ]
  },
  {
   "cell_type": "code",
   "execution_count": null,
   "metadata": {},
   "outputs": [],
   "source": [
    "#\n",
    "#\n",
    "#\n",
    "\n",
    "metal_field = \"O_Fraction\"\n",
    "\n",
    "N      = 1000\n",
    "rmax   = 600.0\n",
    "domain_width = gal.ds.domain_width\n",
    "center = gal.ds.domain_center.to('pc') / domain_width\n",
    "\n",
    "\n",
    "\n",
    "theta = np.random.rand(N) * np.pi * 2.0\n",
    "r_cyl = np.random.rand(N) * 600.0**2\n",
    "\n",
    "xvec  = (np.sqrt(r_cyl) * np.cos(theta)) * yt.units.pc / domain_width[0] + center[0]\n",
    "yvec  = (np.sqrt(r_cyl) * np.cos(theta)) * yt.units.pc / domain_width[1] + center[1]\n",
    "zvec  = (np.zeros(N))                    * yt.units.pc / domain_width[2] + center[2]\n",
    "\n",
    "pt_x  = [ gal.ds.r[ [xvec[i].value, yvec[i].value, zvec[i].value] ] for i in np.arange(N)]\n",
    "S_x   = np.array([p[metal_field][0] for p in pt_x])\n",
    "\n",
    "rsample   = np.arange(0,600.0,10.0)\n",
    "corrcoeff = np.zeros(np.size(rsample))\n",
    "\n",
    "for i in np.arange(np.size(rsample)):\n",
    "    \n",
    "    theta = np.random.rand(N) * np.pi * 2.0\n",
    "    r_cyl = np.random.rand(N) * (rsample[i])**2.0\n",
    "\n",
    "    xprime  = (np.sqrt(r_cyl) * np.cos(theta)) * yt.units.pc / domain_width[0] + xvec\n",
    "    yprime  = (np.sqrt(r_cyl) * np.cos(theta)) * yt.units.pc / domain_width[1] + yvec\n",
    "    zprime  = (np.zeros(N))                    * yt.units.pc / domain_width[2] + zvec\n",
    "    \n",
    "    pt_x_prime = [ gal.ds.r[ [xprime[j].value,yprime[j].value,zprime[j].value]] for j in np.arange(N)]\n",
    "    S_x_prime  = np.array([p[metal_field][0] for p in pt_x_prime])\n",
    "    \n",
    "    corrcoeff[i] = pearsonr(S_x, S_x_prime)[0]\n",
    "    \n",
    "O_coeff = 1.0 * corrcoeff"
   ]
  },
  {
   "cell_type": "code",
   "execution_count": 46,
   "metadata": {},
   "outputs": [
    {
     "data": {
      "image/png": "[encoded data removed]",
      "text/plain": [
       "<Figure size 600x600 with 1 Axes>"
      ]
     },
     "metadata": {},
     "output_type": "display_data"
    }
   ],
   "source": [
    "fig,ax = plt.subplots()\n",
    "fig.set_size_inches(6,6)\n",
    "\n",
    "ax.plot(rsample, corrcoeff, lw = 3, color = 'black')\n",
    "ax.set_xlim(0,600)\n",
    "ax.set_ylim(0.0,1.0)\n",
    "\n",
    "ax.set_xlabel(r'radius (pc)')\n",
    "ax.set_ylabel(r'Corr Coeff')\n",
    "\n",
    "plt.tight_layout()\n",
    "\n",
    "fig.savefig('AGB_corr_DD0500.png')\n",
    "\n"
   ]
  },
  {
   "cell_type": "code",
   "execution_count": null,
   "metadata": {},
   "outputs": [],
   "source": [
    "fig,ax = plt.subplots()\n",
    "fig.set_size_inches(6,6)\n",
    "\n",
    "ax.plot(rsample, O_coeff,  lw = 3, color = 'black', label = 'O')\n",
    "ax.plot(rsample, Ba_coeff, lw = 3, color = 'black', ls = '--', label = 'Ba')\n",
    "\n",
    "ax.set_xlim(0,600)\n",
    "ax.set_ylim(0.0,1.0)\n",
    "\n",
    "ax.set_xlabel(r'radius (pc)')\n",
    "ax.set_ylabel(r'Corr Coeff')\n",
    "ax.legend(loc='best')\n",
    "\n",
    "plt.tight_layout()\n",
    "\n",
    "fig.savefig('AGB_SNe_DD0419.png')\n",
    "\n"
   ]
  },
  {
   "cell_type": "code",
   "execution_count": 47,
   "metadata": {},
   "outputs": [],
   "source": [
    "\n"
   ]
  },
  {
   "cell_type": "code",
   "execution_count": null,
   "metadata": {},
   "outputs": [],
   "source": []
  }
 ],
 "metadata": {
  "kernelspec": {
   "display_name": "Python 3",
   "language": "python",
   "name": "python3"
  }
 },
 "nbformat": 4,
 "nbformat_minor": 2
}
