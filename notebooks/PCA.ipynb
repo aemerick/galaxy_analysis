{
 "cells": [
  {
   "cell_type": "code",
   "execution_count": 92,
   "metadata": {},
   "outputs": [],
   "source": [
    "%matplotlib inline\n",
    "from galaxy_analysis.plot.plot_styles import *\n",
    "####\n",
    "import numpy as np\n",
    "import matplotlib.pyplot as plt\n",
    "from galaxy_analysis.analysis import Galaxy\n",
    "from sklearn.decomposition import PCA\n",
    "import yt"
   ]
  },
  {
   "cell_type": "code",
   "execution_count": 88,
   "metadata": {},
   "outputs": [
    {
     "name": "stderr",
     "output_type": "stream",
     "text": [
      "Parsing Hierarchy : 100%|██████████| 422/422 [00:00<00:00, 41082.45it/s]\n"
     ]
    }
   ],
   "source": [
    "#\n",
    "# Load the data set and get all defined abundance ratios\n",
    "#\n",
    "gal = Galaxy('DD0619', wdir=\"/home/aemerick/work/enzo_runs/sn_H2atten_H2sh/\")\n",
    "derived_fields = gal.ds.derived_field_list\n",
    "abundance_fields = [x[1] for x in derived_fields if (('particle_' in x[1]) and ('_over_' in x[1]))]"
   ]
  },
  {
   "cell_type": "code",
   "execution_count": 6,
   "metadata": {},
   "outputs": [
    {
     "data": {
      "text/plain": [
       "YTArray([3.98402921e-28, 3.98402921e-28, 1.73634694e-11, ...,\n",
       "         2.67069546e-09, 2.67069546e-09, 9.50525643e-06]) (dimensionless)"
      ]
     },
     "execution_count": 6,
     "metadata": {},
     "output_type": "execute_result"
    }
   ],
   "source": [
    "gal.df['particle_O_fraction']"
   ]
  },
  {
   "cell_type": "code",
   "execution_count": 99,
   "metadata": {},
   "outputs": [
    {
     "name": "stdout",
     "output_type": "stream",
     "text": [
      "(173, 610)\n"
     ]
    }
   ],
   "source": [
    "#\n",
    "# Now gather all of the particle data for all main sequence stars:\n",
    "#\n",
    "select = (gal.df['creation_time'] > 300.0*yt.units.Myr) * (gal.df['creation_time'] < 350.0*yt.units.Myr)\n",
    "\n",
    "# for testing\n",
    "#abundance_fields = ['particle_O_over_Fe','particle_Mg_over_Fe','particle_N_over_Fe','particle_Ba_over_Fe']\n",
    "\n",
    "dtype = [ (x,'f8') for x in abundance_fields ]\n",
    "\n",
    "get_field = lambda name : gal.df[('io',name)][select].value\n",
    "all_data  = np.array( map( get_field, abundance_fields )) # , dtype = dtype)\n",
    "#all_data = np.zeros( len(gal.df['particle_type'][select]) , dtype = {'names':abundance_fields, 'formats':['f8']*len(abundance_fields)})\n",
    "#\n",
    "#for field in abundance_fields:\n",
    "#    all_data[field] = get_field(field)\n",
    "print np.shape(all_data)"
   ]
  },
  {
   "cell_type": "code",
   "execution_count": 97,
   "metadata": {},
   "outputs": [],
   "source": [
    "from sklearn.preprocessing import StandardScaler\n",
    "scaled_data = StandardScaler().fit_transform(all_data)"
   ]
  },
  {
   "cell_type": "code",
   "execution_count": 98,
   "metadata": {},
   "outputs": [
    {
     "name": "stdout",
     "output_type": "stream",
     "text": [
      "[9.96805109e-01 1.79864265e-03 7.91148039e-04 5.37780048e-04\n",
      " 5.22522260e-05 1.14101226e-05 2.82924168e-06 6.73379937e-07\n",
      " 1.18084604e-07 3.33837518e-08 2.95291707e-09 5.56930807e-10\n",
      " 3.06214987e-10 2.70510334e-10 1.37330143e-11 1.95009477e-13\n",
      " 8.54044550e-16 1.21473811e-30 2.00936232e-31 1.90026832e-31\n",
      " 1.13482098e-31 6.87368287e-32 4.47699074e-32 3.56889616e-32\n",
      " 1.90339917e-32 9.93119475e-33 9.93119475e-33 9.93119475e-33\n",
      " 9.93119475e-33 9.93119475e-33 9.93119475e-33 9.93119475e-33\n",
      " 9.93119475e-33 9.93119475e-33 9.93119475e-33 9.93119475e-33\n",
      " 9.93119475e-33 9.93119475e-33 9.93119475e-33 9.93119475e-33\n",
      " 9.93119475e-33 9.93119475e-33 9.93119475e-33 9.93119475e-33\n",
      " 9.93119475e-33 9.93119475e-33 9.93119475e-33 9.93119475e-33\n",
      " 9.93119475e-33 9.93119475e-33 9.93119475e-33 9.93119475e-33\n",
      " 9.93119475e-33 9.93119475e-33 9.93119475e-33 9.93119475e-33\n",
      " 9.93119475e-33 9.93119475e-33 9.93119475e-33 9.93119475e-33\n",
      " 9.93119475e-33 9.93119475e-33 9.93119475e-33 9.93119475e-33\n",
      " 9.93119475e-33 9.93119475e-33 9.93119475e-33 9.93119475e-33\n",
      " 9.93119475e-33 9.93119475e-33 9.93119475e-33 9.93119475e-33\n",
      " 9.93119475e-33 9.93119475e-33 9.93119475e-33 9.93119475e-33\n",
      " 9.93119475e-33 9.93119475e-33 9.93119475e-33 9.93119475e-33\n",
      " 9.93119475e-33 9.93119475e-33 9.93119475e-33 9.93119475e-33\n",
      " 9.93119475e-33 9.93119475e-33 9.93119475e-33 9.93119475e-33\n",
      " 9.93119475e-33 9.93119475e-33 9.93119475e-33 9.93119475e-33\n",
      " 9.93119475e-33 9.93119475e-33 9.93119475e-33 9.93119475e-33\n",
      " 9.93119475e-33 9.93119475e-33 9.93119475e-33 9.93119475e-33\n",
      " 9.93119475e-33 9.93119475e-33 9.93119475e-33 9.93119475e-33\n",
      " 9.93119475e-33 9.93119475e-33 9.93119475e-33 9.93119475e-33\n",
      " 9.93119475e-33 9.93119475e-33 9.93119475e-33 9.93119475e-33\n",
      " 9.93119475e-33 9.93119475e-33 9.93119475e-33 9.93119475e-33\n",
      " 9.93119475e-33 9.93119475e-33 9.93119475e-33 9.93119475e-33\n",
      " 9.93119475e-33 9.93119475e-33 9.93119475e-33 9.93119475e-33\n",
      " 9.93119475e-33 9.93119475e-33 9.93119475e-33 9.93119475e-33\n",
      " 9.93119475e-33 9.93119475e-33 9.93119475e-33 9.93119475e-33\n",
      " 9.93119475e-33 9.93119475e-33 9.93119475e-33 9.93119475e-33\n",
      " 9.93119475e-33 9.93119475e-33 9.93119475e-33 9.93119475e-33\n",
      " 9.93119475e-33 9.93119475e-33 9.93119475e-33 9.93119475e-33\n",
      " 9.93119475e-33 9.93119475e-33 9.93119475e-33 9.93119475e-33\n",
      " 9.93119475e-33 9.93119475e-33 9.93119475e-33 9.93119475e-33\n",
      " 9.93119475e-33 9.93119475e-33 9.93119475e-33 9.93119475e-33\n",
      " 9.93119475e-33 9.93119475e-33 9.93119475e-33 9.93119475e-33\n",
      " 9.93119475e-33 9.93119475e-33 9.93119475e-33 9.93119475e-33\n",
      " 9.93119475e-33 9.93119475e-33 9.93119475e-33 9.93119475e-33\n",
      " 9.93119475e-33 9.93119475e-33 9.93119475e-33 5.05124257e-33\n",
      " 6.74496492e-34]\n"
     ]
    }
   ],
   "source": [
    "pca = PCA(n_components=len(abundance_fields))\n",
    "pca.fit(scaled_data)\n",
    "print pca.explained_variance_ratio_"
   ]
  },
  {
   "cell_type": "code",
   "execution_count": 104,
   "metadata": {},
   "outputs": [
    {
     "name": "stderr",
     "output_type": "stream",
     "text": [
      "/home/aemerick/anaconda2/lib/python2.7/site-packages/sklearn/decomposition/base.py:73: RuntimeWarning: divide by zero encountered in divide\n",
      "  precision = np.dot(components_, components_.T) / self.noise_variance_\n",
      "/home/aemerick/anaconda2/lib/python2.7/site-packages/sklearn/decomposition/base.py:73: RuntimeWarning: invalid value encountered in divide\n",
      "  precision = np.dot(components_, components_.T) / self.noise_variance_\n"
     ]
    },
    {
     "ename": "ValueError",
     "evalue": "array must not contain infs or NaNs",
     "output_type": "error",
     "traceback": [
      "\u001b[0;31m---------------------------------------------------------------------------\u001b[0m",
      "\u001b[0;31mValueError\u001b[0m                                Traceback (most recent call last)",
      "\u001b[0;32m<ipython-input-104-22f9e4890b4c>\u001b[0m in \u001b[0;36m<module>\u001b[0;34m()\u001b[0m\n\u001b[0;32m----> 1\u001b[0;31m \u001b[0mpca\u001b[0m\u001b[0;34m.\u001b[0m\u001b[0mscore\u001b[0m\u001b[0;34m(\u001b[0m\u001b[0mscaled_data\u001b[0m\u001b[0;34m)\u001b[0m\u001b[0;34m\u001b[0m\u001b[0m\n\u001b[0m",
      "\u001b[0;32m/home/aemerick/anaconda2/lib/python2.7/site-packages/sklearn/decomposition/pca.pyc\u001b[0m in \u001b[0;36mscore\u001b[0;34m(self, X, y)\u001b[0m\n\u001b[1;32m    562\u001b[0m             \u001b[0mAverage\u001b[0m \u001b[0mlog\u001b[0m\u001b[0;34m-\u001b[0m\u001b[0mlikelihood\u001b[0m \u001b[0mof\u001b[0m \u001b[0mthe\u001b[0m \u001b[0msamples\u001b[0m \u001b[0munder\u001b[0m \u001b[0mthe\u001b[0m \u001b[0mcurrent\u001b[0m \u001b[0mmodel\u001b[0m\u001b[0;34m\u001b[0m\u001b[0m\n\u001b[1;32m    563\u001b[0m         \"\"\"\n\u001b[0;32m--> 564\u001b[0;31m         \u001b[0;32mreturn\u001b[0m \u001b[0mnp\u001b[0m\u001b[0;34m.\u001b[0m\u001b[0mmean\u001b[0m\u001b[0;34m(\u001b[0m\u001b[0mself\u001b[0m\u001b[0;34m.\u001b[0m\u001b[0mscore_samples\u001b[0m\u001b[0;34m(\u001b[0m\u001b[0mX\u001b[0m\u001b[0;34m)\u001b[0m\u001b[0;34m)\u001b[0m\u001b[0;34m\u001b[0m\u001b[0m\n\u001b[0m\u001b[1;32m    565\u001b[0m \u001b[0;34m\u001b[0m\u001b[0m\n\u001b[1;32m    566\u001b[0m \u001b[0;34m\u001b[0m\u001b[0m\n",
      "\u001b[0;32m/home/aemerick/anaconda2/lib/python2.7/site-packages/sklearn/decomposition/pca.pyc\u001b[0m in \u001b[0;36mscore_samples\u001b[0;34m(self, X)\u001b[0m\n\u001b[1;32m    537\u001b[0m         \u001b[0mn_features\u001b[0m \u001b[0;34m=\u001b[0m \u001b[0mX\u001b[0m\u001b[0;34m.\u001b[0m\u001b[0mshape\u001b[0m\u001b[0;34m[\u001b[0m\u001b[0;36m1\u001b[0m\u001b[0;34m]\u001b[0m\u001b[0;34m\u001b[0m\u001b[0m\n\u001b[1;32m    538\u001b[0m         \u001b[0mlog_like\u001b[0m \u001b[0;34m=\u001b[0m \u001b[0mnp\u001b[0m\u001b[0;34m.\u001b[0m\u001b[0mzeros\u001b[0m\u001b[0;34m(\u001b[0m\u001b[0mX\u001b[0m\u001b[0;34m.\u001b[0m\u001b[0mshape\u001b[0m\u001b[0;34m[\u001b[0m\u001b[0;36m0\u001b[0m\u001b[0;34m]\u001b[0m\u001b[0;34m)\u001b[0m\u001b[0;34m\u001b[0m\u001b[0m\n\u001b[0;32m--> 539\u001b[0;31m         \u001b[0mprecision\u001b[0m \u001b[0;34m=\u001b[0m \u001b[0mself\u001b[0m\u001b[0;34m.\u001b[0m\u001b[0mget_precision\u001b[0m\u001b[0;34m(\u001b[0m\u001b[0;34m)\u001b[0m\u001b[0;34m\u001b[0m\u001b[0m\n\u001b[0m\u001b[1;32m    540\u001b[0m         \u001b[0mlog_like\u001b[0m \u001b[0;34m=\u001b[0m \u001b[0;34m-\u001b[0m\u001b[0;36m.5\u001b[0m \u001b[0;34m*\u001b[0m \u001b[0;34m(\u001b[0m\u001b[0mXr\u001b[0m \u001b[0;34m*\u001b[0m \u001b[0;34m(\u001b[0m\u001b[0mnp\u001b[0m\u001b[0;34m.\u001b[0m\u001b[0mdot\u001b[0m\u001b[0;34m(\u001b[0m\u001b[0mXr\u001b[0m\u001b[0;34m,\u001b[0m \u001b[0mprecision\u001b[0m\u001b[0;34m)\u001b[0m\u001b[0;34m)\u001b[0m\u001b[0;34m)\u001b[0m\u001b[0;34m.\u001b[0m\u001b[0msum\u001b[0m\u001b[0;34m(\u001b[0m\u001b[0maxis\u001b[0m\u001b[0;34m=\u001b[0m\u001b[0;36m1\u001b[0m\u001b[0;34m)\u001b[0m\u001b[0;34m\u001b[0m\u001b[0m\n\u001b[1;32m    541\u001b[0m         log_like -= .5 * (n_features * log(2. * np.pi) -\n",
      "\u001b[0;32m/home/aemerick/anaconda2/lib/python2.7/site-packages/sklearn/decomposition/base.pyc\u001b[0m in \u001b[0;36mget_precision\u001b[0;34m(self)\u001b[0m\n\u001b[1;32m     74\u001b[0m         \u001b[0mprecision\u001b[0m\u001b[0;34m.\u001b[0m\u001b[0mflat\u001b[0m\u001b[0;34m[\u001b[0m\u001b[0;34m:\u001b[0m\u001b[0;34m:\u001b[0m\u001b[0mlen\u001b[0m\u001b[0;34m(\u001b[0m\u001b[0mprecision\u001b[0m\u001b[0;34m)\u001b[0m \u001b[0;34m+\u001b[0m \u001b[0;36m1\u001b[0m\u001b[0;34m]\u001b[0m \u001b[0;34m+=\u001b[0m \u001b[0;36m1.\u001b[0m \u001b[0;34m/\u001b[0m \u001b[0mexp_var_diff\u001b[0m\u001b[0;34m\u001b[0m\u001b[0m\n\u001b[1;32m     75\u001b[0m         precision = np.dot(components_.T,\n\u001b[0;32m---> 76\u001b[0;31m                            np.dot(linalg.inv(precision), components_))\n\u001b[0m\u001b[1;32m     77\u001b[0m         \u001b[0mprecision\u001b[0m \u001b[0;34m/=\u001b[0m \u001b[0;34m-\u001b[0m\u001b[0;34m(\u001b[0m\u001b[0mself\u001b[0m\u001b[0;34m.\u001b[0m\u001b[0mnoise_variance_\u001b[0m \u001b[0;34m**\u001b[0m \u001b[0;36m2\u001b[0m\u001b[0;34m)\u001b[0m\u001b[0;34m\u001b[0m\u001b[0m\n\u001b[1;32m     78\u001b[0m         \u001b[0mprecision\u001b[0m\u001b[0;34m.\u001b[0m\u001b[0mflat\u001b[0m\u001b[0;34m[\u001b[0m\u001b[0;34m:\u001b[0m\u001b[0;34m:\u001b[0m\u001b[0mlen\u001b[0m\u001b[0;34m(\u001b[0m\u001b[0mprecision\u001b[0m\u001b[0;34m)\u001b[0m \u001b[0;34m+\u001b[0m \u001b[0;36m1\u001b[0m\u001b[0;34m]\u001b[0m \u001b[0;34m+=\u001b[0m \u001b[0;36m1.\u001b[0m \u001b[0;34m/\u001b[0m \u001b[0mself\u001b[0m\u001b[0;34m.\u001b[0m\u001b[0mnoise_variance_\u001b[0m\u001b[0;34m\u001b[0m\u001b[0m\n",
      "\u001b[0;32m/home/aemerick/anaconda2/lib/python2.7/site-packages/scipy/linalg/basic.pyc\u001b[0m in \u001b[0;36minv\u001b[0;34m(a, overwrite_a, check_finite)\u001b[0m\n\u001b[1;32m    945\u001b[0m \u001b[0;34m\u001b[0m\u001b[0m\n\u001b[1;32m    946\u001b[0m     \"\"\"\n\u001b[0;32m--> 947\u001b[0;31m     \u001b[0ma1\u001b[0m \u001b[0;34m=\u001b[0m \u001b[0m_asarray_validated\u001b[0m\u001b[0;34m(\u001b[0m\u001b[0ma\u001b[0m\u001b[0;34m,\u001b[0m \u001b[0mcheck_finite\u001b[0m\u001b[0;34m=\u001b[0m\u001b[0mcheck_finite\u001b[0m\u001b[0;34m)\u001b[0m\u001b[0;34m\u001b[0m\u001b[0m\n\u001b[0m\u001b[1;32m    948\u001b[0m     \u001b[0;32mif\u001b[0m \u001b[0mlen\u001b[0m\u001b[0;34m(\u001b[0m\u001b[0ma1\u001b[0m\u001b[0;34m.\u001b[0m\u001b[0mshape\u001b[0m\u001b[0;34m)\u001b[0m \u001b[0;34m!=\u001b[0m \u001b[0;36m2\u001b[0m \u001b[0;32mor\u001b[0m \u001b[0ma1\u001b[0m\u001b[0;34m.\u001b[0m\u001b[0mshape\u001b[0m\u001b[0;34m[\u001b[0m\u001b[0;36m0\u001b[0m\u001b[0;34m]\u001b[0m \u001b[0;34m!=\u001b[0m \u001b[0ma1\u001b[0m\u001b[0;34m.\u001b[0m\u001b[0mshape\u001b[0m\u001b[0;34m[\u001b[0m\u001b[0;36m1\u001b[0m\u001b[0;34m]\u001b[0m\u001b[0;34m:\u001b[0m\u001b[0;34m\u001b[0m\u001b[0m\n\u001b[1;32m    949\u001b[0m         \u001b[0;32mraise\u001b[0m \u001b[0mValueError\u001b[0m\u001b[0;34m(\u001b[0m\u001b[0;34m'expected square matrix'\u001b[0m\u001b[0;34m)\u001b[0m\u001b[0;34m\u001b[0m\u001b[0m\n",
      "\u001b[0;32m/home/aemerick/anaconda2/lib/python2.7/site-packages/scipy/_lib/_util.pyc\u001b[0m in \u001b[0;36m_asarray_validated\u001b[0;34m(a, check_finite, sparse_ok, objects_ok, mask_ok, as_inexact)\u001b[0m\n\u001b[1;32m    236\u001b[0m             \u001b[0;32mraise\u001b[0m \u001b[0mValueError\u001b[0m\u001b[0;34m(\u001b[0m\u001b[0;34m'masked arrays are not supported'\u001b[0m\u001b[0;34m)\u001b[0m\u001b[0;34m\u001b[0m\u001b[0m\n\u001b[1;32m    237\u001b[0m     \u001b[0mtoarray\u001b[0m \u001b[0;34m=\u001b[0m \u001b[0mnp\u001b[0m\u001b[0;34m.\u001b[0m\u001b[0masarray_chkfinite\u001b[0m \u001b[0;32mif\u001b[0m \u001b[0mcheck_finite\u001b[0m \u001b[0;32melse\u001b[0m \u001b[0mnp\u001b[0m\u001b[0;34m.\u001b[0m\u001b[0masarray\u001b[0m\u001b[0;34m\u001b[0m\u001b[0m\n\u001b[0;32m--> 238\u001b[0;31m     \u001b[0ma\u001b[0m \u001b[0;34m=\u001b[0m \u001b[0mtoarray\u001b[0m\u001b[0;34m(\u001b[0m\u001b[0ma\u001b[0m\u001b[0;34m)\u001b[0m\u001b[0;34m\u001b[0m\u001b[0m\n\u001b[0m\u001b[1;32m    239\u001b[0m     \u001b[0;32mif\u001b[0m \u001b[0;32mnot\u001b[0m \u001b[0mobjects_ok\u001b[0m\u001b[0;34m:\u001b[0m\u001b[0;34m\u001b[0m\u001b[0m\n\u001b[1;32m    240\u001b[0m         \u001b[0;32mif\u001b[0m \u001b[0ma\u001b[0m\u001b[0;34m.\u001b[0m\u001b[0mdtype\u001b[0m \u001b[0;32mis\u001b[0m \u001b[0mnp\u001b[0m\u001b[0;34m.\u001b[0m\u001b[0mdtype\u001b[0m\u001b[0;34m(\u001b[0m\u001b[0;34m'O'\u001b[0m\u001b[0;34m)\u001b[0m\u001b[0;34m:\u001b[0m\u001b[0;34m\u001b[0m\u001b[0m\n",
      "\u001b[0;32m/home/aemerick/anaconda2/lib/python2.7/site-packages/numpy/lib/function_base.pyc\u001b[0m in \u001b[0;36masarray_chkfinite\u001b[0;34m(a, dtype, order)\u001b[0m\n\u001b[1;32m   1231\u001b[0m     \u001b[0;32mif\u001b[0m \u001b[0ma\u001b[0m\u001b[0;34m.\u001b[0m\u001b[0mdtype\u001b[0m\u001b[0;34m.\u001b[0m\u001b[0mchar\u001b[0m \u001b[0;32min\u001b[0m \u001b[0mtypecodes\u001b[0m\u001b[0;34m[\u001b[0m\u001b[0;34m'AllFloat'\u001b[0m\u001b[0;34m]\u001b[0m \u001b[0;32mand\u001b[0m \u001b[0;32mnot\u001b[0m \u001b[0mnp\u001b[0m\u001b[0;34m.\u001b[0m\u001b[0misfinite\u001b[0m\u001b[0;34m(\u001b[0m\u001b[0ma\u001b[0m\u001b[0;34m)\u001b[0m\u001b[0;34m.\u001b[0m\u001b[0mall\u001b[0m\u001b[0;34m(\u001b[0m\u001b[0;34m)\u001b[0m\u001b[0;34m:\u001b[0m\u001b[0;34m\u001b[0m\u001b[0m\n\u001b[1;32m   1232\u001b[0m         raise ValueError(\n\u001b[0;32m-> 1233\u001b[0;31m             \"array must not contain infs or NaNs\")\n\u001b[0m\u001b[1;32m   1234\u001b[0m     \u001b[0;32mreturn\u001b[0m \u001b[0ma\u001b[0m\u001b[0;34m\u001b[0m\u001b[0m\n\u001b[1;32m   1235\u001b[0m \u001b[0;34m\u001b[0m\u001b[0m\n",
      "\u001b[0;31mValueError\u001b[0m: array must not contain infs or NaNs"
     ]
    }
   ],
   "source": [
    "pca.score("
   ]
  },
  {
   "cell_type": "code",
   "execution_count": 51,
   "metadata": {},
   "outputs": [],
   "source": [
    "order = []\n",
    "for i, x in enumerate(all_data):\n",
    "    for y in top_five:\n",
    "        if np.allclose(x,y):\n",
    "            order += [i]"
   ]
  },
  {
   "cell_type": "code",
   "execution_count": 52,
   "metadata": {},
   "outputs": [
    {
     "data": {
      "text/plain": [
       "array([[ 1.86140727e-02,  1.86140727e-02, -7.67567152e-03, ...,\n",
       "        -5.82941054e-03, -5.82941054e-03, -8.44704018e-03],\n",
       "       [ 5.57655910e-03,  5.57655910e-03,  1.00452428e-02, ...,\n",
       "         1.38801371e-02,  1.38801371e-02, -2.77208113e-03],\n",
       "       [-1.06244542e-02, -1.06244542e-02, -4.58814744e-02, ...,\n",
       "         1.80957185e-04,  1.80957185e-04, -4.82401029e-04],\n",
       "       [-5.31198295e-01,  1.74699972e-02,  8.44005456e-01, ...,\n",
       "        -5.93670436e-04,  1.03935126e-04, -1.38739042e-04]])"
      ]
     },
     "execution_count": 52,
     "metadata": {},
     "output_type": "execute_result"
    }
   ],
   "source": [
    "top_five"
   ]
  },
  {
   "cell_type": "code",
   "execution_count": 54,
   "metadata": {},
   "outputs": [],
   "source": [
    "PCA.transform?"
   ]
  },
  {
   "cell_type": "code",
   "execution_count": null,
   "metadata": {},
   "outputs": [],
   "source": []
  }
 ],
 "metadata": {
  "kernelspec": {
   "display_name": "Python 2",
   "language": "python",
   "name": "python2"
  },
  "language_info": {
   "codemirror_mode": {
    "name": "ipython",
    "version": 2
   },
   "file_extension": ".py",
   "mimetype": "text/x-python",
   "name": "python",
   "nbconvert_exporter": "python",
   "pygments_lexer": "ipython2",
   "version": "2.7.14"
  }
 },
 "nbformat": 4,
 "nbformat_minor": 2
}
