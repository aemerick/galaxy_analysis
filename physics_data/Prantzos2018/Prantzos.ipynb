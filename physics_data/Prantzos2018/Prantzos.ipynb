{
 "cells": [
  {
   "cell_type": "code",
   "execution_count": null,
   "metadata": {},
   "outputs": [],
   "source": []
  },
  {
   "cell_type": "code",
   "execution_count": 1,
   "metadata": {},
   "outputs": [],
   "source": [
    "%matplotlib inline\n",
    "import numpy as np\n",
    "import matplotlib.pyplot as plt\n",
    "\n",
    "\n",
    "from astropy import constants as const\n",
    "from astropy import units as u\n",
    "\n",
    "\n",
    "from scipy.optimize import curve_fit\n",
    "\n",
    "from galaxy_analysis.plot.plot_styles import *\n",
    "def plot_settings():\n",
    "    fsize = 21\n",
    "    rc('text',usetex=False)\n",
    "    rc('font',size=fsize)\n",
    "    return\n",
    "\n"
   ]
  },
  {
   "cell_type": "code",
   "execution_count": null,
   "metadata": {},
   "outputs": [],
   "source": []
  },
  {
   "cell_type": "code",
   "execution_count": 28,
   "metadata": {},
   "outputs": [],
   "source": [
    "\n",
    "class FitData:\n",
    "    \n",
    "    def __init__(self, x, y, logx=True, logy=True):\n",
    "        \"\"\"\n",
    "        Class to simplify fitting polynomials to the datatsets\n",
    "        \"\"\"\n",
    "        \n",
    "        self.x = x\n",
    "        self.y = y\n",
    "        \n",
    "        self.logx=logx\n",
    "        self.logy=logy\n",
    "        \n",
    "        if self.logx:\n",
    "            self._fitx = np.log10(x)\n",
    "        else:\n",
    "            self._fitx = 1.0*self.x\n",
    "            \n",
    "        if self.logy:\n",
    "            self._fity = np.log10(y)\n",
    "        else:\n",
    "            self._fity = 1.0*self.y\n",
    "        \n",
    "        \n",
    "        self.params = None\n",
    "        \n",
    "        return\n",
    "    \n",
    "    def generate_polyfit(self, deg = 2, cut = None):\n",
    "        \"\"\"\n",
    "        Generate polynomial fits of specified degree. If \n",
    "        cut is provided, splits data x domain at that cut value\n",
    "        and fits multiple polynomials. Multiple cuts can be provided\n",
    "        as a list, and N_cut+1 fits will be made.\n",
    "        \"\"\"\n",
    "                \n",
    "        if cut is None:\n",
    "            self.deg    = [deg]\n",
    "            self.cut    = None\n",
    "            self.params = [np.polyfit(self._fitx, self._fity, deg = self.deg[0])]\n",
    "            \n",
    "        else:\n",
    "            \n",
    "            if np.size(cut) == 1:\n",
    "                self.deg = [deg,deg]\n",
    "                self.cut = [cut]\n",
    "            else:\n",
    "                if np.size(deg) == 1:\n",
    "                    self.deg = [deg] * (np.size(cut)+1)\n",
    "                else:\n",
    "                    self.deg = deg\n",
    "                self.cut = cut\n",
    "                            \n",
    "            cutmin = np.min(self.x)\n",
    "            cutmax = self.cut[0]\n",
    "            \n",
    "            self.params = [None]*(np.size(self.cut)+1)\n",
    "            \n",
    "            for i in np.arange(np.size(self.cut)+1):\n",
    "                \n",
    "                select = (self.x>=cutmin) * (self.x < cutmax)\n",
    "                \n",
    "                self.params[i] = np.polyfit(self._fitx[select], \n",
    "                                            self._fity[select], deg=self.deg[i])\n",
    "                \n",
    "                cutmin = cutmax*1.0\n",
    "                \n",
    "                if i >= (np.size(self.cut) - 1):\n",
    "                    cutmax = np.max(self.x)*1.0001\n",
    "                else:\n",
    "                    cutmax = self.cut[i+1]\n",
    "                    \n",
    "        \n",
    "        self.error    = (self.y - self.evaluate(self.x)) / self.y\n",
    "        self.abserror = np.abs(self.error)\n",
    "        \n",
    "        self.maxerror     = np.max(self.abserror)\n",
    "        self.avgerror     = np.average(self.abserror)\n",
    "        \n",
    "        return\n",
    "    \n",
    "    def evaluate(self, xvals):\n",
    "        \"\"\"\n",
    "        Once fit, evaluate\n",
    "        \"\"\"\n",
    "        \n",
    "        if self.params is None:\n",
    "            print(\"No fit made yet\")\n",
    "            raise RuntimeError\n",
    "        \n",
    "        result = np.zeros(np.size(xvals))\n",
    "        \n",
    "        if self.logx:\n",
    "            result_x = np.log10(xvals)\n",
    "        else:\n",
    "            result_x = 1.0*xvals\n",
    "        \n",
    "        if self.cut is None:\n",
    "            for i,c in enumerate(self.params[0]):\n",
    "                result += c * result_x**(self.deg[0]-i)\n",
    "        else:\n",
    "            \n",
    "            cutmin = np.min( [np.min(self.x),np.min(xvals)])\n",
    "            cutmax = self.cut[0]\n",
    "            \n",
    "            for j in np.arange(len(self.cut)+1):\n",
    "                \n",
    "                select = (xvals>=cutmin)*(xvals<cutmax)\n",
    "                \n",
    "                for i,c in enumerate(self.params[j]):\n",
    "            \n",
    "                    result[select] += c * result_x[select]**(self.deg[0]-i)\n",
    "                \n",
    "                \n",
    "                cutmin = 1.0*cutmax\n",
    "                if j >= len(self.cut) - 1:\n",
    "                    cutmax = np.max(self.x)*1.0001\n",
    "                else:\n",
    "                    cutmax = self.cut[j+1]                \n",
    "        \n",
    "        if self.logy:\n",
    "            return 10.0**result\n",
    "        else:\n",
    "            return result\n",
    "    \n",
    "    \n",
    "    def output_to_code(self, fit_only = None, end='\\n'):\n",
    "        \"\"\"\n",
    "        print out polynomial fit(s) in a way that can be copy-pasted\n",
    "        to c++\n",
    "        \"\"\"\n",
    "        \n",
    "        if fit_only is None:\n",
    "            print(\"%i polynomial fits made\"%(len(self.params)))\n",
    "        \n",
    "            if not (self.cut is None):\n",
    "                cutmin = np.min(self.x)\n",
    "                cutmax = self.cut[0]        \n",
    "            \n",
    "                for i in np.arange(np.size(self.cut)+1):\n",
    "                    print(\"%i degree over the range %5.5E <= x < %5.5E\"%(self.deg[i],cutmin,cutmax))\n",
    "                \n",
    "                    cutmin = cutmax*1.0\n",
    "                \n",
    "                    if i >= (np.size(self.cut) - 1):\n",
    "                        cutmax = np.max(self.x)*1.0001\n",
    "                    else:\n",
    "                        cutmax = self.cut[i+1]\n",
    "        \n",
    "            output_params = self.params\n",
    "        else:\n",
    "            output_params = [self.params[fit_only]]\n",
    "        \n",
    "        \n",
    "        for j, p in enumerate(output_params):\n",
    "            if self.logy:\n",
    "                print(\"= pow(10.0, \",end='')\n",
    "            else:\n",
    "                print(\"= (\",end='')\n",
    "                \n",
    "            for i, c in enumerate(p):\n",
    "                \n",
    "                if self.deg[j]-i == 0:\n",
    "                    print(\" %5.4e\"%(c),end='')\n",
    "                elif self.deg[j]-i == 1:\n",
    "                    print(\" %5.4e*x\"%(c), end = '')                    \n",
    "                else:\n",
    "                    print(\" %5.4e*x%i\"%(c, self.deg[j]-i), end = '')\n",
    "                \n",
    "                if i < np.size(p) - 1:\n",
    "                    if p[i+1] > 0:\n",
    "                        print(\" +\",end='')\n",
    "                \n",
    "                    \n",
    "            print(\");\",end=end)\n",
    "            \n",
    "        return\n",
    "    \n"
   ]
  },
  {
   "cell_type": "code",
   "execution_count": 29,
   "metadata": {},
   "outputs": [],
   "source": [
    "def JW_J21(z):\n",
    "    #\n",
    "    # Fit from Wise+2012 model\n",
    "    #\n",
    "    \n",
    "    J21 = 10.0**(-2.356 + 0.45620 * z - 0.02680*z*z + 5.882E-4*z*z*z + - 5.056E-6 * z*z*z*z)\n",
    "    \n",
    "    return J21\n",
    "    "
   ]
  },
  {
   "cell_type": "code",
   "execution_count": 40,
   "metadata": {},
   "outputs": [],
   "source": [
    "#\n",
    "# Load and generate fit to Qin+2020 data \n",
    "#\n",
    "Data = np.genfromtxt(\"prantzos_fig4_fractions.dat\",names=True)\n",
    "\n",
    "select = Data['FeH'] > -2.7\n",
    "\n",
    "all_fits = {}\n",
    "for name in ['v0','v150','v300']:\n",
    "    all_fits[name] = FitData(Data['FeH'][select], Data[name][select], logx=False,\n",
    "                             logy=False)\n",
    "    all_fits[name].generate_polyfit(deg=3)"
   ]
  },
  {
   "cell_type": "code",
   "execution_count": null,
   "metadata": {},
   "outputs": [],
   "source": []
  },
  {
   "cell_type": "code",
   "execution_count": 41,
   "metadata": {},
   "outputs": [
    {
     "data": {
      "image/png": "[encoded data removed]",
      "text/plain": [
       "<Figure size 432x432 with 1 Axes>"
      ]
     },
     "metadata": {
      "needs_background": "light"
     },
     "output_type": "display_data"
    }
   ],
   "source": [
    "fig,ax = plt.subplots()\n",
    "fig.set_size_inches(6,6)\n",
    "\n",
    "x = np.linspace(-2.8,0.5,20)\n",
    "\n",
    "for i,name in enumerate(['v0','v150','v300']):\n",
    "    y = all_fits[name].evaluate(x)\n",
    "    \n",
    "    color = 'C%i'%(i)\n",
    "    ax.plot(x,y,label=name,lw=3, color = color, ls = '--')\n",
    "    \n",
    "    ax.plot(Data['FeH'], Data[name], lw = 3, color = color)\n",
    "    \n",
    "ax.legend(loc='best')\n",
    "\n",
    "plt.tight_layout()\n"
   ]
  },
  {
   "cell_type": "code",
   "execution_count": 6,
   "metadata": {},
   "outputs": [
    {
     "data": {
      "image/png": "[encoded data removed]",
      "text/plain": [
       "<Figure size 432x432 with 1 Axes>"
      ]
     },
     "metadata": {
      "needs_background": "light"
     },
     "output_type": "display_data"
    }
   ],
   "source": [
    "plot_settings()\n",
    "from matplotlib.ticker import NullFormatter\n",
    "\n",
    "\n",
    "fig,ax = plt.subplots()\n",
    "fig.set_size_inches(6,6)\n",
    "\n",
    "\n",
    "z = np.linspace(25,6,100)\n",
    "\n",
    "ax.plot(QinData['z'], QinData['J_LW'], lw = 3, color = 'C0', ls = '-', label = 'Qin+2020')\n",
    "ax.plot(z, QinFit.evaluate(z), lw = 3, color = 'black', ls = '--', label = 'Qin+2020 - Fit')\n",
    "ax.plot(z, JW_J21(z), lw = 3, label = \"Wise+2012\",color = 'C1')\n",
    "\n",
    "\n",
    "ax.set_ylabel(r\"$J^{21}_{\\rm LW}$\")\n",
    "ax.set_xlabel(\"z\")\n",
    "\n",
    "ax.set_xlim(25,6)\n",
    "ax.legend(loc='best')\n",
    "\n",
    "\n",
    "ax.semilogy()\n",
    "ax.semilogx()\n",
    "\n",
    "ax.set_ylim(0.01,10.0)\n",
    "ax.xaxis.set_major_formatter(NullFormatter())\n",
    "ax.xaxis.set_minor_formatter(NullFormatter())\n",
    "ax.set_xticks([25,18,13,10,8,7,6])\n",
    "ax.set_xticklabels([25,18,13,10,8,7,6])\n",
    "\n",
    "plt.tight_layout()\n",
    "\n",
    "fig.savefig(\"J_21_comparison.png\")\n"
   ]
  },
  {
   "cell_type": "code",
   "execution_count": 7,
   "metadata": {},
   "outputs": [
    {
     "name": "stdout",
     "output_type": "stream",
     "text": [
      "1 polynomial fits made\n",
      "= pow(10.0,  -6.8115e-05*x3 + 2.3357e-03*x2 -1.5068e-01*x + 1.6685e+00);\n"
     ]
    }
   ],
   "source": [
    "QinFit.output_to_code()"
   ]
  },
  {
   "cell_type": "code",
   "execution_count": 8,
   "metadata": {},
   "outputs": [
    {
     "data": {
      "text/plain": [
       "[array([-6.81146659e-05,  2.33572998e-03, -1.50677598e-01,  1.66846384e+00])]"
      ]
     },
     "execution_count": 8,
     "metadata": {},
     "output_type": "execute_result"
    }
   ],
   "source": [
    "QinFit.params"
   ]
  },
  {
   "cell_type": "code",
   "execution_count": 13,
   "metadata": {},
   "outputs": [
    {
     "name": "stdout",
     "output_type": "stream",
     "text": [
      "2.123955145946458\n"
     ]
    }
   ],
   "source": [
    "z = 10.0\n",
    "print(10.0**(-6.8114659E-5 * z*z*z + 2.3357E-3 *z*z - 1.50677E-1*z + 1.66846))"
   ]
  },
  {
   "cell_type": "code",
   "execution_count": 11,
   "metadata": {},
   "outputs": [
    {
     "data": {
      "text/plain": [
       "array([2.12395934])"
      ]
     },
     "execution_count": 11,
     "metadata": {},
     "output_type": "execute_result"
    }
   ],
   "source": [
    "QinFit.evaluate(10.0)"
   ]
  },
  {
   "cell_type": "code",
   "execution_count": 12,
   "metadata": {},
   "outputs": [
    {
     "data": {
      "text/plain": [
       "[3]"
      ]
     },
     "execution_count": 12,
     "metadata": {},
     "output_type": "execute_result"
    }
   ],
   "source": [
    "QinFit.deg"
   ]
  },
  {
   "cell_type": "code",
   "execution_count": null,
   "metadata": {},
   "outputs": [],
   "source": []
  }
 ],
 "metadata": {
  "kernelspec": {
   "display_name": "Python 3",
   "language": "python",
   "name": "python3"
  },
  "language_info": {
   "codemirror_mode": {
    "name": "ipython",
    "version": 3
   },
   "file_extension": ".py",
   "mimetype": "text/x-python",
   "name": "python",
   "nbconvert_exporter": "python",
   "pygments_lexer": "ipython3",
   "version": "3.7.3"
  }
 },
 "nbformat": 4,
 "nbformat_minor": 2
}
