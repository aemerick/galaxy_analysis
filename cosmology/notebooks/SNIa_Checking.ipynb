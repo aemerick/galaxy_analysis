{
 "cells": [
  {
   "cell_type": "code",
   "execution_count": 3,
   "metadata": {},
   "outputs": [],
   "source": [
    "%matplotlib inline\n",
    "import yt \n",
    "import numpy as np\n",
    "import matplotlib.pyplot as plt\n",
    "\n",
    "from yt.visualization.base_plot_types import get_multi_plot\n",
    "import matplotlib.colorbar as cb\n",
    "from matplotlib.colors import LogNorm\n",
    "\n",
    "\n",
    "from galaxy_analysis.yt_fields import field_generators as fg\n",
    "from galaxy_analysis.utilities import convert_abundances as ca\n",
    "from galaxy_analysis.utilities import utilities as galutil\n",
    "from galaxy_analysis.plot.plot_styles import *\n",
    "\n",
    "from matplotlib.ticker import (MultipleLocator, FormatStrFormatter,\n",
    "                               AutoMinorLocator)\n",
    "\n",
    "def plot_settings():\n",
    "    fsize = 21\n",
    "    rc('text',usetex=False)\n",
    "    rc('font',size=fsize)\n",
    "    return\n",
    "\n",
    "plot_settings()\n",
    "\n",
    "rc('text',usetex=False)\n",
    "rc('font',size=fsize)\n"
   ]
  },
  {
   "cell_type": "code",
   "execution_count": 4,
   "metadata": {},
   "outputs": [],
   "source": [
    "workdir = \"/home/aemerick/work/enzo_runs/cosmo_testing/feedback/grid/\"\n"
   ]
  },
  {
   "cell_type": "code",
   "execution_count": 11,
   "metadata": {},
   "outputs": [
    {
     "name": "stdout",
     "output_type": "stream",
     "text": [
      "defining for the following metals  ['C', 'N', 'O', 'Mg', 'Ca', 'Fe', 'Sr', 'Ba']\n",
      "tracer species present:  ['C', 'N', 'O', 'Mg', 'Ca', 'Fe', 'Sr', 'Ba']\n",
      "8 mass fields defined\n",
      "8 mass fraction fields defined\n",
      "8 number density fields defined\n",
      "54 abundance ratio fields defined\n",
      "54 particle abundance ratio fields defined\n",
      "5 additional helper fields defined\n"
     ]
    }
   ],
   "source": [
    "dsname = 'DD0045'\n",
    "dsname = dsname + '/' + dsname\n",
    "\n",
    "ds = yt.load(workdir + dsname)\n",
    "fg.generate_derived_fields(ds)\n",
    "ds = yt.load(workdir + dsname)\n",
    "fg.generate_particle_filters(ds)\n",
    "data = ds.all_data()"
   ]
  },
  {
   "cell_type": "code",
   "execution_count": 12,
   "metadata": {
    "scrolled": false
   },
   "outputs": [
    {
     "name": "stdout",
     "output_type": "stream",
     "text": [
      "              Type 0 -                          Field:      Sum     Min     Max\n",
      "                 all -             agb_metal_fraction:    1.000E-16   1.000E-20  1.000E-20\n",
      "                 all -                     birth_mass:    7.905E+04   7.900E+00  7.910E+00\n",
      "                 all -                  creation_time:    0.000E+00   0.000E+00  0.000E+00\n",
      "                 all -                 dynamical_time:    1.525E+36   1.443E+15  1.337E+35\n",
      "                 all -           metallicity_fraction:    1.000E+02   1.000E-02  1.000E-02\n",
      "                 all -           particle_Ba_fraction:    1.000E-12   1.000E-16  1.000E-16\n",
      "                 all -            particle_C_fraction:    1.000E-12   1.000E-16  1.000E-16\n",
      "                 all -           particle_Ca_fraction:    1.000E-12   1.000E-16  1.000E-16\n",
      "                 all -           particle_Fe_fraction:    1.000E-12   1.000E-16  1.000E-16\n",
      "                 all -            particle_H_fraction:    7.500E+07   7.500E+03  7.500E+03\n",
      "                 all -           particle_He_fraction:    2.500E+07   2.500E+03  2.500E+03\n",
      "                 all -           particle_Mg_fraction:    1.000E-12   1.000E-16  1.000E-16\n",
      "                 all -            particle_N_fraction:    1.000E-12   1.000E-16  1.000E-16\n",
      "                 all -            particle_O_fraction:    1.000E-12   1.000E-16  1.000E-16\n",
      "                 all -           particle_Sr_fraction:    1.000E-12   1.000E-16  1.000E-16\n",
      "                 all -                 particle_index:    5.000E+07   0.000E+00  9.999E+03\n",
      "                 all -                  particle_mass:    2.614E+37   0.000E+00  2.620E+33\n",
      "                 all -            particle_position_x:    4.490E+03   3.000E-01  6.000E-01\n",
      "                 all -            particle_position_y:    4.513E+03   3.000E-01  6.000E-01\n",
      "                 all -            particle_position_z:    3.695E+03   3.680E-01  3.710E-01\n",
      "                 all -                  particle_type:    1.200E+05   1.200E+01  1.200E+01\n",
      "                 all -            particle_velocity_x:    0.000E+00   0.000E+00  0.000E+00\n",
      "                 all -            particle_velocity_y:    0.000E+00   0.000E+00  0.000E+00\n",
      "                 all -            particle_velocity_z:    0.000E+00   0.000E+00  0.000E+00\n",
      "                 all -          popIII_metal_fraction:    1.000E-16   1.000E-20  1.000E-20\n",
      "                 all -    popIII_pisne_metal_fraction:    1.000E-16   1.000E-20  1.000E-20\n",
      "                 all -        rprocess_metal_fraction:    1.000E-16   1.000E-20  1.000E-20\n",
      "                 all -                sn_mass_ejected:    2.502E+01   0.000E+00  1.317E+00\n",
      "                 all -       snia_hers_metal_fraction:    9.958E-17   -1.000E-20  1.000E-20\n",
      "                 all -            snia_metal_fraction:    8.750E-17   -1.000E-20  1.000E-20\n",
      "                 all -        snia_sch_metal_fraction:    8.370E-17   -1.000E-20  1.000E-20\n",
      "                 all -        snia_sds_metal_fraction:    9.960E-17   -1.000E-20  1.000E-20\n",
      "                 all -            snii_metal_fraction:    1.000E-16   1.000E-20  1.000E-20\n",
      "                 all -              wind_mass_ejected:    5.010E+04   5.005E+00  5.015E+00\n",
      "                enzo -              AGB_Metal_Density:    2.612E+06   2.279E-17  1.460E+06\n",
      "                enzo -                     Ba_Density:    1.089E+00   2.279E-17  6.086E-01\n",
      "                enzo -                      C_Density:    4.973E+04   2.279E-17  2.754E+04\n",
      "                enzo -                     Ca_Density:    5.004E+03   2.279E-17  2.718E+03\n",
      "                enzo -            Dark_Matter_Density:    3.644E-21   0.000E+00  9.510E-23\n",
      "                enzo -                        Density:    3.692E-20   7.429E-30  1.953E-20\n",
      "                enzo -               Electron_Density:    2.960E-24   5.557E-30  1.050E-26\n",
      "                enzo -                FUV_FluxDensity:    1.383E+05   3.377E+01  3.377E+01\n",
      "                enzo -                     Fe_Density:    1.136E+05   2.279E-17  5.960E+04\n",
      "                enzo -                      GasEnergy:    4.902E+00   3.757E-06  2.354E-02\n",
      "                enzo -                  GravPotential:    -5.962E+00   -1.500E-02  -7.249E-04\n",
      "                enzo -                   H2II_Density:    2.784E-30   5.312E-38  4.310E-32\n",
      "                enzo -                     H2II_kdiss:    0.000E+00   0.000E+00  0.000E+00\n",
      "                enzo -                    H2I_Density:    1.524E-20   8.702E-37  1.454E-20\n",
      "                enzo -                      H2I_kdiss:    0.000E+00   0.000E+00  0.000E+00\n",
      "                enzo -                    HII_Density:    2.675E-24   5.030E-30  9.776E-27\n",
      "                enzo -                     HI_Density:    1.259E-20   5.012E-31  3.993E-22\n",
      "                enzo -                         HI_kph:    0.000E+00   0.000E+00  0.000E+00\n",
      "                enzo -                     HM_Density:    2.440E-31   8.310E-43  4.146E-33\n",
      "                enzo -                         HM_kph:    0.000E+00   0.000E+00  0.000E+00\n",
      "                enzo -                  HeIII_Density:    1.204E-26   1.744E-49  9.341E-29\n",
      "                enzo -                   HeII_Density:    1.117E-24   1.195E-30  2.888E-27\n",
      "                enzo -                       HeII_kph:    0.000E+00   0.000E+00  0.000E+00\n",
      "                enzo -                    HeI_Density:    8.790E-21   8.967E-32  4.649E-21\n",
      "                enzo -                        HeI_kph:    0.000E+00   0.000E+00  0.000E+00\n",
      "                enzo -                  Metal_Density:    2.922E-22   1.439E-31  1.611E-22\n",
      "                enzo -                     Mg_Density:    6.822E+04   2.279E-17  3.814E+04\n",
      "                enzo -                      N_Density:    6.173E+05   2.279E-17  3.451E+05\n",
      "                enzo -                      O_Density:    3.805E+05   2.279E-17  2.120E+05\n",
      "                enzo -                Pe_heating_rate:    2.481E+02   8.782E-25  3.305E+00\n",
      "                enzo -                     PhotoGamma:    0.000E+00   0.000E+00  0.000E+00\n",
      "                enzo -           PopIII_Metal_Density:    2.486E-12   4.766E-23  1.281E-12\n",
      "                enzo -     PopIII_PISNe_Metal_Density:    2.486E-12   4.766E-23  1.281E-12\n",
      "                enzo -         RProcess_Metal_Density:    2.486E-12   4.766E-23  1.281E-12\n",
      "                enzo -                      RadAccel1:    0.000E+00   0.000E+00  0.000E+00\n",
      "                enzo -                      RadAccel2:    0.000E+00   0.000E+00  0.000E+00\n",
      "                enzo -                      RadAccel3:    0.000E+00   0.000E+00  0.000E+00\n",
      "                enzo -             SNII_Metal_Density:    2.486E-12   4.766E-23  1.281E-12\n",
      "                enzo -        SNIa_HeRS_Metal_Density:    2.486E-12   4.766E-23  1.281E-12\n",
      "                enzo -             SNIa_Metal_Density:    4.810E+04   2.279E-17  2.015E+04\n",
      "                enzo -         SNIa_SDS_Metal_Density:    2.486E-12   4.766E-23  1.281E-12\n",
      "                enzo -         SNIa_sCh_Metal_Density:    2.486E-12   4.766E-23  1.281E-12\n",
      "                enzo -                     Sr_Density:    4.139E+00   2.279E-17  2.314E+00\n",
      "                enzo -                    Temperature:    3.990E+06   3.558E+00  1.791E+04\n",
      "                enzo -                    TotalEnergy:    2.220E+01   2.548E-05  3.565E-02\n",
      "                enzo -                     x-velocity:    5.551E+01   -1.725E-01  1.779E-01\n",
      "                enzo -                     y-velocity:    -4.982E+00   -2.138E-01  2.037E-01\n",
      "                enzo -                     z-velocity:    7.960E+01   -1.800E-01  2.344E-01\n",
      "                  io -             agb_metal_fraction:    1.000E-16   1.000E-20  1.000E-20\n",
      "                  io -                     birth_mass:    7.905E+04   7.900E+00  7.910E+00\n",
      "                  io -                  creation_time:    0.000E+00   0.000E+00  0.000E+00\n",
      "                  io -                 dynamical_time:    4.833E+22   4.572E+01  4.235E+21\n",
      "                  io -           metallicity_fraction:    1.000E+02   1.000E-02  1.000E-02\n",
      "                  io -           particle_Ba_fraction:    1.000E-12   1.000E-16  1.000E-16\n",
      "                  io -            particle_C_fraction:    1.000E-12   1.000E-16  1.000E-16\n",
      "                  io -           particle_Ca_fraction:    1.000E-12   1.000E-16  1.000E-16\n",
      "                  io -           particle_Fe_fraction:    1.000E-12   1.000E-16  1.000E-16\n",
      "                  io -            particle_H_fraction:    7.500E+07   7.500E+03  7.500E+03\n",
      "                  io -           particle_He_fraction:    2.500E+07   2.500E+03  2.500E+03\n",
      "                  io -           particle_Mg_fraction:    1.000E-12   1.000E-16  1.000E-16\n",
      "                  io -            particle_N_fraction:    1.000E-12   1.000E-16  1.000E-16\n",
      "                  io -            particle_O_fraction:    1.000E-12   1.000E-16  1.000E-16\n",
      "                  io -           particle_Sr_fraction:    1.000E-12   1.000E-16  1.000E-16\n",
      "                  io -                 particle_index:    5.000E+07   0.000E+00  9.999E+03\n",
      "                  io -                  particle_mass:    8.896E+03   0.000E+00  8.916E-01\n",
      "                  io -            particle_position_x:    4.490E+03   3.000E-01  6.000E-01\n",
      "                  io -            particle_position_y:    4.513E+03   3.000E-01  6.000E-01\n",
      "                  io -            particle_position_z:    3.695E+03   3.680E-01  3.710E-01\n",
      "                  io -                  particle_type:    1.200E+05   1.200E+01  1.200E+01\n",
      "                  io -            particle_velocity_x:    0.000E+00   0.000E+00  0.000E+00\n",
      "                  io -            particle_velocity_y:    0.000E+00   0.000E+00  0.000E+00\n",
      "                  io -            particle_velocity_z:    0.000E+00   0.000E+00  0.000E+00\n",
      "                  io -          popIII_metal_fraction:    1.000E-16   1.000E-20  1.000E-20\n",
      "                  io -    popIII_pisne_metal_fraction:    1.000E-16   1.000E-20  1.000E-20\n",
      "                  io -        rprocess_metal_fraction:    1.000E-16   1.000E-20  1.000E-20\n",
      "                  io -                sn_mass_ejected:    2.502E+01   0.000E+00  1.317E+00\n",
      "                  io -       snia_hers_metal_fraction:    9.958E-17   -1.000E-20  1.000E-20\n",
      "                  io -            snia_metal_fraction:    8.750E-17   -1.000E-20  1.000E-20\n",
      "                  io -        snia_sch_metal_fraction:    8.370E-17   -1.000E-20  1.000E-20\n",
      "                  io -        snia_sds_metal_fraction:    9.960E-17   -1.000E-20  1.000E-20\n",
      "                  io -            snii_metal_fraction:    1.000E-16   1.000E-20  1.000E-20\n",
      "                  io -              wind_mass_ejected:    5.010E+04   5.005E+00  5.015E+00\n"
     ]
    }
   ],
   "source": [
    "field_units  =  {'Density' : 'g/cm**3',\n",
    "                 'x_velocity' : 'km/s',\n",
    "                 'y_velocity' : 'km/s','z_velocity':'km/s','vx' : 'km/s',\n",
    "                 \"Temperature\" : 'K'}\n",
    "\n",
    "print(\"%20s - %30s:    %5s   %5s   %5s\"%(\"Type 0\",\"Field\",\"Sum\",\"Min\",\"Max\"))\n",
    "for field in ds.field_list:\n",
    "\n",
    "    vals = data[field]\n",
    "\n",
    "    if np.size(vals) > 0:\n",
    "        if field[1] in field_units:\n",
    "            vals = vals.to(field_units[field[1]])\n",
    "        elif 'kph' in field[1]:\n",
    "            vals = vals.to('1/s')\n",
    "        elif '_Density' in field[1]:\n",
    "            try:\n",
    "                vals = vals.to('g/cm**3')\n",
    "            except:\n",
    "                vals = vals\n",
    "\n",
    "        print(\"%20s - %30s:    %5.3E   %5.3E  %5.3E\"%(field[0],field[1], np.sum(vals), np.min(vals), np.max(vals)))\n",
    "    else:\n",
    "        print(\"%20s - %30s:    None    None    None\"%(field[0],field[1]))\n"
   ]
  },
  {
   "cell_type": "code",
   "execution_count": 13,
   "metadata": {},
   "outputs": [
    {
     "name": "stdout",
     "output_type": "stream",
     "text": [
      "[12.] dimensionless\n"
     ]
    }
   ],
   "source": [
    "pt = data['particle_type']\n",
    "print(np.unique(pt))"
   ]
  },
  {
   "cell_type": "code",
   "execution_count": 14,
   "metadata": {},
   "outputs": [
    {
     "name": "stdout",
     "output_type": "stream",
     "text": [
      "0\n"
     ]
    }
   ],
   "source": [
    "#\n",
    "# Check to make sure no particles that are SNIa\n",
    "# get double assigned SNIa types \n",
    "#\n",
    "\n",
    "num_doubled = 0\n",
    "nsnia = 0\n",
    "\n",
    "for i in np.arange(np.size(pt)):\n",
    "    num_neg = 0\n",
    "    \n",
    "    if (data['snia_metal_fraction'][i] < 0):\n",
    "        num_neg += 1\n",
    "    if (data['snia_sch_metal_fraction'][i] < 0):\n",
    "        num_neg += 1\n",
    "    if (data['snia_sds_metal_fraction'][i] < 0):\n",
    "        num_neg += 1\n",
    "    if (data['snia_hers_metal_fraction'][i] < 0):\n",
    "        num_neg += 1\n",
    "   \n",
    "    if num_neg == 1:\n",
    "        nsnia += 1\n",
    "    elif num_neg > 1:\n",
    "        num_doubled += 1\n",
    "        print(\"doubled up on particle\",i,num_neg)\n",
    "        \n",
    "print(num_doubled)"
   ]
  },
  {
   "cell_type": "code",
   "execution_count": 15,
   "metadata": {},
   "outputs": [
    {
     "name": "stdout",
     "output_type": "stream",
     "text": [
      "Number of particles  10000\n",
      "Number of WD particles  10000\n",
      "Number of particles that will (or have) gone SNIa  1481\n",
      "Number of particles that have gone SNIa  19\n",
      "Fraction of SNIa Types\n",
      "       DDS: Number =  625  - Fraction = 0.06250 - Target Fraction 0.05127\n",
      "       sCh: Number =  815  - Fraction = 0.08150 - Target Fraction 0.09073\n",
      "       SDS: Number =   20  - Fraction = 0.00200 - Target Fraction 0.00524\n",
      "      HeRS: Number =   21  - Fraction = 0.00210 - Target Fraction 0.00360\n",
      "     Total: Number = 1481 - Fraction = 0.14810 - Target Fraction 0.15085\n"
     ]
    }
   ],
   "source": [
    "#\n",
    "# Check out the WD particles\n",
    "#\n",
    "\n",
    "def check_SNIa_properties(data):\n",
    "    pt = data['particle_type']\n",
    "    m  = data['particle_mass'].to('Msun')\n",
    "    WD_select = pt == 12\n",
    "\n",
    "    complete_SNIa = (pt==12)*(m==0.0)\n",
    "\n",
    "    n_part = np.size(pt)\n",
    "\n",
    "\n",
    "    ideal = {'DDS' : 0.05126958193824957,'SDS': 0.005242912915506227, 'sCh' :0.09073471211157359,\n",
    "               'HeRS' : 0.0035997607307840106, 'total' : 0.15084696769611342}\n",
    "\n",
    "\n",
    "    print(\"Number of particles \", n_part)\n",
    "    print(\"Number of WD particles \", np.size(pt[WD_select]))\n",
    "    print(\"Number of particles that will (or have) gone SNIa \", nsnia)\n",
    "    print(\"Number of particles that have gone SNIa \", np.size(pt[complete_SNIa]))\n",
    "\n",
    "    sntypes = ['DDS','sCh','SDS','HeRS']\n",
    "    #\n",
    "    # Count the types\n",
    "    #\n",
    "    #\n",
    "    num_snia = {}\n",
    "    data_field = {'DDS' : 'snia_metal_fraction', 'sCh' : 'snia_sch_metal_fraction',\n",
    "                  'SDS' : 'snia_sds_metal_fraction', 'HeRS' : 'snia_hers_metal_fraction'}\n",
    "    for sntype in sntypes:\n",
    "        select = data[ data_field[sntype] ] < 0\n",
    "\n",
    "        num_snia[sntype] = np.size(pt[select])\n",
    "\n",
    "\n",
    "    print(\"Fraction of SNIa Types\")\n",
    "    total_num = 0\n",
    "    for sntype in sntypes:\n",
    "        total_num += num_snia[sntype]\n",
    "        print(\"%10s: Number = %4i  - Fraction = %.5f - Target Fraction %.5f\"%(sntype, num_snia[sntype], num_snia[sntype]/(1.0*n_part), ideal[sntype]))\n",
    "\n",
    "    print(\"%10s: Number = %4i - Fraction = %.5f - Target Fraction %.5f\"%(\"Total\", total_num, total_num/(1.0*n_part), ideal['total']))\n",
    "    \n",
    "check_SNIa_properties(data)"
   ]
  },
  {
   "cell_type": "code",
   "execution_count": 16,
   "metadata": {
    "scrolled": true
   },
   "outputs": [
    {
     "name": "stdout",
     "output_type": "stream",
     "text": [
      "1462\n",
      "45.719598489255766 Myr 13474.6658621177 Myr\n",
      "1123.170382903028 Myr\n",
      "2012.4369188683963 Myr\n"
     ]
    }
   ],
   "source": [
    "#\n",
    "# Check lifetimes\n",
    "#\n",
    "\n",
    "lt = data['dynamical_time'].to('Myr')\n",
    "\n",
    "select = lt < 15.0E3 # Myr\n",
    "\n",
    "print(np.size(lt[select]))\n",
    "\n",
    "print(np.min(lt[select]), np.max(lt[select]))\n",
    "print(np.median(lt[select]))\n",
    "print(np.average(lt[select]))"
   ]
  },
  {
   "cell_type": "code",
   "execution_count": null,
   "metadata": {},
   "outputs": [],
   "source": [
    "\n"
   ]
  },
  {
   "cell_type": "code",
   "execution_count": null,
   "metadata": {},
   "outputs": [],
   "source": []
  }
 ],
 "metadata": {
  "kernelspec": {
   "display_name": "Python 3",
   "language": "python",
   "name": "python3"
  },
  "language_info": {
   "codemirror_mode": {
    "name": "ipython",
    "version": 3
   },
   "file_extension": ".py",
   "mimetype": "text/x-python",
   "name": "python",
   "nbconvert_exporter": "python",
   "pygments_lexer": "ipython3",
   "version": "3.7.3"
  }
 },
 "nbformat": 4,
 "nbformat_minor": 2
}
