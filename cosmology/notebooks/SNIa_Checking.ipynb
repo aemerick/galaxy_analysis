{
 "cells": [
  {
   "cell_type": "code",
   "execution_count": 22,
   "metadata": {},
   "outputs": [],
   "source": [
    "%matplotlib inline\n",
    "import yt \n",
    "import numpy as np\n",
    "import matplotlib.pyplot as plt\n",
    "\n",
    "from yt.visualization.base_plot_types import get_multi_plot\n",
    "import matplotlib.colorbar as cb\n",
    "from matplotlib.colors import LogNorm\n",
    "\n",
    "\n",
    "from galaxy_analysis.yt_fields import field_generators as fg\n",
    "from galaxy_analysis.utilities import convert_abundances as ca\n",
    "from galaxy_analysis.utilities import utilities as galutil\n",
    "from galaxy_analysis.plot.plot_styles import *\n",
    "\n",
    "from matplotlib.ticker import (MultipleLocator, FormatStrFormatter,\n",
    "                               AutoMinorLocator)\n",
    "\n",
    "def plot_settings():\n",
    "    fsize = 21\n",
    "    rc('text',usetex=False)\n",
    "    rc('font',size=fsize)\n",
    "    return\n",
    "\n",
    "plot_settings()\n",
    "\n",
    "rc('text',usetex=False)\n",
    "rc('font',size=fsize)\n"
   ]
  },
  {
   "cell_type": "code",
   "execution_count": 23,
   "metadata": {},
   "outputs": [],
   "source": [
    "workdir = \"/home/aemerick/work/enzo_runs/cosmo_testing/feedback/grid/\"\n"
   ]
  },
  {
   "cell_type": "code",
   "execution_count": 35,
   "metadata": {},
   "outputs": [
    {
     "name": "stdout",
     "output_type": "stream",
     "text": [
      "defining for the following metals  ['C', 'N', 'O', 'Mg', 'Ca', 'Fe', 'Sr', 'Ba']\n",
      "tracer species present:  ['C', 'N', 'O', 'Mg', 'Ca', 'Fe', 'Sr', 'Ba']\n",
      "8 mass fields defined\n",
      "8 mass fraction fields defined\n",
      "8 number density fields defined\n",
      "54 abundance ratio fields defined\n",
      "54 particle abundance ratio fields defined\n",
      "5 additional helper fields defined\n"
     ]
    }
   ],
   "source": [
    "dsname = 'DD0002'\n",
    "dsname = dsname + '/' + dsname\n",
    "\n",
    "ds = yt.load(workdir + dsname)\n",
    "fg.generate_derived_fields(ds)\n",
    "ds = yt.load(workdir + dsname)\n",
    "fg.generate_particle_filters(ds)\n",
    "data = ds.all_data()"
   ]
  },
  {
   "cell_type": "code",
   "execution_count": 36,
   "metadata": {
    "scrolled": false
   },
   "outputs": [
    {
     "name": "stdout",
     "output_type": "stream",
     "text": [
      "              Type 0 -                          Field:      Sum     Min     Max\n",
      "                 all -             agb_metal_fraction:    1.000E-16   1.000E-20  1.000E-20\n",
      "                 all -                     birth_mass:    7.905E+04   7.900E+00  7.910E+00\n",
      "                 all -                  creation_time:    0.000E+00   0.000E+00  0.000E+00\n",
      "                 all -                 dynamical_time:    1.318E+19   1.316E+15  1.320E+15\n",
      "                 all -           metallicity_fraction:    1.000E+02   1.000E-02  1.000E-02\n",
      "                 all -           particle_Ba_fraction:    1.000E-12   1.000E-16  1.000E-16\n",
      "                 all -            particle_C_fraction:    1.000E-12   1.000E-16  1.000E-16\n",
      "                 all -           particle_Ca_fraction:    1.000E-12   1.000E-16  1.000E-16\n",
      "                 all -           particle_Fe_fraction:    1.000E-12   1.000E-16  1.000E-16\n",
      "                 all -            particle_H_fraction:    7.500E+07   7.500E+03  7.500E+03\n",
      "                 all -           particle_He_fraction:    2.500E+07   2.500E+03  2.500E+03\n",
      "                 all -           particle_Mg_fraction:    1.000E-12   1.000E-16  1.000E-16\n",
      "                 all -            particle_N_fraction:    1.000E-12   1.000E-16  1.000E-16\n",
      "                 all -            particle_O_fraction:    1.000E-12   1.000E-16  1.000E-16\n",
      "                 all -           particle_Sr_fraction:    1.000E-12   1.000E-16  1.000E-16\n",
      "                 all -                 particle_index:    5.000E+07   0.000E+00  9.999E+03\n",
      "                 all -                  particle_mass:    1.572E+38   1.571E+34  1.573E+34\n",
      "                 all -            particle_position_x:    4.490E+03   3.100E-01  5.895E-01\n",
      "                 all -            particle_position_y:    4.513E+03   3.106E-01  5.891E-01\n",
      "                 all -            particle_position_z:    3.696E+03   3.683E-01  3.709E-01\n",
      "                 all -                  particle_type:    1.100E+05   1.100E+01  1.100E+01\n",
      "                 all -            particle_velocity_x:    2.460E+06   -1.891E+05  1.813E+05\n",
      "                 all -            particle_velocity_y:    2.340E+06   -1.901E+05  1.818E+05\n",
      "                 all -            particle_velocity_z:    6.314E+06   -4.645E+03  5.905E+03\n",
      "                 all -          popIII_metal_fraction:    1.000E-16   1.000E-20  1.000E-20\n",
      "                 all -    popIII_pisne_metal_fraction:    1.000E-16   1.000E-20  1.000E-20\n",
      "                 all -        rprocess_metal_fraction:    1.000E-16   1.000E-20  1.000E-20\n",
      "                 all -                sn_mass_ejected:    0.000E+00   0.000E+00  0.000E+00\n",
      "                 all -       snia_hers_metal_fraction:    1.000E-16   1.000E-20  1.000E-20\n",
      "                 all -            snia_metal_fraction:    1.000E-16   1.000E-20  1.000E-20\n",
      "                 all -        snia_sch_metal_fraction:    1.000E-16   1.000E-20  1.000E-20\n",
      "                 all -        snia_sds_metal_fraction:    1.000E-16   1.000E-20  1.000E-20\n",
      "                 all -            snii_metal_fraction:    1.000E-16   1.000E-20  1.000E-20\n",
      "                 all -              wind_mass_ejected:    0.000E+00   0.000E+00  0.000E+00\n",
      "                enzo -              AGB_Metal_Density:    4.120E-13   9.687E-17  1.990E-16\n",
      "                enzo -                     Ba_Density:    4.120E-13   9.687E-17  1.990E-16\n",
      "                enzo -                      C_Density:    4.120E-13   9.687E-17  1.990E-16\n",
      "                enzo -                     Ca_Density:    4.120E-13   9.687E-17  1.990E-16\n",
      "                enzo -            Dark_Matter_Density:    2.191E-20   0.000E+00  7.188E-22\n",
      "                enzo -                        Density:    4.120E-21   9.687E-25  1.990E-24\n",
      "                enzo -               Electron_Density:    4.145E-23   9.861E-27  1.614E-26\n",
      "                enzo -                FUV_FluxDensity:    1.383E+05   3.377E+01  3.377E+01\n",
      "                enzo -                     Fe_Density:    4.120E-13   9.687E-17  1.990E-16\n",
      "                enzo -                      GasEnergy:    1.786E+00   4.285E-04  5.863E-04\n",
      "                enzo -                  GravPotential:    -3.875E+00   -3.854E-03  -4.613E-04\n",
      "                enzo -                   H2II_Density:    1.606E-31   3.717E-35  9.994E-35\n",
      "                enzo -                     H2II_kdiss:    0.000E+00   0.000E+00  0.000E+00\n",
      "                enzo -                    H2I_Density:    1.247E-24   2.893E-28  7.244E-28\n",
      "                enzo -                      H2I_kdiss:    0.000E+00   0.000E+00  0.000E+00\n",
      "                enzo -                    HII_Density:    3.768E-23   8.963E-27  1.467E-26\n",
      "                enzo -                     HI_Density:    3.089E-21   7.262E-25  1.495E-24\n",
      "                enzo -                         HI_kph:    0.000E+00   0.000E+00  0.000E+00\n",
      "                enzo -                     HM_Density:    1.883E-30   4.299E-34  1.391E-33\n",
      "                enzo -                         HM_kph:    0.000E+00   0.000E+00  0.000E+00\n",
      "                enzo -                  HeIII_Density:    4.717E-31   8.596E-35  1.172E-34\n",
      "                enzo -                   HeII_Density:    1.509E-23   3.589E-27  5.883E-27\n",
      "                enzo -                       HeII_kph:    0.000E+00   0.000E+00  0.000E+00\n",
      "                enzo -                    HeI_Density:    9.727E-22   2.287E-25  4.712E-25\n",
      "                enzo -                        HeI_kph:    0.000E+00   0.000E+00  0.000E+00\n",
      "                enzo -                  Metal_Density:    4.120E-24   9.687E-28  1.990E-27\n",
      "                enzo -                     Mg_Density:    4.120E-13   9.687E-17  1.990E-16\n",
      "                enzo -                      N_Density:    4.120E-13   9.687E-17  1.990E-16\n",
      "                enzo -                      O_Density:    4.120E-13   9.687E-17  1.990E-16\n",
      "                enzo -                Pe_heating_rate:    1.080E+00   2.526E-04  5.671E-04\n",
      "                enzo -                     PhotoGamma:    0.000E+00   0.000E+00  0.000E+00\n",
      "                enzo -           PopIII_Metal_Density:    4.120E-13   9.687E-17  1.990E-16\n",
      "                enzo -     PopIII_PISNe_Metal_Density:    4.120E-13   9.687E-17  1.990E-16\n",
      "                enzo -         RProcess_Metal_Density:    4.120E-13   9.687E-17  1.990E-16\n",
      "                enzo -                      RadAccel1:    0.000E+00   0.000E+00  0.000E+00\n",
      "                enzo -                      RadAccel2:    0.000E+00   0.000E+00  0.000E+00\n",
      "                enzo -                      RadAccel3:    0.000E+00   0.000E+00  0.000E+00\n",
      "                enzo -             SNII_Metal_Density:    4.120E-13   9.687E-17  1.990E-16\n",
      "                enzo -        SNIa_HeRS_Metal_Density:    4.120E-13   9.687E-17  1.990E-16\n",
      "                enzo -             SNIa_Metal_Density:    4.120E-13   9.687E-17  1.990E-16\n",
      "                enzo -         SNIa_SDS_Metal_Density:    4.120E-13   9.687E-17  1.990E-16\n",
      "                enzo -         SNIa_sCh_Metal_Density:    4.120E-13   9.687E-17  1.990E-16\n",
      "                enzo -                     Sr_Density:    4.120E-13   9.687E-17  1.990E-16\n",
      "                enzo -                    Temperature:    1.663E+06   3.991E+02  5.473E+02\n",
      "                enzo -                    TotalEnergy:    1.848E+00   4.329E-04  7.687E-04\n",
      "                enzo -                     x-velocity:    -6.560E-01   -2.012E-02  2.008E-02\n",
      "                enzo -                     y-velocity:    -6.262E-01   -2.008E-02  1.996E-02\n",
      "                enzo -                     z-velocity:    -1.692E+00   -2.133E-02  2.211E-02\n",
      "                  io -             agb_metal_fraction:    1.000E-16   1.000E-20  1.000E-20\n",
      "                  io -                     birth_mass:    7.905E+04   7.900E+00  7.910E+00\n",
      "                  io -                  creation_time:    0.000E+00   0.000E+00  0.000E+00\n",
      "                  io -                 dynamical_time:    4.176E+05   4.170E+01  4.181E+01\n",
      "                  io -           metallicity_fraction:    1.000E+02   1.000E-02  1.000E-02\n",
      "                  io -           particle_Ba_fraction:    1.000E-12   1.000E-16  1.000E-16\n",
      "                  io -            particle_C_fraction:    1.000E-12   1.000E-16  1.000E-16\n"
     ]
    },
    {
     "name": "stdout",
     "output_type": "stream",
     "text": [
      "                  io -           particle_Ca_fraction:    1.000E-12   1.000E-16  1.000E-16\n",
      "                  io -           particle_Fe_fraction:    1.000E-12   1.000E-16  1.000E-16\n",
      "                  io -            particle_H_fraction:    7.500E+07   7.500E+03  7.500E+03\n",
      "                  io -           particle_He_fraction:    2.500E+07   2.500E+03  2.500E+03\n",
      "                  io -           particle_Mg_fraction:    1.000E-12   1.000E-16  1.000E-16\n",
      "                  io -            particle_N_fraction:    1.000E-12   1.000E-16  1.000E-16\n",
      "                  io -            particle_O_fraction:    1.000E-12   1.000E-16  1.000E-16\n",
      "                  io -           particle_Sr_fraction:    1.000E-12   1.000E-16  1.000E-16\n",
      "                  io -                 particle_index:    5.000E+07   0.000E+00  9.999E+03\n",
      "                  io -                  particle_mass:    5.350E+04   5.347E+00  5.354E+00\n",
      "                  io -            particle_position_x:    4.490E+03   3.100E-01  5.895E-01\n",
      "                  io -            particle_position_y:    4.513E+03   3.106E-01  5.891E-01\n",
      "                  io -            particle_position_z:    3.696E+03   3.683E-01  3.709E-01\n",
      "                  io -                  particle_type:    1.100E+05   1.100E+01  1.100E+01\n",
      "                  io -            particle_velocity_x:    2.516E-01   -1.934E-02  1.854E-02\n",
      "                  io -            particle_velocity_y:    2.393E-01   -1.944E-02  1.859E-02\n",
      "                  io -            particle_velocity_z:    6.457E-01   -4.750E-04  6.038E-04\n",
      "                  io -          popIII_metal_fraction:    1.000E-16   1.000E-20  1.000E-20\n",
      "                  io -    popIII_pisne_metal_fraction:    1.000E-16   1.000E-20  1.000E-20\n",
      "                  io -        rprocess_metal_fraction:    1.000E-16   1.000E-20  1.000E-20\n",
      "                  io -                sn_mass_ejected:    0.000E+00   0.000E+00  0.000E+00\n",
      "                  io -       snia_hers_metal_fraction:    1.000E-16   1.000E-20  1.000E-20\n",
      "                  io -            snia_metal_fraction:    1.000E-16   1.000E-20  1.000E-20\n",
      "                  io -        snia_sch_metal_fraction:    1.000E-16   1.000E-20  1.000E-20\n",
      "                  io -        snia_sds_metal_fraction:    1.000E-16   1.000E-20  1.000E-20\n",
      "                  io -            snii_metal_fraction:    1.000E-16   1.000E-20  1.000E-20\n",
      "                  io -              wind_mass_ejected:    0.000E+00   0.000E+00  0.000E+00\n"
     ]
    }
   ],
   "source": [
    "field_units  =  {'Density' : 'g/cm**3',\n",
    "                 'x_velocity' : 'km/s',\n",
    "                 'y_velocity' : 'km/s','z_velocity':'km/s','vx' : 'km/s',\n",
    "                 \"Temperature\" : 'K'}\n",
    "\n",
    "print(\"%20s - %30s:    %5s   %5s   %5s\"%(\"Type 0\",\"Field\",\"Sum\",\"Min\",\"Max\"))\n",
    "for field in ds.field_list:\n",
    "\n",
    "    vals = data[field]\n",
    "\n",
    "    if np.size(vals) > 0:\n",
    "        if field[1] in field_units:\n",
    "            vals = vals.to(field_units[field[1]])\n",
    "        elif 'kph' in field[1]:\n",
    "            vals = vals.to('1/s')\n",
    "        elif '_Density' in field[1]:\n",
    "            try:\n",
    "                vals = vals.to('g/cm**3')\n",
    "            except:\n",
    "                vals = vals\n",
    "\n",
    "        print(\"%20s - %30s:    %5.3E   %5.3E  %5.3E\"%(field[0],field[1], np.sum(vals), np.min(vals), np.max(vals)))\n",
    "    else:\n",
    "        print(\"%20s - %30s:    None    None    None\"%(field[0],field[1]))\n"
   ]
  },
  {
   "cell_type": "code",
   "execution_count": 37,
   "metadata": {},
   "outputs": [
    {
     "name": "stdout",
     "output_type": "stream",
     "text": [
      "[11.] dimensionless\n"
     ]
    }
   ],
   "source": [
    "pt = data['particle_type']\n",
    "print(np.unique(pt))"
   ]
  },
  {
   "cell_type": "code",
   "execution_count": 27,
   "metadata": {},
   "outputs": [
    {
     "name": "stdout",
     "output_type": "stream",
     "text": [
      "0\n"
     ]
    }
   ],
   "source": [
    "#\n",
    "# Check to make sure no particles that are SNIa\n",
    "# get double assigned SNIa types \n",
    "#\n",
    "\n",
    "num_doubled = 0\n",
    "nsnia = 0\n",
    "\n",
    "for i in np.arange(np.size(pt)):\n",
    "    num_neg = 0\n",
    "    \n",
    "    if (data['snia_metal_fraction'][i] < 0):\n",
    "        num_neg += 1\n",
    "    if (data['snia_sch_metal_fraction'][i] < 0):\n",
    "        num_neg += 1\n",
    "    if (data['snia_sds_metal_fraction'][i] < 0):\n",
    "        num_neg += 1\n",
    "    if (data['snia_hers_metal_fraction'][i] < 0):\n",
    "        num_neg += 1\n",
    "   \n",
    "    if num_neg == 1:\n",
    "        nsnia += 1\n",
    "    elif num_neg > 1:\n",
    "        num_doubled += 1\n",
    "        print(\"doubled up on particle\",i,num_neg)\n",
    "        \n",
    "print(num_doubled)"
   ]
  },
  {
   "cell_type": "code",
   "execution_count": 28,
   "metadata": {},
   "outputs": [
    {
     "name": "stdout",
     "output_type": "stream",
     "text": [
      "Number of particles  10000\n",
      "Number of WD particles  0\n",
      "Number of particles that will (or have) gone SNIa  0\n",
      "Number of particles that have gone SNIa  0\n",
      "Fraction of SNIa Types\n",
      "       DDS: Number =    0  - Fraction = 0.00000 - Target Fraction 0.05127\n",
      "       sCh: Number =    0  - Fraction = 0.00000 - Target Fraction 0.09073\n",
      "       SDS: Number =    0  - Fraction = 0.00000 - Target Fraction 0.00524\n",
      "      HeRS: Number =    0  - Fraction = 0.00000 - Target Fraction 0.00360\n",
      "     Total: Number =    0 - Fraction = 0.00000 - Target Fraction 0.15085\n"
     ]
    }
   ],
   "source": [
    "#\n",
    "# Check out the WD particles\n",
    "#\n",
    "pt = data['particle_type']\n",
    "m  = data['particle_mass'].to('Msun')\n",
    "WD_select = pt == 12\n",
    "\n",
    "complete_SNIa = (pt==12)*(m==0.0)\n",
    "\n",
    "n_part = np.size(pt)\n",
    "\n",
    "\n",
    "ideal = {'DDS' : 0.05126958193824957,'SDS': 0.005242912915506227, 'sCh' :0.09073471211157359,\n",
    "           'HeRS' : 0.0035997607307840106, 'total' : 0.15084696769611342}\n",
    "\n",
    "\n",
    "print(\"Number of particles \", n_part)\n",
    "print(\"Number of WD particles \", np.size(pt[WD_select]))\n",
    "print(\"Number of particles that will (or have) gone SNIa \", nsnia)\n",
    "print(\"Number of particles that have gone SNIa \", np.size(pt[complete_SNIa]))\n",
    "\n",
    "sntypes = ['DDS','sCh','SDS','HeRS']\n",
    "#\n",
    "# Count the types\n",
    "#\n",
    "#\n",
    "num_snia = {}\n",
    "data_field = {'DDS' : 'snia_metal_fraction', 'sCh' : 'snia_sch_metal_fraction',\n",
    "              'SDS' : 'snia_sds_metal_fraction', 'HeRS' : 'snia_hers_metal_fraction'}\n",
    "for sntype in sntypes:\n",
    "    select = data[ data_field[sntype] ] < 0\n",
    "    \n",
    "    num_snia[sntype] = np.size(pt[select])\n",
    "    \n",
    "    \n",
    "print(\"Fraction of SNIa Types\")\n",
    "total_num = 0\n",
    "for sntype in sntypes:\n",
    "    total_num += num_snia[sntype]\n",
    "    print(\"%10s: Number = %4i  - Fraction = %.5f - Target Fraction %.5f\"%(sntype, num_snia[sntype], num_snia[sntype]/(1.0*n_part), ideal[sntype]))\n",
    "\n",
    "print(\"%10s: Number = %4i - Fraction = %.5f - Target Fraction %.5f\"%(\"Total\", total_num, total_num/(1.0*n_part), ideal['total']))"
   ]
  },
  {
   "cell_type": "code",
   "execution_count": 29,
   "metadata": {},
   "outputs": [
    {
     "name": "stdout",
     "output_type": "stream",
     "text": [
      "10000\n",
      "41.695177738484546 Myr 41.81252978680254 Myr\n",
      "41.81252978680254 Myr\n",
      "41.75515637037987 Myr\n"
     ]
    }
   ],
   "source": [
    "#\n",
    "# Check lifetimes\n",
    "#\n",
    "\n",
    "lt = data['dynamical_time'].to('Myr')\n",
    "\n",
    "select = lt < 15.0E3 # Myr\n",
    "\n",
    "print(np.size(lt[select]))\n",
    "\n",
    "print(np.min(lt[select]), np.max(lt[select]))\n",
    "print(np.median(lt[select]))\n",
    "print(np.average(lt[select]))"
   ]
  },
  {
   "cell_type": "code",
   "execution_count": null,
   "metadata": {},
   "outputs": [],
   "source": [
    "\n"
   ]
  }
 ],
 "metadata": {
  "kernelspec": {
   "display_name": "Python 3",
   "language": "python",
   "name": "python3"
  },
  "language_info": {
   "codemirror_mode": {
    "name": "ipython",
    "version": 3
   },
   "file_extension": ".py",
   "mimetype": "text/x-python",
   "name": "python",
   "nbconvert_exporter": "python",
   "pygments_lexer": "ipython3",
   "version": "3.7.3"
  }
 },
 "nbformat": 4,
 "nbformat_minor": 2
}
