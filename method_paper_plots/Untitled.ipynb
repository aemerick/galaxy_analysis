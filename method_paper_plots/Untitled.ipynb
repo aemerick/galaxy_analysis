{
 "cells": [
  {
   "cell_type": "code",
   "execution_count": 2,
   "metadata": {},
   "outputs": [
    {
     "name": "stderr",
     "output_type": "stream",
     "text": [
      "/home/aemerick/.local/lib/python3.7/site-packages/yt/fields/local_fields.py:46: UserWarning: Because 'sampling_type' not specified, yt will assume a cell 'sampling_type'\n",
      "  warnings.warn(\"Because 'sampling_type' not specified, yt will \"\n"
     ]
    }
   ],
   "source": [
    "%matplotlib inline\n",
    "from galaxy_analysis.analysis import time_average_phase_diagram as tapd\n",
    "from galaxy_analysis.utilities import utilities\n",
    "from galaxy_analysis.analysis import Galaxy\n",
    "from galaxy_analysis.yt_fields import field_generators as fg\n",
    "import yt\n",
    "import numpy as np\n",
    "import glob as glob\n",
    "import os, sys\n",
    "\n"
   ]
  },
  {
   "cell_type": "code",
   "execution_count": null,
   "metadata": {},
   "outputs": [],
   "source": [
    "\n",
    "\n",
    "pd = tapd.time_average_phase_diagram(t_min, t_max,\n",
    "                                     ds_list = sim_files['phase_files'], wdir = wdir,\n",
    "                                     x_bins = np.logspace(-6, 3, 512)*yt.units.cm**(-3),\n",
    "                                     xlog  = True, xfield = 'number_density',\n",
    "                                     y_bins = np.logspace(0,7.5, 512) * yt.units.K, yfield = 'Temperature',\n",
    "                                     region_type = 'disk', region_kwargs = {'radius' : 600*yt.units.pc,\n",
    "                                                                            'height' : 200*yt.units.pc,\n",
    "                                                                            'center': np.array([0.5,0.5,0.5])},\n",
    "                                     zlog=True,\n",
    "#                                      region_type = 'FullBox', zlog = True,\n",
    "                                         ylog=True,\n",
    "                                     zlim = [1.0E-2, 6.0E4], zunit = 'Msun', cmap = 'cubehelix',\n",
    "                                     outname = 'nT_disk.png',\n",
    "                                     outdir  = outdir)\n"
   ]
  },
  {
   "cell_type": "code",
   "execution_count": 3,
   "metadata": {},
   "outputs": [],
   "source": [
    "ds = yt.load('/home/aemerick/work/enzo_runs/leo_p/fiducial/3pc_H2/DD1079/DD1079')\n",
    "data = ds.all_data()"
   ]
  },
  {
   "cell_type": "code",
   "execution_count": 4,
   "metadata": {},
   "outputs": [
    {
     "name": "stderr",
     "output_type": "stream",
     "text": [
      "Parsing Hierarchy : 100%|██████████| 891/891 [00:00<00:00, 6491.56it/s]\n"
     ]
    }
   ],
   "source": [
    "pd = yt.PhasePlot(ds, 'number_density', 'Temperature', 'cell_mass')"
   ]
  },
  {
   "cell_type": "code",
   "execution_count": 13,
   "metadata": {},
   "outputs": [],
   "source": [
    "x = pd.plots[('gas','cell_mass')]"
   ]
  },
  {
   "cell_type": "code",
   "execution_count": null,
   "metadata": {},
   "outputs": [],
   "source": [
    "x.image."
   ]
  }
 ],
 "metadata": {
  "kernelspec": {
   "display_name": "Python 3",
   "language": "python",
   "name": "python3"
  },
  "language_info": {
   "codemirror_mode": {
    "name": "ipython",
    "version": 3
   },
   "file_extension": ".py",
   "mimetype": "text/x-python",
   "name": "python",
   "nbconvert_exporter": "python",
   "pygments_lexer": "ipython3",
   "version": "3.7.3"
  }
 },
 "nbformat": 4,
 "nbformat_minor": 2
}
