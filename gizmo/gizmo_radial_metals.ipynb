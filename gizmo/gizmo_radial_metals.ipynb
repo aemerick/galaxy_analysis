{
 "cells": [
  {
   "cell_type": "code",
   "execution_count": 21,
   "metadata": {},
   "outputs": [],
   "source": [
    "%matplotlib inline\n",
    "import numpy as np\n",
    "import matplotlib.pyplot as plt\n",
    "from matplotlib import rc\n",
    "\n",
    "#\n",
    "# Andrew Wetzel's gizmo analysis code + helpful utilities\n",
    "#\n",
    "# Here:      https://bitbucket.org/awetzel/gizmo_analysis\n",
    "# and here:  https://bitbucket.org/awetzel/utilities\n",
    "#\n",
    "#\n",
    "import gizmo_analysis as gizmo\n",
    "import utilities as gizmo_ut\n",
    "from utilities.basic.binning import BinClass\n",
    "\n",
    "def plot_settings():\n",
    "    fsize = 21\n",
    "    rc('text',usetex=False)\n",
    "    rc('font',size=fsize)\n",
    "    return\n",
    "\n",
    "plot_settings()"
   ]
  },
  {
   "cell_type": "code",
   "execution_count": 2,
   "metadata": {},
   "outputs": [],
   "source": [
    "wdir = \"/home/aemerick/work/gizmo_runs/metal_diff/m11q_res880\"\n",
    "\n",
    "#wdir = \"/home/aemerick/work/gizmo_runs/m12q_res5700\""
   ]
  },
  {
   "cell_type": "code",
   "execution_count": null,
   "metadata": {},
   "outputs": [],
   "source": []
  },
  {
   "cell_type": "code",
   "execution_count": 82,
   "metadata": {},
   "outputs": [
    {
     "name": "stdout",
     "output_type": "stream",
     "text": [
      "\n",
      "# in utilities.simulation.Snapshot():\n",
      "* reading:  home/aemerick/work/gizmo_runs/metal_diff/m11q_res880/snapshot_times.txt\n",
      "\n",
      "  using snapshot index = 600, redshift = 0.000\n",
      "\n",
      "\n",
      "# in gizmo_analysis.gizmo_io.Read():\n",
      "* reading header from:  home/aemerick/work/gizmo_runs/metal_diff/m11q_res880/output/snapdir_600/snapshot_600.0.hdf5\n",
      "  snapshot contains the following number of particles:\n",
      "    dark      (id = 1): 129840464 particles\n",
      "    dark2     (id = 2): 8997544 particles\n",
      "    gas       (id = 0): 128788874 particles\n",
      "    star      (id = 4): 1058548 particles\n",
      "    blackhole (id = 5): 0 particles\n",
      "\n",
      "* reading species: ['star', 'gas']\n",
      "* reading particles from:\n",
      "    snapshot_600.0.hdf5\n",
      "    snapshot_600.1.hdf5\n",
      "    snapshot_600.2.hdf5\n",
      "    snapshot_600.3.hdf5\n",
      "\n",
      "! cannot find MUSIC config file:  home/aemerick/work/gizmo_runs/metal_diff/m11q_res880/*/*.conf\n",
      "! missing cosmological parameters, assuming the following (from AGORA box):\n",
      "  assuming omega_baryon = 0.0455\n",
      "  assuming sigma_8 = 0.807\n",
      "  assuming n_s = 0.961\n",
      "\n",
      "* checking sanity of particle properties\n",
      "\n",
      "* reading host[s] position, velocity, rotation from:  home/aemerick/work/gizmo_runs/metal_diff/m11q_res880/track/star_form_coordinates_600.hdf5\n",
      "  cannot read file containing host coordinates\n",
      "  instead will assign host coordinates via iterative zoom on particle mass\n",
      "\n",
      "# in utilities.particle.get_center_positions():\n",
      "* assigning center position for 1 host[s], via iterative zoom-in on star particle mass\n",
      "  host1 position = (42515.820, 45157.524, 40609.328) [kpc comoving]\n",
      "\n",
      "# in utilities.particle.get_center_velocities():\n",
      "* assigning center velocity for 1 host[s], weighting by star particles by mass\n",
      "  host1 velocity = (-28.5, 88.7, -51.1) [km / s]\n",
      "\n",
      "\n",
      "# in utilities.particle.get_principal_axes():\n",
      "* assigning principal axes rotation tensor for 1 host[s]\n",
      "  using star particles at distance < 10.0 kpc\n",
      "  using youngest 25% of star particles\n",
      "  host1: using star particles with age = [0.000, 5.590] Gyr\n",
      "  host1: axis ratios: min/maj = 0.438, min/med = 0.740, med/maj = 0.591\n",
      "\n",
      "\n",
      "# in utilities.simulation.Snapshot():\n",
      "* reading:  home/aemerick/work/gizmo_runs/metal_diff/m11q_res880/snapshot_times.txt\n",
      "\n",
      "  using snapshot index = 0, redshift = 99.000\n",
      "\n",
      "\n",
      "# in gizmo_analysis.gizmo_io.Read():\n",
      "* reading header from:  home/aemerick/work/gizmo_runs/metal_diff/m11q_res880/output/snapdir_000/snapshot_000.0.hdf5\n",
      "  snapshot contains the following number of particles:\n",
      "    dark      (id = 1): 129840464 particles\n",
      "    dark2     (id = 2): 8997544 particles\n",
      "    gas       (id = 0): 129840464 particles\n",
      "    star      (id = 4): 0 particles\n",
      "    blackhole (id = 5): 0 particles\n",
      "\n",
      "* reading species: ['gas']\n",
      "* reading particles from:\n",
      "    snapshot_000.0.hdf5\n",
      "    snapshot_000.1.hdf5\n",
      "    snapshot_000.2.hdf5\n",
      "    snapshot_000.3.hdf5\n",
      "\n",
      "! cannot find MUSIC config file:  home/aemerick/work/gizmo_runs/metal_diff/m11q_res880/*/*.conf\n",
      "! missing cosmological parameters, assuming the following (from AGORA box):\n",
      "  assuming omega_baryon = 0.0455\n",
      "  assuming sigma_8 = 0.807\n",
      "  assuming n_s = 0.961\n",
      "\n",
      "* checking sanity of particle properties\n",
      "\n",
      "! catalog not contain star or dark particles, cannot assign host coordinates\n"
     ]
    }
   ],
   "source": [
    "#\n",
    "# First, lets grab a snapshot\n",
    "#\n",
    "sim_index = 600\n",
    "\n",
    "part = gizmo.io.Read.read_snapshots(['star','gas'], # types of particles to load. Gas and/or stars\n",
    "                                    'index',        # what the next value describes (check docstring for more)\n",
    "                                    sim_index,      # simulation output index (nth output)\n",
    "                                    assign_host_principal_axes=True,    # yes! compute the disk of the galaxy\n",
    "                                    simulation_directory = wdir)\n",
    "\n",
    "#\n",
    "# (and for the sake of this analysis, I'm also grabbing the 1st snapshot, aka the initial conditions)\n",
    "#    no stars in this one, so just need to get gas\n",
    "part0 = gizmo.io.Read.read_snapshots(['gas'], 'index', 0,\n",
    "                                    # assign_host_principal_axes=True, don't need to do this for this one\n",
    "                                    simulation_directory = wdir)"
   ]
  },
  {
   "cell_type": "code",
   "execution_count": 84,
   "metadata": {},
   "outputs": [
    {
     "name": "stdout",
     "output_type": "stream",
     "text": [
      "Mvir 114537000000.0\n",
      "Rvir 121.89\n",
      "M_gas 4606950000.0\n",
      "M_star 334462000.0\n"
     ]
    }
   ],
   "source": [
    "#\n",
    "# This may not bethe same for all sims. But will be something like this:\n",
    "#\n",
    "#    load some information about the halo for this galaxy. This isn't strictly necessary, but\n",
    "#    it is useful to know what the virial radius and mass are.\n",
    "#\n",
    "full_halo_data = np.genfromtxt(wdir + '/halo/snapshot_600.z0.000.AHF_halos',names=True)\n",
    "\n",
    "# save some in a simple dict for z = 0 properties\n",
    "#    first index of full halo data is the z=0 properties.\n",
    "#    annoying integers in the names are the column numbers\n",
    "#       Masses in (Msun), distances in kpc\n",
    "halo_data = {'Mvir' :   full_halo_data['Mvir4'][0],\n",
    "             'Rvir' :   full_halo_data['Rvir12'][0],\n",
    "             'M_gas':   full_halo_data['M_gas45'][0],\n",
    "             'M_star':  full_halo_data['M_star65'][0]}\n",
    "\n",
    "for k in halo_data.keys():\n",
    "    print (k,halo_data[k])\n",
    "    \n",
    "del(full_halo_data) # toss"
   ]
  },
  {
   "cell_type": "code",
   "execution_count": 85,
   "metadata": {},
   "outputs": [],
   "source": [
    "#\n",
    "# For this analysis, I'm computing radial profiles. Define the ranges and bins\n",
    "# \n",
    "r_min, r_max = 0.0, 1.0 # in units of R_vir\n",
    "r_min = r_min * halo_data['Rvir'] # now in kpc\n",
    "r_max = r_max * halo_data['Rvir']\n",
    "nbins = 100\n",
    "dr    = (r_max-r_min)/(float(nbins))"
   ]
  },
  {
   "cell_type": "code",
   "execution_count": null,
   "metadata": {},
   "outputs": [],
   "source": []
  },
  {
   "cell_type": "code",
   "execution_count": 87,
   "metadata": {},
   "outputs": [
    {
     "name": "stdout",
     "output_type": "stream",
     "text": [
      "\n",
      "# in utilities.particle.SpeciesProfile():\n",
      "  input 128788874 distances -  4420402 (3.4%) are within limits = [0.000, 121.890]\n",
      "  input  1058548 distances -   759210 (71.7%) are within limits = [0.000, 121.890]\n",
      "  input 128788874 distances -  4420402 (3.4%) are within limits = [0.000, 121.890]\n",
      "  input  1058548 distances -   759210 (71.7%) are within limits = [0.000, 121.890]\n",
      "  input 128788874 distances -  4420402 (3.4%) are within limits = [0.000, 121.890]\n",
      "  input  1058548 distances -   759210 (71.7%) are within limits = [0.000, 121.890]\n",
      "  input 128788874 distances -  4420402 (3.4%) are within limits = [0.000, 121.890]\n",
      "  input  1058548 distances -   759210 (71.7%) are within limits = [0.000, 121.890]\n",
      "  input 128788874 distances -  4420402 (3.4%) are within limits = [0.000, 121.890]\n",
      "  input  1058548 distances -   759210 (71.7%) are within limits = [0.000, 121.890]\n",
      "  input 128788874 distances -  4420402 (3.4%) are within limits = [0.000, 121.890]\n",
      "  input  1058548 distances -   759210 (71.7%) are within limits = [0.000, 121.890]\n"
     ]
    }
   ],
   "source": [
    "#\n",
    "# Now, lets create radial profiles of the TOTAL metal mass\n",
    "#\n",
    "#   Use A. Wetzel's binning utilitis\n",
    "#\n",
    "\n",
    "fields = ['mass','mass.metals','mass.si','mass.o','mass.c','mass.fe']\n",
    "\n",
    "# profiling utilitiy\n",
    "SpeciesProfile = gizmo_ut.particle.SpeciesProfileClass(\n",
    "                 scaling = 'linear', limits=[r_min,r_max], width=dr,\n",
    "                 dimension_number=3)\n",
    "\n",
    "profile = {}\n",
    "norm_dict = {}\n",
    "initial_dict = {}\n",
    "for field in fields:\n",
    "    profile[field] = SpeciesProfile.get_profiles(part, species=['gas','star'], property_name=field,\n",
    "                                                    property_statistic='sum',\n",
    "                                                    # property_select = select_dict,\n",
    "                                                    weight_by_mass = False)\n",
    "    \n",
    "    # compute the initial amount of these fields\n",
    "    initial_dict[field] = np.sum(part0['gas'].prop(field))\n",
    "    \n",
    "    #\n",
    "    # compute the normalization (total amount produced by stars in the sim)\n",
    "    # so we need to also subtract out the amount initially present\n",
    "    norm_dict[field]    = np.sum(part['star'].prop(field)) + np.sum(part['gas'].prop(field)) -\\\n",
    "                          initial_dict[field]\n",
    "    "
   ]
  },
  {
   "cell_type": "code",
   "execution_count": null,
   "metadata": {},
   "outputs": [],
   "source": []
  },
  {
   "cell_type": "code",
   "execution_count": 100,
   "metadata": {},
   "outputs": [
    {
     "data": {
      "image/png": "[encoded data removed]",
      "text/plain": [
       "<Figure size 576x576 with 1 Axes>"
      ]
     },
     "metadata": {
      "needs_background": "light"
     },
     "output_type": "display_data"
    }
   ],
   "source": [
    "plot_settings()\n",
    "fig,ax=plt.subplots()\n",
    "fig.set_size_inches(8,8)\n",
    "field = 'mass.fe'\n",
    "\n",
    "normplot = np.cumsum( profile[field]['gas']['sum'] + profile[field]['star']['sum'] )\n",
    "\n",
    "norm = norm_dict[field]\n",
    "\n",
    "for ptype in ['star','gas']:\n",
    "    ax.plot( profile[field][ptype]['distance']/halo_data['Rvir'],\n",
    "             np.cumsum(profile[field][ptype]['sum']) / norm, label = ptype, lw = 3)\n",
    "    \n",
    "ax.plot( profile[field]['star']['distance']/halo_data['Rvir'],\n",
    "             normplot/norm, label = 'total', color = 'black', lw = 3)\n",
    "        \n",
    "ax.set_ylim(0.01,1.0)\n",
    "ax.set_xlim(0.01,1.0) \n",
    "#\n",
    "#\n",
    "#\n",
    "ax.plot([0.1,0.1],ax.get_ylim(),color='black',lw=2,ls='--')\n",
    "\n",
    "ax.plot(ax.get_xlim(),[0.05,0.05],color='black',lw=2,ls=':')\n",
    "ax.plot(ax.get_xlim(),[0.20,0.20],color='black',lw=2,ls=':')\n",
    "    \n",
    "    \n",
    "ax.legend(loc='best')\n",
    "\n",
    "ax.semilogy()\n",
    "ax.semilogx()\n",
    "\n",
    "ax.set_ylabel(r'Fractional Metal Mass')\n",
    "ax.set_xlabel(r\"Radius (R$_{\\rm vir}$)\")\n",
    "\n",
    "\n",
    "Mgas = np.sum(profile['mass']['gas']['sum'][profile['mass']['gas']['distance'] < 0.1*halo_data['Rvir']])\n",
    "Mstar = np.sum(profile['mass']['star']['sum'][profile['mass']['star']['distance'] < 0.1*halo_data['Rvir']])\n",
    "\n",
    "xy = (0.02,0.95)\n",
    "ax.annotate(r'M$_{*}$   = %4.2E M$_{\\odot}$'%(Mstar),xy,xy,xycoords='axes fraction')\n",
    "xy = (0.02,0.88)\n",
    "ax.annotate(r'M$_{\\rm gas}$ = %4.2E M$_{\\odot}$'%(Mgas),xy,xy,xycoords='axes fraction')\n",
    "xy = (0.02,0.81)\n",
    "ax.annotate(r'R$_{\\rm vir}$  = %.2f kpc'%(halo_data['Rvir']),xy,xy,xycoords='axes fraction')\n",
    "\n",
    "\n",
    "ax.annotate(r\"20%\", (0.012,0.22),(0.012,0.22))\n",
    "ax.annotate(r\"5%\", (0.012,0.052),(0.012,0.052))\n",
    "\n",
    "plt.tight_layout()\n",
    "\n",
    "fig.savefig(wdir + '/m11q_res880_metaldiff.png')"
   ]
  },
  {
   "cell_type": "code",
   "execution_count": 56,
   "metadata": {},
   "outputs": [
    {
     "data": {
      "text/plain": [
       "1.000986"
      ]
     },
     "execution_count": 56,
     "metadata": {},
     "output_type": "execute_result"
    }
   ],
   "source": [
    "np.sum(profile['mass']['gas']['sum'][profile['mass']['gas']['distance'] < 4]) / 1.0E8"
   ]
  },
  {
   "cell_type": "code",
   "execution_count": 57,
   "metadata": {},
   "outputs": [
    {
     "name": "stdout",
     "output_type": "stream",
     "text": [
      "1095638.2\n",
      "0.0016617696\n"
     ]
    }
   ],
   "source": [
    "si_total = np.sum(part['gas'].prop('mass.si')) + np.sum(part['star'].prop('mass.si'))\n",
    "\n",
    "si_yield = si_total / np.sum(part['star'].prop('mass'))\n",
    "\n",
    "print(si_total)\n",
    "print(si_yield)"
   ]
  },
  {
   "cell_type": "code",
   "execution_count": null,
   "metadata": {},
   "outputs": [],
   "source": []
  }
 ],
 "metadata": {
  "kernelspec": {
   "display_name": "Python 3",
   "language": "python",
   "name": "python3"
  },
  "language_info": {
   "codemirror_mode": {
    "name": "ipython",
    "version": 3
   },
   "file_extension": ".py",
   "mimetype": "text/x-python",
   "name": "python",
   "nbconvert_exporter": "python",
   "pygments_lexer": "ipython3",
   "version": "3.7.3"
  }
 },
 "nbformat": 4,
 "nbformat_minor": 2
}
