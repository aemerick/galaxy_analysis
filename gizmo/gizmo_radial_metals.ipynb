{
 "cells": [
  {
   "cell_type": "code",
   "execution_count": 7,
   "metadata": {},
   "outputs": [],
   "source": [
    "%matplotlib inline\n",
    "import numpy as np\n",
    "import matplotlib.pyplot as plt\n",
    "from matplotlib import rc\n",
    "from galaxy_analysis.analysis import PDF\n",
    "import galaxy_analysis.utilities as galutil\n",
    "#\n",
    "# Andrew Wetzel's gizmo analysis code + helpful utilities\n",
    "#\n",
    "# Here:      https://bitbucket.org/awetzel/gizmo_analysis\n",
    "# and here:  https://bitbucket.org/awetzel/utilities\n",
    "#\n",
    "#\n",
    "import gizmo_analysis as gizmo\n",
    "import utilities as gizmo_ut\n",
    "from utilities.basic.binning import BinClass\n",
    "from utilities.basic.constant import sun_composition\n",
    "\n",
    "def plot_settings():\n",
    "    fsize = 21\n",
    "    rc('text',usetex=False)\n",
    "    rc('font',size=fsize)\n",
    "    return\n",
    "\n",
    "plot_settings()\n",
    "\n",
    "\n",
    "#sun_composition = gizmo_ut.basic.constant.sun_composition"
   ]
  },
  {
   "cell_type": "code",
   "execution_count": 8,
   "metadata": {},
   "outputs": [],
   "source": [
    "wdir = \"/home/aemerick/work/gizmo_runs/metal_diff/m11q_res880\"\n",
    "\n",
    "#wdir = \"/home/aemerick/work/gizmo_runs/m12q_res5700\""
   ]
  },
  {
   "cell_type": "code",
   "execution_count": null,
   "metadata": {},
   "outputs": [],
   "source": []
  },
  {
   "cell_type": "code",
   "execution_count": 9,
   "metadata": {},
   "outputs": [
    {
     "name": "stdout",
     "output_type": "stream",
     "text": [
      "\n",
      "# in utilities.simulation.Snapshot():\n",
      "* reading:  home/aemerick/work/gizmo_runs/metal_diff/m11q_res880/snapshot_times.txt\n",
      "\n",
      "  using snapshot index = 600, redshift = 0.000\n",
      "\n",
      "\n",
      "# in gizmo_analysis.gizmo_io.Read():\n",
      "* reading header from:  home/aemerick/work/gizmo_runs/metal_diff/m11q_res880/output/snapdir_600/snapshot_600.0.hdf5\n",
      "  snapshot contains the following number of particles:\n",
      "    dark      (id = 1): 129840464 particles\n",
      "    dark2     (id = 2): 8997544 particles\n",
      "    gas       (id = 0): 128788874 particles\n",
      "    star      (id = 4): 1058548 particles\n",
      "    blackhole (id = 5): 0 particles\n",
      "\n",
      "* reading species: ['star', 'gas']\n",
      "* reading particles from:\n",
      "    snapshot_600.0.hdf5\n",
      "    snapshot_600.1.hdf5\n",
      "    snapshot_600.2.hdf5\n",
      "    snapshot_600.3.hdf5\n",
      "\n",
      "! cannot find MUSIC config file:  home/aemerick/work/gizmo_runs/metal_diff/m11q_res880/*/*.conf\n",
      "! missing cosmological parameters, assuming the following (from AGORA box):\n",
      "  assuming omega_baryon = 0.0455\n",
      "  assuming sigma_8 = 0.807\n",
      "  assuming n_s = 0.961\n",
      "\n",
      "* checking sanity of particle properties\n",
      "\n",
      "* reading host[s] position, velocity, rotation from:  home/aemerick/work/gizmo_runs/metal_diff/m11q_res880/track/star_form_coordinates_600.hdf5\n",
      "  cannot read file containing host coordinates\n",
      "  instead will assign host coordinates via iterative zoom on particle mass\n",
      "\n",
      "# in utilities.particle.get_center_positions():\n",
      "* assigning center position for 1 host[s], via iterative zoom-in on star particle mass\n",
      "  host1 position = (42515.820, 45157.524, 40609.328) [kpc comoving]\n",
      "\n",
      "# in utilities.particle.get_center_velocities():\n",
      "* assigning center velocity for 1 host[s], weighting by star particles by mass\n",
      "  host1 velocity = (-28.5, 88.7, -51.1) [km / s]\n",
      "\n",
      "\n",
      "# in utilities.particle.get_principal_axes():\n",
      "* assigning principal axes rotation tensor for 1 host[s]\n",
      "  using star particles at distance < 10.0 kpc\n",
      "  using youngest 25% of star particles\n",
      "  host1: using star particles with age = [0.000, 5.590] Gyr\n",
      "  host1: axis ratios: min/maj = 0.438, min/med = 0.740, med/maj = 0.591\n",
      "\n"
     ]
    }
   ],
   "source": [
    "#\n",
    "# First, lets grab a snapshot\n",
    "#\n",
    "sim_index = 600\n",
    "\n",
    "part = gizmo.io.Read.read_snapshots(['star','gas'], # types of particles to load. Gas and/or stars\n",
    "                                    'index',        # what the next value describes (check docstring for more)\n",
    "                                    sim_index,      # simulation output index (nth output)\n",
    "                                    assign_host_principal_axes=True,    # yes! compute the disk of the galaxy\n",
    "                                    simulation_directory = wdir)\n",
    "\n",
    "#\n",
    "# (and for the sake of this analysis, I'm also grabbing the 1st snapshot, aka the initial conditions)\n",
    "#    no stars in this one, so just need to get gas\n",
    "#part0 = gizmo.io.Read.read_snapshots(['gas'], 'index', 0,\n",
    "#                                    # assign_host_principal_axes=True, don't need to do this for this one\n",
    "#                                    simulation_directory = wdir)"
   ]
  },
  {
   "cell_type": "code",
   "execution_count": 10,
   "metadata": {},
   "outputs": [
    {
     "name": "stdout",
     "output_type": "stream",
     "text": [
      "Mvir 114537000000.0\n",
      "Rvir 121.89\n",
      "M_gas 4606950000.0\n",
      "M_star 334462000.0\n"
     ]
    }
   ],
   "source": [
    "#\n",
    "# This may not bethe same for all sims. But will be something like this:\n",
    "#\n",
    "#    load some information about the halo for this galaxy. This isn't strictly necessary, but\n",
    "#    it is useful to know what the virial radius and mass are.\n",
    "#\n",
    "full_halo_data = np.genfromtxt(wdir + '/halo/snapshot_600.z0.000.AHF_halos',names=True)\n",
    "\n",
    "# save some in a simple dict for z = 0 properties\n",
    "#    first index of full halo data is the z=0 properties.\n",
    "#    annoying integers in the names are the column numbers\n",
    "#       Masses in (Msun), distances in kpc\n",
    "halo_data = {'Mvir' :   full_halo_data['Mvir4'][0],\n",
    "             'Rvir' :   full_halo_data['Rvir12'][0],\n",
    "             'M_gas':   full_halo_data['M_gas45'][0],\n",
    "             'M_star':  full_halo_data['M_star65'][0]}\n",
    "\n",
    "for k in halo_data.keys():\n",
    "    print (k,halo_data[k])\n",
    "    \n",
    "del(full_halo_data) # toss"
   ]
  },
  {
   "cell_type": "code",
   "execution_count": 11,
   "metadata": {},
   "outputs": [],
   "source": [
    "#\n",
    "# For this analysis, I'm computing radial profiles. Define the ranges and bins\n",
    "# \n",
    "r_min, r_max = 0.0, 1.0 # in units of R_vir\n",
    "r_min = r_min * halo_data['Rvir'] # now in kpc\n",
    "r_max = r_max * halo_data['Rvir']\n",
    "nbins = 100\n",
    "dr    = (r_max-r_min)/(float(nbins))"
   ]
  },
  {
   "cell_type": "code",
   "execution_count": 17,
   "metadata": {},
   "outputs": [
    {
     "name": "stdout",
     "output_type": "stream",
     "text": [
      "-1.9880184659957885 1.1477959880828856\n",
      "lognormal True\n",
      "lognormal_powerlaw True\n",
      "gaussian_powerlaw True\n",
      "powerlaw True\n",
      "lognormal True\n",
      "lognormal_powerlaw True\n",
      "gaussian_powerlaw True\n",
      "powerlaw True\n",
      "lognormal True\n",
      "lognormal_powerlaw True\n",
      "gaussian_powerlaw True\n",
      "powerlaw True\n",
      "lognormal True\n",
      "lognormal_powerlaw True\n",
      "gaussian_powerlaw True\n",
      "powerlaw True\n",
      "lognormal True\n",
      "lognormal_powerlaw True\n",
      "gaussian_powerlaw True\n",
      "powerlaw True\n"
     ]
    }
   ],
   "source": [
    "#\n",
    "#\n",
    "# Start binning ISM gas up by metallicity\n",
    "#\n",
    "#\n",
    "element = 'o'\n",
    "xfield  = 'metallicity.' + element\n",
    "rvals  = part['gas'].prop('host.distance.principal.spherical')[:,0]\n",
    "select = rvals < 0.025*r_max\n",
    "xvals   =  part['gas'].prop(xfield)[select]\n",
    "weights = ( part['gas'].prop('mass'))[select]\n",
    "\n",
    "\n",
    "valmin = np.max([-8,np.min( xvals)]) - 0.001\n",
    "valmax = np.max(xvals) + 0.001\n",
    "    \n",
    "print(valmin,valmax)\n",
    "bc    = BinClass([valmin,valmax],number= int((valmax-valmin)/0.01))\n",
    "\n",
    "hist = {}\n",
    "stats = {}\n",
    "fit={}\n",
    "\n",
    "phasenames = {'CNM' : part['gas'].prop('temperature')[select] < 1000.0,\n",
    "              'WNM' : (part['gas'].prop('temperature')[select] < 10000.0) * (part['gas'].prop('temperature')[select] > 1000.0),\n",
    "              'WIM' : (part['gas'].prop('temperature')[select] < 1.0E5) * (part['gas'].prop('temperature')[select] > 10000.0),\n",
    "              'HIM' : (part['gas'].prop('temperature')[select] < 1.0E10) * (part['gas'].prop('temperature')[select] > 1.0E5)}\n",
    "              \n",
    "\n",
    "#phasenames = {}\n",
    "\n",
    "hist['total'] = bc.get_histogram(xvals,weights=weights)#,normed=True)\n",
    "# some quantities must be computed in linear space (average of linear rather than average of log)\n",
    "stats['total'] = galutil.utilities.compute_weighted_stats(10.0**(xvals),weights)\n",
    "\n",
    "stats['total']['avg_mean'] = np.log10(np.sum(part['gas'].prop('mass.'+element)[select]) / np.sum(part['gas'].prop('mass.h')[select])) -\\\n",
    "                             np.log10(sun_composition[element]['massfraction']/sun_composition['h']['massfraction'])\n",
    "\n",
    "fit_select = (bc.mids > np.log10(stats['total']['decile_1'])) * (bc.mids < np.log10(stats['total']['decile_9']))\n",
    "\n",
    "fit_select = ((bc.mids > (bc.mids[np.argmax(hist['total'])])-0.5) * (bc.mids < bc.mids[np.argmax(hist['total'])]+0.5))\n",
    "fit_y = hist['total'][  fit_select ][:-1]\n",
    "fit_x = 10.0**(bc.mids[fit_select])\n",
    "\n",
    "fit['total'] = PDF.fit_multifunction_PDF(fit_x, fit_y / np.sum(fit_y), data = stats['total'])\n",
    "    \n",
    "\n",
    "\n",
    "for phase in phasenames:\n",
    "    pselect = phasenames[phase]\n",
    "    hist[phase]  = bc.get_histogram(xvals[pselect],weights=weights[pselect])#,normed=True)\n",
    "    stats[phase] = galutil.utilities.compute_weighted_stats(10.0**(xvals[pselect]),weights[pselect])\n",
    "    stats[phase]['avg_mean'] = np.log10(np.sum(part['gas'].prop('mass.'+element)[select][pselect]) / np.sum(part['gas'].prop('mass.h')[select][pselect])) -\\\n",
    "                             np.log10(sun_composition[element]['massfraction']/sun_composition['h']['massfraction'])\n",
    "    \n",
    "    fit_select = (bc.mids > np.log10(stats[phase]['decile_1'])) * (bc.mids < np.log10(stats[phase]['decile_9']))\n",
    "\n",
    "    fit_select = ((bc.mids > (bc.mids[np.argmax(hist[phase])])-0.5) * (bc.mids < bc.mids[np.argmax(hist[phase])]+0.5))\n",
    "    fit_y = hist[phase][  fit_select ][:-1]\n",
    "    fit_x = 10.0**(bc.mids[fit_select])\n",
    "\n",
    "    fit[phase] = PDF.fit_multifunction_PDF(fit_x, fit_y / np.sum(fit_y), data = stats[phase])\n",
    "        \n",
    "    \n",
    "    #fit[phase]   = PDF.fit_multifunction_PDF(10.0**(bc.mins), hist[phase][:-1],\n",
    "    #                                         data = stats[phase])\n",
    "    \n",
    "\n",
    "            #function_to_fit='lognormal_powerlaw')    "
   ]
  },
  {
   "cell_type": "code",
   "execution_count": null,
   "metadata": {},
   "outputs": [],
   "source": [
    "bc.mids[np.argmax(hist['total'])]"
   ]
  },
  {
   "cell_type": "code",
   "execution_count": null,
   "metadata": {},
   "outputs": [],
   "source": [
    "m_total_hist   = np.sum(hist['total'])\n",
    "m_total_actual = np.sum(part['gas'].prop('mass')[select])\n",
    "print(\"hist actual total masses\", m_total_hist, m_total_actual, m_total_actual / m_total_hist)\n",
    "\n",
    "#\n",
    "# checking median\n",
    "#\n",
    "median = np.log10(stats['total']['median'])\n",
    "#median = stats['total']['median']\n",
    "print(\"Median = %5.5E ---  f mass below = %.2f --- f mass above = %.2f\"%(median,\n",
    "                                                                     np.sum(part['gas'].prop('mass')[select*(part['gas'].prop(xfield)<median)])/m_total_actual,\n",
    "                                                                     np.sum(part['gas'].prop('mass')[select*(part['gas'].prop(xfield)>median)])/m_total_actual))\n",
    "average        = np.log10(stats['total']['mean'])\n",
    "average_actual = np.log10(np.sum(part['gas'].prop('mass.o')[select]) / np.sum(part['gas'].prop('mass.h')[select])) -\\\n",
    "                 np.log10(sun_composition['o']['massfraction']/sun_composition['h']['massfraction'])\n",
    "\n",
    "print(\"Mean = %5.5E ---  f mass below = %.2f --- f mass above = %.2f\"%(average,\n",
    "                                                                     np.sum(part['gas'].prop('mass')[select*(part['gas'].prop(xfield)<average)])/m_total_actual,\n",
    "                                                                     np.sum(part['gas'].prop('mass')[select*(part['gas'].prop(xfield)>average)])/m_total_actual))\n",
    "print(average, average_actual)  \n",
    "\n",
    "print(average, stats['total']['avg_mean'])"
   ]
  },
  {
   "cell_type": "code",
   "execution_count": null,
   "metadata": {},
   "outputs": [],
   "source": [
    "print(part['gas'].prop('metallicity.o')[0])\n",
    "\n",
    "print(10.0**(part['gas'].prop('metallicity.o')[0] + np.log10(0.00865/0.7)))\n",
    "\n",
    "print(\"mass fraction (O/H) and (O/total)\")\n",
    "print(part['gas'].prop('mass.o')[0]/part['gas'].prop('mass.h')[0])\n",
    "print(part['gas'].prop('mass.o')[0]/part['gas'].prop('mass')[0])\n",
    "\n",
    "print(\"abundance ratio (O/H)\")\n",
    "print(part['gas'].prop('mass.o')[0]/part['gas'].prop('mass.h')[0] / 16.0)\n",
    "\n",
    "print(\"mass ratio - solar mass fraction\")\n",
    "print(np.log10(part['gas'].prop('mass.o')[0]/part['gas'].prop('mass.h')[0]) - np.log10(0.0057379))\n",
    "print(np.log10(part['gas'].prop('mass.o')[0]/part['gas'].prop('mass.h')[0]) - np.log10(0.0057379/0.7381))\n"
   ]
  },
  {
   "cell_type": "code",
   "execution_count": null,
   "metadata": {},
   "outputs": [],
   "source": []
  },
  {
   "cell_type": "code",
   "execution_count": null,
   "metadata": {},
   "outputs": [],
   "source": [
    "print(average)\n",
    "print(average_actual)\n",
    "print(np.log10(average_actual) - np.log10(0.00865/0.73))\n"
   ]
  },
  {
   "cell_type": "code",
   "execution_count": null,
   "metadata": {},
   "outputs": [],
   "source": []
  },
  {
   "cell_type": "code",
   "execution_count": 21,
   "metadata": {
    "scrolled": false
   },
   "outputs": [
    {
     "data": {
      "text/plain": [
       "Text(0.5, 0, '[O/H]')"
      ]
     },
     "execution_count": 21,
     "metadata": {},
     "output_type": "execute_result"
    },
    {
     "data": {
      "image/png": "[encoded data removed]",
      "text/plain": [
       "<Figure size 576x576 with 1 Axes>"
      ]
     },
     "metadata": {
      "needs_background": "light"
     },
     "output_type": "display_data"
    }
   ],
   "source": [
    "fig,ax=plt.subplots()\n",
    "fig.set_size_inches(8,8)\n",
    "\n",
    "#for phase in ['total'] + list(phasenames.keys()):\n",
    "#    ax.plot(bc.mids, hist[phase] /np.sum(hist['total']), label=phase, lw = 3)\n",
    "\n",
    "peaky = 1.0\n",
    "#peaky = np.max(fit['total']['norm_y'])\n",
    "dz_dlogznorm = 1.0/(np.log10(np.e) / 10.0**bc.mids[:-1])\n",
    "db    = 10.0**bc.maxs - 10.0**bc.mins\n",
    "dlogb = bc.maxs-bc.mins\n",
    "\n",
    "for phase in ['total'] + list(phasenames.keys()):\n",
    "    ax.plot(bc.mids, hist[phase] / np.sum(hist['total']) / dlogb, lw = 3, label = phase)\n",
    "    \n",
    "ax.plot(bc.mids[:-1],\n",
    "        fit['total']['fit_result'](10.0**bc.mids[:-1])/peaky*dz_dlogznorm, lw = 3, color = 'black',ls='--')\n",
    "        #fit['total']['fit_y']  * fit['total']['fit_x'] / np.max(fit['total']['fit_y'] * fit['total']['fit_x'] ) * np.max(hist['total']) / np.sum(hist['total']), lw = 3, color = 'black', ls = '--')\n",
    "\n",
    "ax.set_ylim(0.01,10)\n",
    "\n",
    "plot_idr = True\n",
    "for phase in ['total']:\n",
    "    ax.plot([stats[phase]['avg_mean']]*2, ax.get_ylim(), lw = 2, ls ='-', color = 'red')\n",
    "    ax.plot([np.log10(stats[phase]['decile_1'])]*2, ax.get_ylim(), lw = 2, ls = ':', color = 'grey')\n",
    "    ax.plot([np.log10(stats[phase]['decile_9'])]*2, ax.get_ylim(), lw = 2, ls = ':', color = 'grey')\n",
    "    ax.plot([np.log10(stats[phase]['Q1'])]*2, ax.get_ylim(), lw = 2, ls = '--', color = 'grey')\n",
    "    ax.plot([np.log10(stats[phase]['Q3'])]*2, ax.get_ylim(), lw = 2, ls = '--', color = 'grey')\n",
    "    ax.plot([np.log10(stats[phase]['median'])]*2, ax.get_ylim(), lw = 2, ls = '-', color = 'black')\n",
    "\n",
    "    \n",
    "#db = bc.maxs - bc.mins\n",
    "#ax.plot(bc.mids,  hist['total'] / np.sum(hist['total']) / db)\n",
    "#ax.plot(bc.mids,  hist['total'] / np.sum(hist['total']) / db / 10.0**bc.mids * np.log10(np.e))\n",
    "    \n",
    "    \n",
    "ax.legend(loc='best')\n",
    "ax.semilogy()\n",
    "ax.set_xlim(-2,0.5)\n",
    "\n",
    "\n",
    "ax.set_ylabel('dM/d([O/H])')\n",
    "ax.set_xlabel('[O/H]')"
   ]
  },
  {
   "cell_type": "code",
   "execution_count": 24,
   "metadata": {},
   "outputs": [
    {
     "name": "stdout",
     "output_type": "stream",
     "text": [
      "-0.4553619567165157\n",
      "-0.46353719371698254\n"
     ]
    }
   ],
   "source": [
    "print(np.log10(stats['total']['median']))\n",
    "print(stats['total']['avg_mean'])"
   ]
  },
  {
   "cell_type": "code",
   "execution_count": null,
   "metadata": {},
   "outputs": [],
   "source": [
    "fit = PDF.fit_multifunction_PDF(10.0**(bc.mins), hist['total'][:-1],\n",
    "            data = stats['total'])\n",
    "            #function_to_fit='lognormal_powerlaw')"
   ]
  },
  {
   "cell_type": "code",
   "execution_count": null,
   "metadata": {},
   "outputs": [],
   "source": []
  },
  {
   "cell_type": "code",
   "execution_count": null,
   "metadata": {},
   "outputs": [],
   "source": [
    "#\n",
    "# Now, lets create radial profiles of the TOTAL metal mass\n",
    "#\n",
    "#   Use A. Wetzel's binning utilitis\n",
    "#\n",
    "\n",
    "fields = ['mass','mass.metals','mass.si','mass.o','mass.c','mass.fe']\n",
    "\n",
    "# profiling utilitiy\n",
    "SpeciesProfile = gizmo_ut.particle.SpeciesProfileClass(\n",
    "                 scaling = 'linear', limits=[r_min,r_max], width=dr,\n",
    "                 dimension_number=3)\n",
    "\n",
    "profile = {}\n",
    "norm_dict = {}\n",
    "initial_dict = {}\n",
    "for field in fields:\n",
    "    profile[field] = SpeciesProfile.get_profiles(part, species=['gas','star'], property_name=field,\n",
    "                                                    property_statistic='sum',\n",
    "                                                    # property_select = select_dict,\n",
    "                                                    weight_by_mass = False)\n",
    "    \n",
    "    # compute the initial amount of these fields\n",
    "    initial_dict[field] = np.sum(part0['gas'].prop(field))\n",
    "    \n",
    "    #\n",
    "    # compute the normalization (total amount produced by stars in the sim)\n",
    "    # so we need to also subtract out the amount initially present\n",
    "    norm_dict[field]    = np.sum(part['star'].prop(field)) + np.sum(part['gas'].prop(field)) -\\\n",
    "                          initial_dict[field]\n",
    "    "
   ]
  },
  {
   "cell_type": "code",
   "execution_count": null,
   "metadata": {},
   "outputs": [],
   "source": []
  },
  {
   "cell_type": "code",
   "execution_count": null,
   "metadata": {},
   "outputs": [],
   "source": [
    "plot_settings()\n",
    "fig,ax=plt.subplots()\n",
    "fig.set_size_inches(8,8)\n",
    "field = 'mass.fe'\n",
    "\n",
    "normplot = np.cumsum( profile[field]['gas']['sum'] + profile[field]['star']['sum'] )\n",
    "\n",
    "norm = norm_dict[field]\n",
    "\n",
    "for ptype in ['star','gas']:\n",
    "    ax.plot( profile[field][ptype]['distance']/halo_data['Rvir'],\n",
    "             np.cumsum(profile[field][ptype]['sum']) / norm, label = ptype, lw = 3)\n",
    "    \n",
    "ax.plot( profile[field]['star']['distance']/halo_data['Rvir'],\n",
    "             normplot/norm, label = 'total', color = 'black', lw = 3)\n",
    "        \n",
    "ax.set_ylim(0.01,1.0)\n",
    "ax.set_xlim(0.01,1.0) \n",
    "#\n",
    "#\n",
    "#\n",
    "ax.plot([0.1,0.1],ax.get_ylim(),color='black',lw=2,ls='--')\n",
    "\n",
    "ax.plot(ax.get_xlim(),[0.05,0.05],color='black',lw=2,ls=':')\n",
    "ax.plot(ax.get_xlim(),[0.20,0.20],color='black',lw=2,ls=':')\n",
    "    \n",
    "    \n",
    "ax.legend(loc='best')\n",
    "\n",
    "ax.semilogy()\n",
    "ax.semilogx()\n",
    "\n",
    "ax.set_ylabel(r'Fractional Metal Mass')\n",
    "ax.set_xlabel(r\"Radius (R$_{\\rm vir}$)\")\n",
    "\n",
    "\n",
    "Mgas = np.sum(profile['mass']['gas']['sum'][profile['mass']['gas']['distance'] < 0.1*halo_data['Rvir']])\n",
    "Mstar = np.sum(profile['mass']['star']['sum'][profile['mass']['star']['distance'] < 0.1*halo_data['Rvir']])\n",
    "\n",
    "xy = (0.02,0.95)\n",
    "ax.annotate(r'M$_{*}$   = %4.2E M$_{\\odot}$'%(Mstar),xy,xy,xycoords='axes fraction')\n",
    "xy = (0.02,0.88)\n",
    "ax.annotate(r'M$_{\\rm gas}$ = %4.2E M$_{\\odot}$'%(Mgas),xy,xy,xycoords='axes fraction')\n",
    "xy = (0.02,0.81)\n",
    "ax.annotate(r'R$_{\\rm vir}$  = %.2f kpc'%(halo_data['Rvir']),xy,xy,xycoords='axes fraction')\n",
    "\n",
    "\n",
    "ax.annotate(r\"20%\", (0.012,0.22),(0.012,0.22))\n",
    "ax.annotate(r\"5%\", (0.012,0.052),(0.012,0.052))\n",
    "\n",
    "plt.tight_layout()\n",
    "\n",
    "fig.savefig(wdir + '/m11q_res880_metaldiff.png')"
   ]
  },
  {
   "cell_type": "code",
   "execution_count": null,
   "metadata": {},
   "outputs": [],
   "source": [
    "np.sum(profile['mass']['gas']['sum'][profile['mass']['gas']['distance'] < 4]) / 1.0E8"
   ]
  },
  {
   "cell_type": "code",
   "execution_count": null,
   "metadata": {},
   "outputs": [],
   "source": [
    "si_total = np.sum(part['gas'].prop('mass.si')) + np.sum(part['star'].prop('mass.si'))\n",
    "\n",
    "si_yield = si_total / np.sum(part['star'].prop('mass'))\n",
    "\n",
    "print(si_total)\n",
    "print(si_yield)"
   ]
  },
  {
   "cell_type": "code",
   "execution_count": null,
   "metadata": {},
   "outputs": [],
   "source": []
  }
 ],
 "metadata": {
  "kernelspec": {
   "display_name": "Python 3",
   "language": "python",
   "name": "python3"
  },
  "language_info": {
   "codemirror_mode": {
    "name": "ipython",
    "version": 3
   },
   "file_extension": ".py",
   "mimetype": "text/x-python",
   "name": "python",
   "nbconvert_exporter": "python",
   "pygments_lexer": "ipython3",
   "version": "3.7.3"
  }
 },
 "nbformat": 4,
 "nbformat_minor": 2
}
