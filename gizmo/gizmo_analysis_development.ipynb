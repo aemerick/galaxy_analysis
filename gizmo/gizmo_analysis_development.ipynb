{
 "cells": [
  {
   "cell_type": "code",
   "execution_count": 1,
   "metadata": {},
   "outputs": [],
   "source": [
    "%matplotlib inline\n",
    "import numpy as np\n",
    "import matplotlib.pyplot as plt\n",
    "import yt\n",
    "from matplotlib.ticker import (MultipleLocator, FormatStrFormatter,\n",
    "                               AutoMinorLocator)\n",
    "from matplotlib.colors import LogNorm\n",
    "import os,sys\n",
    "\n",
    "from galaxy_analysis.static_data import SOLAR_ABUNDANCE\n",
    "\n",
    "# galaxy analysis methods (for comparison)\n",
    "from galaxy_analysis.gizmo import yield_model\n",
    "from galaxy_analysis.utilities import cy_convert_abundances as ca\n",
    "from galaxy_analysis.plot.plot_styles import *\n",
    "#--------------\n",
    "\n",
    "# gizmo analysis methods \n",
    "import gizmo_analysis as gizmo\n",
    "import utilities as gizmo_ut\n",
    "from utilities.basic.binning import BinClass\n",
    "\n",
    "#------------------------------\n",
    "input_type = 'mass'\n",
    "\n",
    "def plot_settings():\n",
    "    fsize = 21\n",
    "    rc('text',usetex=False)\n",
    "    rc('font',size=fsize)\n",
    "    return\n",
    "\n",
    "plot_settings()"
   ]
  },
  {
   "cell_type": "code",
   "execution_count": 2,
   "metadata": {},
   "outputs": [
    {
     "data": {
      "text/plain": [
       "3.1622776601683795e-09"
      ]
     },
     "execution_count": 2,
     "metadata": {},
     "output_type": "execute_result"
    }
   ],
   "source": [
    "0.0001 * 10**(SOLAR_ABUNDANCE[\"Fe\"] - SOLAR_ABUNDANCE[\"H\"])"
   ]
  },
  {
   "cell_type": "code",
   "execution_count": null,
   "metadata": {},
   "outputs": [],
   "source": []
  },
  {
   "cell_type": "code",
   "execution_count": 3,
   "metadata": {},
   "outputs": [
    {
     "ename": "NameError",
     "evalue": "name 'initial_part' is not defined",
     "output_type": "error",
     "traceback": [
      "\u001b[0;31m---------------------------------------------------------------------------\u001b[0m",
      "\u001b[0;31mNameError\u001b[0m                                 Traceback (most recent call last)",
      "\u001b[0;32m<ipython-input-3-e0f7f15ec2a3>\u001b[0m in \u001b[0;36m<module>\u001b[0;34m\u001b[0m\n\u001b[0;32m----> 1\u001b[0;31m \u001b[0minitial_part\u001b[0m\u001b[0;34m[\u001b[0m\u001b[0;34m'gas'\u001b[0m\u001b[0;34m]\u001b[0m\u001b[0;34m.\u001b[0m\u001b[0mprop\u001b[0m\u001b[0;34m(\u001b[0m\u001b[0;34m'massfraction.metals'\u001b[0m\u001b[0;34m)\u001b[0m\u001b[0;34m\u001b[0m\u001b[0;34m\u001b[0m\u001b[0m\n\u001b[0m",
      "\u001b[0;31mNameError\u001b[0m: name 'initial_part' is not defined"
     ]
    }
   ],
   "source": [
    "initial_part['gas'].prop('massfraction.metals')"
   ]
  },
  {
   "cell_type": "code",
   "execution_count": 9,
   "metadata": {
    "scrolled": false
   },
   "outputs": [
    {
     "name": "stdout",
     "output_type": "stream",
     "text": [
      "\n",
      "# in utilities.simulation.Snapshot():\n",
      "* reading:  home/aemerick/work/gizmo_runs/m12q_res5700_test/snapshot_times.txt\n",
      "\n",
      "  using snapshot index = 0, redshift = 99.000\n",
      "\n",
      "\n",
      "# in gizmo_analysis.gizmo_io.Read():\n",
      "* reading header from:  home/aemerick/work/gizmo_runs/m12q_res5700_test/output/snapshot_000.hdf5\n",
      "  snapshot contains the following number of particles:\n",
      "    dark      (id = 1): 16220880 particles\n",
      "    dark2     (id = 2): 4132251 particles\n",
      "    gas       (id = 0): 16220880 particles\n",
      "    star      (id = 4): 0 particles\n",
      "    blackhole (id = 5): 0 particles\n",
      "\n",
      "* reading species: ['gas']\n",
      "* reading gas properties: ['acceleration', 'density', 'electron.fraction', 'hydrogen.neutral.fraction', 'id', 'id.child', 'id.generation', 'mass', 'massfraction', 'position', 'potential', 'sfr', 'smooth.length', 'temperature', 'velocity']\n",
      "* reading particles from:\n",
      "    home/aemerick/work/gizmo_runs/m12q_res5700_test/output/snapshot_000.hdf5\n",
      "\n",
      "! cannot find MUSIC config file:  home/aemerick/work/gizmo_runs/m12q_res5700_test/*/*.conf\n",
      "! missing cosmological parameters, assuming the following (from AGORA box):\n",
      "  assuming omega_baryon = 0.0455\n",
      "  assuming sigma_8 = 0.807\n",
      "  assuming n_s = 0.961\n",
      "\n",
      "* checking sanity of particle properties\n",
      "\n",
      "! catalog not contain star or dark particles, cannot assign host coordinates\n",
      "\n",
      "# in utilities.simulation.Snapshot():\n",
      "* reading:  home/aemerick/work/gizmo_runs/m12q_res5700_test/snapshot_times.txt\n",
      "\n",
      "  using snapshot index = 342, redshift = 0.657\n",
      "\n",
      "\n",
      "# in gizmo_analysis.gizmo_io.Read():\n",
      "* reading header from:  home/aemerick/work/gizmo_runs/m12q_res5700_test/output/snapshot_342.hdf5\n",
      "  snapshot contains the following number of particles:\n",
      "    dark      (id = 1): 16220880 particles\n",
      "    dark2     (id = 2): 4132251 particles\n",
      "    gas       (id = 0): 13934177 particles\n",
      "    star      (id = 4): 2289317 particles\n",
      "    blackhole (id = 5): 0 particles\n",
      "\n",
      "* reading species: ['dark', 'star', 'gas']\n",
      "* reading particles from:\n",
      "    home/aemerick/work/gizmo_runs/m12q_res5700_test/output/snapshot_342.hdf5\n",
      "\n",
      "! cannot find MUSIC config file:  home/aemerick/work/gizmo_runs/m12q_res5700_test/*/*.conf\n",
      "! missing cosmological parameters, assuming the following (from AGORA box):\n",
      "  assuming omega_baryon = 0.0455\n",
      "  assuming sigma_8 = 0.807\n",
      "  assuming n_s = 0.961\n",
      "\n",
      "* checking sanity of particle properties\n",
      "! warning: star mass [min, med, max] = [29745.254, 46590.355, 1.138e6]\n",
      "! warning: star massfraction [min, max] = [0.000, 7.336e11]\n",
      "! warning: gas mass [min, med, max] = [56538.215, 56538.215, 9.336e5]\n",
      "! warning: gas temperature [min, max] = [2.831, 8.171e7]\n",
      "! warning: gas massfraction [min, max] = [0.000, 4.204e11]\n",
      "\n",
      "* reading host[s] position, velocity, rotation from:  home/aemerick/work/gizmo_runs/m12q_res5700_test/track/star_form_coordinates_342.hdf5\n",
      "  could not read file containing host coordinates\n",
      "  instead will assign host coordinates via iterative zoom on particle mass\n",
      "\n",
      "# in utilities.particle.get_center_positions():\n",
      "* assigning center position for 1 host[s], via iterative zoom-in on star particle mass\n",
      "  host1 position = (40710.651, 46431.449, 43820.870) [kpc comoving]\n",
      "\n",
      "# in utilities.particle.get_center_velocities():\n",
      "* assigning center velocity for 1 host[s], weighting by star particles by mass\n",
      "  host1 velocity = (-106.8, 165.6, 96.8) [km / s]\n",
      "\n",
      "\n",
      "# in utilities.simulation.Snapshot():\n",
      "* reading:  home/aemerick/work/gizmo_runs/m12q_res5700_test/snapshot_times.txt\n",
      "\n",
      "  using snapshot index = 342, redshift = 0.657\n",
      "\n",
      "\n",
      "# in gizmo_analysis.gizmo_io.Read():\n",
      "* reading header from:  home/aemerick/work/gizmo_runs/m12q_res5700_test/output/snapshot_342.hdf5\n",
      "  snapshot contains the following number of particles:\n",
      "    dark      (id = 1): 16220880 particles\n",
      "    dark2     (id = 2): 4132251 particles\n",
      "    gas       (id = 0): 13934177 particles\n",
      "    star      (id = 4): 2289317 particles\n",
      "    blackhole (id = 5): 0 particles\n",
      "\n",
      "* reading species: ['dark', 'star', 'gas']\n",
      "* reading particles from:\n",
      "    home/aemerick/work/gizmo_runs/m12q_res5700_test/output/snapshot_342.hdf5\n",
      "\n",
      "! cannot find MUSIC config file:  home/aemerick/work/gizmo_runs/m12q_res5700_test/*/*.conf\n",
      "! missing cosmological parameters, assuming the following (from AGORA box):\n",
      "  assuming omega_baryon = 0.0455\n",
      "  assuming sigma_8 = 0.807\n",
      "  assuming n_s = 0.961\n",
      "\n",
      "* checking sanity of particle properties\n",
      "! warning: star mass [min, med, max] = [29745.254, 46590.355, 1.138e6]\n",
      "! warning: star massfraction [min, max] = [0.000, 7.336e11]\n",
      "! warning: gas mass [min, med, max] = [56538.215, 56538.215, 9.336e5]\n",
      "! warning: gas temperature [min, max] = [2.831, 8.171e7]\n",
      "! warning: gas massfraction [min, max] = [0.000, 4.204e11]\n",
      "\n",
      "* reading host[s] position, velocity, rotation from:  home/aemerick/work/gizmo_runs/m12q_res5700_test/track/star_form_coordinates_342.hdf5\n",
      "  could not read file containing host coordinates\n",
      "  instead will assign host coordinates via iterative zoom on particle mass\n",
      "\n",
      "# in utilities.particle.get_center_positions():\n",
      "* assigning center position for 1 host[s], via iterative zoom-in on star particle mass\n",
      "  host1 position = (40710.651, 46431.449, 43820.870) [kpc comoving]\n",
      "\n",
      "# in utilities.particle.get_center_velocities():\n",
      "* assigning center velocity for 1 host[s], weighting by star particles by mass\n",
      "  host1 velocity = (-106.8, 165.6, 96.8) [km / s]\n",
      "\n",
      "SYGMA run in progress..\n",
      "   SYGMA run completed - Run time: 4.42s\n"
     ]
    }
   ],
   "source": [
    "simulation = 'm12q'\n",
    "wdir = \"/home/aemerick/work/gizmo_runs/m10q_res130000/\"\n",
    "wdir = \"/home/aemerick/work/gizmo_runs/m12q_res5700_test/\"\n",
    "\n",
    "initial_part = gizmo.io.Read.read_snapshots(['gas'],'index',0,simulation_directory=wdir)\n",
    "initial = {}\n",
    "for e in ['H','He','C','N','O','Ne','Mg','Si','S','Ca','Fe']:\n",
    "    initial[str.lower(e)] = np.average(initial_part['gas'].prop('massfraction.' + str.lower(e)))\n",
    "initial['metals'] = np.average(initial_part['gas'].prop('massfraction.metals'))\n",
    "#\n",
    "#\n",
    "#\n",
    "#\n",
    "#\n",
    "    \n",
    "    \n",
    "sim_index = 342\n",
    "\n",
    "# load the data set\n",
    "part = gizmo.io.Read.read_snapshots(['dark','star','gas'], 'index', sim_index,\n",
    "                                    #assign_host_principal_axes=True, \n",
    "                                    simulation_directory = wdir)\n",
    "part2 = gizmo.io.Read.read_snapshots(['dark','star','gas'], 'index', sim_index,\n",
    "                                    #assign_host_principal_axes=True, \n",
    "                                    simulation_directory = wdir)\n",
    "\n",
    "\n",
    "FIRE2_model =  gizmo.agetracers.FIRE2_yields(model_Z = 0.5, Z_scaling = True)\n",
    "yield_table =  gizmo.agetracers.construct_yield_table(FIRE2_model, \n",
    "                                                      part.ageprop.age_bins/1000.0)\n",
    "\n",
    "\n",
    "NuGrid_model       = gizmo.agetracers.NuGrid_yields(iniZ = 0.01, imf_type = 'kroupa')\n",
    "NuGrid_yield_table = gizmo.agetracers.construct_yield_table(NuGrid_model,\n",
    "                                                            part.ageprop.age_bins/1000.0)\n",
    "\n",
    "part.set_yield_table(yield_table, FIRE2_model.elements)\n",
    "part.set_initial_abundances(initial)\n",
    "part2.set_yield_table(NuGrid_yield_table, [str.lower(x) for x in NuGrid_model.elements])\n",
    "part2.set_initial_abundances(initial)\n",
    "\n",
    "#part.set_initial_abundances()\n",
    "# \n",
    "\n",
    "               \n",
    "ds = yt.load(wdir + '/output/snapshot_%03i.hdf5'%(sim_index))\n",
    "data = ds.all_data()"
   ]
  },
  {
   "cell_type": "code",
   "execution_count": 4,
   "metadata": {},
   "outputs": [
    {
     "data": {
      "text/plain": [
       "13934176"
      ]
     },
     "execution_count": 4,
     "metadata": {},
     "output_type": "execute_result"
    }
   ],
   "source": [
    "gas_O = part['gas'].prop('mass.n') - np.min(part['gas'].prop('mass.n'))\n",
    "select_enriched = gas_O > 0\n",
    "age_O = part['gas'].prop('mass.agetracer.n')\n",
    "\n",
    "np.size(gas_O[select_enriched])"
   ]
  },
  {
   "cell_type": "code",
   "execution_count": 6,
   "metadata": {},
   "outputs": [
    {
     "data": {
      "text/plain": [
       "{'metals': 0.0,\n",
       " 'helium': 0.25000048,\n",
       " 'he': 0.25000048,\n",
       " 'carbon': 3.2600323e-07,\n",
       " 'c': 3.2600323e-07,\n",
       " 'nitrogen': 1.3199946e-07,\n",
       " 'n': 1.3199946e-07,\n",
       " 'oxygen': 8.6499114e-07,\n",
       " 'o': 8.6499114e-07,\n",
       " 'neon': 2.2200248e-07,\n",
       " 'ne': 2.2200248e-07,\n",
       " 'magnesium': 9.3102e-08,\n",
       " 'mg': 9.3102e-08,\n",
       " 'silicon': 1.08001146e-07,\n",
       " 'si': 1.08001146e-07,\n",
       " 'sulphur': 6.43999e-08,\n",
       " 's': 6.43999e-08,\n",
       " 'calcium': 1.01001625e-08,\n",
       " 'ca': 1.01001625e-08,\n",
       " 'iron': 1.7299575e-07,\n",
       " 'fe': 1.7299575e-07}"
      ]
     },
     "execution_count": 6,
     "metadata": {},
     "output_type": "execute_result"
    }
   ],
   "source": [
    "part._initial_abundances"
   ]
  },
  {
   "cell_type": "code",
   "execution_count": null,
   "metadata": {},
   "outputs": [],
   "source": []
  },
  {
   "cell_type": "code",
   "execution_count": 10,
   "metadata": {},
   "outputs": [
    {
     "name": "stdout",
     "output_type": "stream",
     "text": [
      "\n",
      "# in utilities.basic.binning.get_bin_indices():\n",
      "! input value limits = [-3.87, 0.85] exceed bin limits = [-3.87, 0.85]\n",
      "\n",
      "# in utilities.basic.binning.get_bin_indices():\n",
      "! input value limits = [-3.87, 0.92] exceed bin limits = [-3.87, 0.92]\n",
      "\n",
      "# in utilities.basic.binning.get_bin_indices():\n",
      "! input value limits = [-3.87, -0.67] exceed bin limits = [-3.87, -0.67]\n"
     ]
    },
    {
     "data": {
      "text/plain": [
       "<matplotlib.legend.Legend at 0x7f8c45f7e630>"
      ]
     },
     "execution_count": 10,
     "metadata": {},
     "output_type": "execute_result"
    },
    {
     "data": {
      "image/png": "[encoded data removed]",
      "text/plain": [
       "<Figure size 864x576 with 1 Axes>"
      ]
     },
     "metadata": {
      "needs_background": "light"
     },
     "output_type": "display_data"
    }
   ],
   "source": [
    "#\n",
    "#\n",
    "# lets make a cool plot\n",
    "#\n",
    "#\n",
    "\n",
    "fig, ax = plt.subplots()\n",
    "fig.set_size_inches(12,8)\n",
    "\n",
    "\n",
    "def get_abundance(p, e1,e2, agetracer=False):\n",
    "    prefix = 'metallicity'\n",
    "    if agetracer:\n",
    "        prefix = prefix + '.agetracer'\n",
    "    if e2 != 'h':\n",
    "        propname = prefix + '.' + e1 + ' - ' + prefix + '.' + e2\n",
    "    else:\n",
    "        propname = prefix + '.' + e1\n",
    "    return p.prop(propname)\n",
    "    \n",
    "\n",
    "def lineplot(_ax, xvals, yvals, **kwargs):\n",
    "    \n",
    "    valmin = np.max([-8,np.min( xvals)])\n",
    "    valmax = np.max(xvals)\n",
    "    \n",
    "    bc    = BinClass([valmin,valmax],number= int((valmax-valmin)/0.1))\n",
    "    stats = bc.get_statistics_of_array(xvals,yvals)\n",
    "    \n",
    "    \n",
    "    \n",
    "    _ax.plot(stats['bin.mid'], stats['median'], lw = 3, **kwargs)\n",
    "    \n",
    "    fill_kwargs = kwargs\n",
    "    if 'label' in fill_kwargs:\n",
    "        del fill_kwargs['label']\n",
    "    \n",
    "    _ax.fill_between(stats['bin.mid'], stats['percent.16'], stats['percent.84'], alpha=0.2,\n",
    "                     lw = 3, **fill_kwargs)\n",
    "    \n",
    "    #print(stats['bin.mid'])\n",
    "    return\n",
    "    \n",
    "    \n",
    "lineplot(ax, get_abundance(part['star'],'fe','h'), get_abundance(part['star'],'alpha','fe'),\n",
    "             color = 'black', label=\"Simulation\")\n",
    "lineplot(ax, get_abundance(part['star'],'fe','h',True), get_abundance(part['star'],'alpha','fe',True),\n",
    "             color = 'C0', label=\"FIRE2-Post\")\n",
    "lineplot(ax, get_abundance(part2['star'],'fe','h',True), get_abundance(part2['star'],'alpha','fe',True),\n",
    "             color = 'C1', label=\"NuGrid-Post\")\n",
    "\n",
    "ax.set_xlim(-4,2)\n",
    "ax.set_ylim(-1,1)\n",
    "\n",
    "ax.set_xlabel(\"[Fe/H]\")\n",
    "ax.set_ylabel(r\"[$\\alpha$/Fe]\")\n",
    "\n",
    "ax.legend(loc='best')"
   ]
  },
  {
   "cell_type": "code",
   "execution_count": 11,
   "metadata": {},
   "outputs": [
    {
     "data": {
      "text/plain": [
       "-0.8365865280702908"
      ]
     },
     "execution_count": 11,
     "metadata": {},
     "output_type": "execute_result"
    }
   ],
   "source": [
    "np.max(get_abundance(part2['star'],'fe','h',True))"
   ]
  },
  {
   "cell_type": "code",
   "execution_count": 11,
   "metadata": {},
   "outputs": [
    {
     "name": "stdout",
     "output_type": "stream",
     "text": [
      "\n",
      "# in utilities.basic.binning.get_bin_indices():\n",
      "! input value limits = [-3.87, 0.85] exceed bin limits = [-3.87, 0.85]\n",
      "\n",
      "# in utilities.basic.binning.get_bin_indices():\n",
      "! input value limits = [-3.87, 0.92] exceed bin limits = [-3.87, 0.92]\n",
      "\n",
      "# in utilities.basic.binning.get_bin_indices():\n",
      "! input value limits = [-3.87, -0.67] exceed bin limits = [-3.87, -0.67]\n"
     ]
    },
    {
     "data": {
      "text/plain": [
       "<matplotlib.legend.Legend at 0x7f8c45debbe0>"
      ]
     },
     "execution_count": 11,
     "metadata": {},
     "output_type": "execute_result"
    },
    {
     "data": {
      "image/png": "[encoded data removed]",
      "text/plain": [
       "<Figure size 864x576 with 1 Axes>"
      ]
     },
     "metadata": {
      "needs_background": "light"
     },
     "output_type": "display_data"
    }
   ],
   "source": [
    "#\n",
    "#\n",
    "# lets make a cool plot\n",
    "#\n",
    "#\n",
    "\n",
    "fig, ax = plt.subplots()\n",
    "fig.set_size_inches(12,8)\n",
    "\n",
    "ye1,ye2 = 'o','fe'\n",
    "xe1,xe2 = 'fe','h'\n",
    "    \n",
    "lineplot(ax, get_abundance(part['star'],xe1,xe2), get_abundance(part['star'],ye1,ye2),\n",
    "             color = 'black', label=\"Simulation\")\n",
    "lineplot(ax, get_abundance(part['star'],xe1,xe2,True), get_abundance(part['star'],ye1,ye2,True),\n",
    "             color = 'C0', label=\"FIRE2-Post\")\n",
    "lineplot(ax, get_abundance(part2['star'],xe1,xe2,True), get_abundance(part2['star'],ye1,ye2,True),\n",
    "             color = 'C1', label=\"NuGrid-Post\")\n",
    "\n",
    "ax.set_xlim(-6,2)\n",
    "ax.set_ylim(-1,1)\n",
    "\n",
    "ax.set_xlabel(r\"[\" + ye1 + \"/\" + ye2 +\"]\")\n",
    "ax.set_xlabel(r\"[\" + xe1 + \"/\" + xe2 +\"]\")\n",
    "\n",
    "ax.legend(loc='best')"
   ]
  },
  {
   "cell_type": "code",
   "execution_count": 15,
   "metadata": {},
   "outputs": [
    {
     "data": {
      "text/plain": [
       "-inf"
      ]
     },
     "execution_count": 15,
     "metadata": {},
     "output_type": "execute_result"
    }
   ],
   "source": [
    "np.min(part['star'].prop('metallicity.agetracer.fe'))"
   ]
  },
  {
   "cell_type": "code",
   "execution_count": null,
   "metadata": {},
   "outputs": [],
   "source": [
    "print(mass)\n",
    "print(np.sum(x * y, axis=1))"
   ]
  },
  {
   "cell_type": "code",
   "execution_count": 6,
   "metadata": {},
   "outputs": [
    {
     "name": "stdout",
     "output_type": "stream",
     "text": [
      "N yield in SNII is less than zero due to FIRE scaling\n",
      "N yield in SNIA is negative\n",
      "Total O yield in winds is negative due to Z scaling\n"
     ]
    }
   ],
   "source": [
    "#\n",
    "# How to generate yields:\n",
    "#\n",
    "\n",
    "age_bins = yield_model.get_bins(config_file = wdir + \"/gizmo.out\", binfile = wdir+\"/age_bins.txt\")\n",
    "\n",
    "Z = 0.0002\n",
    "FIRE_Z_scaling = True\n",
    "age_is_fraction = True\n",
    "\n",
    "total_yields = yield_model.construct_yields(age_bins/1000.0, # pass bins as Gyr, Z = Z,\n",
    "                                    Z = Z, yieldtype = 'total', FIRE_Z_scaling=FIRE_Z_scaling)\n",
    "ds0     = yt.load(wdir + 'output/snapshot_000.hdf5')\n",
    "data0   = ds0.all_data()\n",
    "fields = ds0.field_list\n",
    "\n",
    "# generate\n",
    "yield_model.generate_metal_fields(ds0,_agebins=age_bins,_yields=total_yields, age_is_fraction=age_is_fraction)\n",
    "#yield_model._generate_star_metal_fields(ds0, _agebins = age_bins, _yields = total_yields)\n",
    "\n",
    "metals = np.unique([x[1] for x in ds0.field_list if ((x[0] == 'PartType0') and ('Metal' in x[1]))])\n",
    "\n",
    "initial_abundance=np.zeros(15)\n",
    "for i in np.arange(np.size(initial_abundance)):\n",
    "    z = data0[('PartType0','Metallicity_%02i'%(i))]\n",
    "    #print(\"%5.5E %5.5E %5.5E\"%(np.min(z),np.max(z),np.average(z)))\n",
    "\n",
    "    initial_abundance[i] = np.average(z).value\n",
    "    \n",
    "    #print(np.min(z).value,np.average(z).value,np.max(z).value)\n",
    "    \n",
    "logH = np.log10(ds0.hubble_constant)\n",
    "ds     = yt.load(wdir + 'output/snapshot_%003i.hdf5'%(sim_index))\n",
    "data   = ds.all_data()\n",
    "fields = ds.field_list\n",
    "\n",
    "# generate\n",
    "yield_model.generate_metal_fields(ds,_agebins=age_bins,_yields=total_yields,age_is_fraction=age_is_fraction)\n",
    "yield_model._generate_star_metal_fields(ds, _agebins = age_bins, _yields = total_yields,age_is_fraction=age_is_fraction)\n",
    "\n",
    "ptypes = np.unique([x[0] for x in ds.field_list])\n",
    "metals = np.unique([x[1] for x in ds.field_list if ((x[0] == 'PartType0') and ('Metal' in x[1]))])\n",
    "# load ds and generate yields"
   ]
  },
  {
   "cell_type": "code",
   "execution_count": null,
   "metadata": {},
   "outputs": [],
   "source": [
    "yt_answer = data[('all','PartType4_O_mass')]\n",
    "pm = part['star'].prop('mass')"
   ]
  },
  {
   "cell_type": "code",
   "execution_count": null,
   "metadata": {},
   "outputs": [],
   "source": []
  },
  {
   "cell_type": "code",
   "execution_count": null,
   "metadata": {},
   "outputs": [],
   "source": [
    "yt_answer.value #+ initial_abundance[4] * pm"
   ]
  },
  {
   "cell_type": "code",
   "execution_count": null,
   "metadata": {},
   "outputs": [],
   "source": [
    "O - initial_abundance[4]*pm"
   ]
  },
  {
   "cell_type": "code",
   "execution_count": null,
   "metadata": {},
   "outputs": [],
   "source": [
    "part['star'].prop('agetracer.mass.o')"
   ]
  },
  {
   "cell_type": "code",
   "execution_count": null,
   "metadata": {},
   "outputs": [],
   "source": [
    "mass / yt_answer.value"
   ]
  },
  {
   "cell_type": "code",
   "execution_count": null,
   "metadata": {},
   "outputs": [],
   "source": [
    "1/(part['star'].prop('mass') / (mass/yt_answer.value))"
   ]
  },
  {
   "cell_type": "code",
   "execution_count": null,
   "metadata": {},
   "outputs": [],
   "source": [
    "#for i in np.arange(16):\n",
    "    #print(np.abs((total_yields[:,i]-yield_table[:,i]) / (total_yields[:,i])))"
   ]
  },
  {
   "cell_type": "code",
   "execution_count": null,
   "metadata": {},
   "outputs": [],
   "source": [
    "yield_table[:,4]"
   ]
  },
  {
   "cell_type": "code",
   "execution_count": null,
   "metadata": {},
   "outputs": [],
   "source": [
    "yield_model.construct_yields?"
   ]
  },
  {
   "cell_type": "code",
   "execution_count": null,
   "metadata": {},
   "outputs": [],
   "source": [
    "age_bins"
   ]
  },
  {
   "cell_type": "code",
   "execution_count": null,
   "metadata": {},
   "outputs": [],
   "source": [
    "FIRE2_model.snII_yields"
   ]
  },
  {
   "cell_type": "code",
   "execution_count": null,
   "metadata": {},
   "outputs": [],
   "source": [
    "data[('PartType4','Metallicity_30')]"
   ]
  },
  {
   "cell_type": "code",
   "execution_count": null,
   "metadata": {},
   "outputs": [],
   "source": [
    "part['star']['massfraction'][:,30]"
   ]
  },
  {
   "cell_type": "code",
   "execution_count": null,
   "metadata": {},
   "outputs": [],
   "source": [
    "part['star']['massfraction'][:,30]"
   ]
  },
  {
   "cell_type": "code",
   "execution_count": null,
   "metadata": {},
   "outputs": [],
   "source": [
    "part['star']['mass'] / 1.0E10"
   ]
  },
  {
   "cell_type": "code",
   "execution_count": null,
   "metadata": {},
   "outputs": [],
   "source": []
  }
 ],
 "metadata": {
  "kernelspec": {
   "display_name": "Python 3",
   "language": "python",
   "name": "python3"
  },
  "language_info": {
   "codemirror_mode": {
    "name": "ipython",
    "version": 3
   },
   "file_extension": ".py",
   "mimetype": "text/x-python",
   "name": "python",
   "nbconvert_exporter": "python",
   "pygments_lexer": "ipython3",
   "version": "3.7.3"
  }
 },
 "nbformat": 4,
 "nbformat_minor": 2
}
